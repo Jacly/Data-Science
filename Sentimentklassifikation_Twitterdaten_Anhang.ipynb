{
 "metadata": {
  "name": "",
  "signature": "sha256:e68c0f1f3452312df93007295f788509c99f7d4c2b0ed375a550b91c6fd987da"
 },
 "nbformat": 3,
 "nbformat_minor": 0,
 "worksheets": [
  {
   "cells": [
    {
     "cell_type": "heading",
     "level": 1,
     "metadata": {},
     "source": [
      "Anhang - Vorbereitung"
     ]
    },
    {
     "cell_type": "markdown",
     "metadata": {},
     "source": [
      "\n",
      "Der Anhang zum Bericht ist in zwei Abschnitte aufgeteilt. Im ersten Abschnitt sind Vorbereitungen f\u00fcr das Klassifikationsverfahren dargestellt. im zweiten Abschnitt werden M\u00f6glichkeiten zur Modellverbesserung getestet.\n",
      "\n",
      "Die Daten f\u00fcr die Analysen sind unter folgendem Link verf\u00fcgbar:\n",
      "http://www.dropbox.com/s/qlibwflenm3zyw7/twitter_sentiment.zip"
     ]
    },
    {
     "cell_type": "heading",
     "level": 2,
     "metadata": {},
     "source": [
      "Daten einlesen und aufbereiten"
     ]
    },
    {
     "cell_type": "markdown",
     "metadata": {},
     "source": [
      "Mittels OAuth-Authentifizierung wird die Verbindung zur Twitter-API hergestellt und ein Anteil des Live-Streams der auf Twitter in Echtzeit geposteten Beitr\u00e4ge in englischer Sprache zun\u00e4chst im JSON Format abgespeichert."
     ]
    },
    {
     "cell_type": "code",
     "collapsed": false,
     "input": [
      "import json\n",
      "import nltk\n",
      "from nltk.classify import apply_features\n",
      "import pickle\n",
      "import matplotlib\n",
      "import numpy as np\n",
      "import matplotlib.pyplot as plt\n",
      "from nltk.corpus import stopwords\n",
      "import oauth2 as oauth\n",
      "import urllib2 as urllib\n",
      "import time\n",
      "%matplotlib inline\n",
      "%cd \"E:\\Dropbox\\Soziologie Master\\Quantitative Textanalysen mit Python\\Berichte\\2. Bericht\""
     ],
     "language": "python",
     "metadata": {},
     "outputs": [
      {
       "output_type": "stream",
       "stream": "stdout",
       "text": [
        "E:\\Dropbox\\Soziologie Master\\Quantitative Textanalysen mit Python\\Berichte\\2. Bericht\n"
       ]
      }
     ],
     "prompt_number": 26
    },
    {
     "cell_type": "code",
     "collapsed": false,
     "input": [
      "api_key = \"XXXX\"\n",
      "api_secret = \"XXXX\"\n",
      "access_token_key = \"XXXX\"\n",
      "access_token_secret = \"XXXX\"\n",
      "_debug = 0\n",
      "\n",
      "oauth_token    = oauth.Token(key=access_token_key, secret=access_token_secret)\n",
      "oauth_consumer = oauth.Consumer(key=api_key, secret=api_secret)\n",
      "\n",
      "signature_method_hmac_sha1 = oauth.SignatureMethod_HMAC_SHA1()\n",
      "\n",
      "http_method = \"GET\"\n",
      "\n",
      "http_handler  = urllib.HTTPHandler(debuglevel=_debug)\n",
      "https_handler = urllib.HTTPSHandler(debuglevel=_debug)\n",
      "\n",
      "def twitterreq(url, method, parameters):\n",
      "  req = oauth.Request.from_consumer_and_token(oauth_consumer,\n",
      "                                             token=oauth_token,\n",
      "                                             http_method=http_method,\n",
      "                                             http_url=url, \n",
      "                                             parameters=parameters)\n",
      "\n",
      "  req.sign_request(signature_method_hmac_sha1, oauth_consumer, oauth_token)\n",
      "\n",
      "  headers = req.to_header()\n",
      "\n",
      "  if http_method == \"POST\":\n",
      "    encoded_post_data = req.to_postdata()\n",
      "  else:\n",
      "    encoded_post_data = None\n",
      "    url = req.to_url()\n",
      "\n",
      "  opener = urllib.OpenerDirector()\n",
      "  opener.add_handler(http_handler)\n",
      "  opener.add_handler(https_handler)\n",
      "\n",
      "  response = opener.open(url, encoded_post_data)\n",
      "  return response\n",
      "\n",
      "def fetchsamples():\n",
      "  url = \"https://stream.twitter.com/1/statuses/sample.json?language=en\"\n",
      "  parameters = []\n",
      "  response = twitterreq(url, \"GET\", parameters)\n",
      "\n",
      "  with open(\"tweets.txt\", \"w\") as file:\n",
      "    timeout = time.time() + 60*15\n",
      "    for line in response:\n",
      "        if time.time() > timeout:\n",
      "            file.close()\n",
      "            break\n",
      "        uni = line.encode('utf-8')\n",
      "        file.writelines(uni.strip() + \"\\n\")\n",
      "\n",
      "if __name__ == '__main__':\n",
      "  fetchsamples()"
     ],
     "language": "python",
     "metadata": {},
     "outputs": []
    },
    {
     "cell_type": "markdown",
     "metadata": {},
     "source": [
      "Die gesammelten Tweets werden anschlie\u00dfend in einer Liste gespeichert, tokenisiert und von Stoppw\u00f6rtern und Metadaten bereinigt."
     ]
    },
    {
     "cell_type": "code",
     "collapsed": true,
     "input": [
      "with open(\"tweets.txt\") as file:\n",
      "   tweets = []\n",
      "   for line in file:\n",
      "    tweets.append(json.loads(line))\n",
      "    \n",
      "tweets = [nltk.word_tokenize(tweet[\"text\"]) for tweet in tweets]\n",
      "\n",
      "def alnum(lists):\n",
      "    for tweet in lists:\n",
      "        for token in tweet:\n",
      "            if not token.isalnum():\n",
      "                tweet.pop(tweet.index(token))\n",
      "    return lists\n",
      "\n",
      "def lower(lists):\n",
      "    for tweet in range(len(lists)):\n",
      "        for token in range(len(lists[tweet])):\n",
      "            lists[tweet][token] = lists[tweet][token].lower()\n",
      "    return lists\n",
      "\n",
      "tweets = lower(alnum(tweets))\n",
      "                \n",
      "engstopwords = stopwords.words('english')\n",
      "\n",
      "def stopwords(lists):\n",
      "    for tweet in lists:\n",
      "        for token in tweet:\n",
      "            if token in engstopwords:\n",
      "                tweet.pop(tweet.index(token))\n",
      "    return lists\n",
      "tweets = stopwords(tweets)"
     ],
     "language": "python",
     "metadata": {},
     "outputs": [],
     "prompt_number": 25
    },
    {
     "cell_type": "markdown",
     "metadata": {},
     "source": [
      "Im n\u00e4chsten Teil werden einige Analyseverfahren durchgef\u00fchrt um einen Einblick in die Struktur der Tweets zu verschaffen."
     ]
    },
    {
     "cell_type": "code",
     "collapsed": false,
     "input": [
      "def bagofwords(lists):\n",
      "    bow = []\n",
      "    for tweet in lists:\n",
      "            for word in tweet:\n",
      "                if word.isalnum():\n",
      "                    bow.append(word)\n",
      "    return bow\n",
      "                       \n",
      "bow = bagofwords(tweets)                      \n",
      "all_words = nltk.FreqDist(bow)\n",
      "\n",
      "all_words.plot(30)\n",
      "\n",
      "text = nltk.Text(bow)\n",
      "text.concordance(\"1999\", lines=20)\n",
      "text.collocations()\n",
      "\n",
      "def lexical_diversity(text):\n",
      "    return len(set(text)) / float(len(text))\n",
      "    \n",
      "print lexical_diversity(bow)"
     ],
     "language": "python",
     "metadata": {},
     "outputs": [
      {
       "metadata": {},
       "output_type": "display_data",
       "png": "[encoded data removed]",
       "text": [
        "<matplotlib.figure.Figure at 0x3135070>"
       ]
      },
      {
       "output_type": "stream",
       "stream": "stdout",
       "text": [
        "Building index...\n",
        "Displaying 20 of 26 matches:"
       ]
      },
      {
       "output_type": "stream",
       "stream": "stdout",
       "text": [
        "\n",
        "ctures helena http rt geniusfootball 1999 brazil germany 2002 brazil germany 2\n",
        "make literally aha rt geniusfootball 1999 brazil germany 2002 brazil germany 2\n",
        "unds like shit wtf rt geniusfootball 1999 brazil germany 2002 brazil germany 2\n",
        "reak silos improv http rt my 90 baby 1999 1998 1997 1996 1995 1994 1993 1992 1\n",
        "s ashinkusher064 september coming rt 1999 brazil germany 2002 brazil germany 2\n",
        "ver made love a man want bad boys rt 1999 brazil germany 2002 brazil germany 2\n",
        "xkeyftstyles dam thats soggy clit rt 1999 brazil germany 2002 brazil germany 2\n",
        " should deff come beautiful place rt 1999 brazil germany 2002 brazil germany 2\n",
        "er camp her mom meet daquan https rt 1999 brazil germany 2002 brazil germany 2\n",
        "e girls night http rt geniusfootball 1999 brazil germany 2002 brazil germany 2\n",
        "omeone understands rt geniusfootball 1999 brazil germany 2002 brazil germany 2\n",
        " because mum loves rt geniusfootball 1999 brazil germany 2002 brazil germany 2\n",
        " bless nation http rt geniusfootball 1999 brazil germany 2002 brazil germany 2\n",
        "follow would mean luke5sos xx3143 rt 1999 brazil germany 2002 brazil germany 2\n",
        " life not be dying rt geniusfootball 1999 brazil germany 2002 brazil germany 2\n",
        "ainst nottingham forest 6th february 1999 ion take nothing personal rebuzzme o\n",
        "llectionsx sofiat014 rt purpledidino 1999 brazil germany 2002 brazil germany 2\n",
        "ate city u ever to rt geniusfootball 1999 brazil germany 2002 brazil germany 2\n",
        "k ever follows you rt geniusfootball 1999 brazil germany 2002 brazil germany 2\n",
        "sers pearland tx http houston job rt 1999 brazil germany 2002 brazil germany 2\n",
        "Building collocations list\n",
        "luke hemmings; everyone retweets; ever follows; bieberannual retweet;\n",
        "want gain; retweet want; hemmings 5sos; back ever; gain follow; please\n",
        "follow; follow back; today stats; follow everyone; happy birthday;\n",
        "world cup; brazil germany; calum hood; androidgames gameinsight; last\n",
        "night; web trendy"
       ]
      },
      {
       "output_type": "stream",
       "stream": "stdout",
       "text": [
        "\n",
        "0.155293467169"
       ]
      },
      {
       "output_type": "stream",
       "stream": "stdout",
       "text": [
        "\n"
       ]
      }
     ],
     "prompt_number": 19
    },
    {
     "cell_type": "markdown",
     "metadata": {},
     "source": [
      "Im n\u00e4chsten Schritt wird eine Liste mit W\u00f6rtern und zugeh\u00f6rigen Sentimentbewertungen eingelesen. Die Liste basiert auf dem Evaluationssystem ANEW (http://arxiv.org/abs/1103.2903). Die Bewertungen der W\u00f6rter reichen von -5 (sehr negativ, z.B. \"slut\") bis +5 (sehr positiv, z.B. \"outstanding\"). F\u00fcr alle einzelnen W\u00f6rter s\u00e4mtlicher Tweets werden nun die Sentimentbewertungen zusammengerechnet. Tweets, deren Sentimente insgesamt > 0 bewertet wurden, werden als positiv eingestuft. Tweets mit einer Gesamtbewertung < 0 werden als negativ eingestuft.\n",
      "Dieses Vorgehen ist allerdings mit einigen Nachteilen verbunden. So werden Reihenfolgeeffekte von W\u00f6rter nicht ber\u00fccksichtigt und Tweets mit einer Bewertung von 0 aus weiteren Analysen ausgeschlossen. F\u00fcr einen ersten \u00dcberblick soll diese vereinfachende Belabelung jedoch gen\u00fcgen."
     ]
    },
    {
     "cell_type": "code",
     "collapsed": false,
     "input": [
      "with open(\"AFINN-111.txt\") as sentiment_file:\n",
      "    scores = {} \n",
      "    for line in sentiment_file:\n",
      "      term, score  = line.split(\"\\t\")\n",
      "      scores[term] = int(score)\n",
      "        \n",
      "sentiment_sets = [] \n",
      "sentiment_tweets = []\n",
      "\n",
      "for tweet in tweets:\n",
      "    score = 0\n",
      "    for token in tweet:\n",
      "            if token in scores:\n",
      "                score += scores[token]  \n",
      "    if score > 0:\n",
      "        sentiment_sets.append((tweet, \"positive\"))\n",
      "        sentiment_tweets.append(tweet)\n",
      "\n",
      "    elif score < 0:\n",
      "        sentiment_sets.append((tweet, \"negative\"))\n",
      "        sentiment_tweets.append(tweet)\n",
      "           \n",
      "print sentiment_tweets[40:50]"
     ],
     "language": "python",
     "metadata": {},
     "outputs": []
    },
    {
     "cell_type": "markdown",
     "metadata": {},
     "source": [
      "Die nun mit Labels versehenen Tweets werden via Pickle zur weiteren Verwendung abgespeichert."
     ]
    },
    {
     "cell_type": "code",
     "collapsed": false,
     "input": [
      "def saveobject(obj, filename):\n",
      "    with open(filename, 'wb') as output:\n",
      "        pickle.dump(obj, output, pickle.HIGHEST_PROTOCOL)\n",
      "\n",
      "saveobject(sentiment_tweets, \"sentiment_tweets\")\n",
      "saveobject(sentiment_sets, \"sentiment_sets\")"
     ],
     "language": "python",
     "metadata": {},
     "outputs": []
    },
    {
     "cell_type": "heading",
     "level": 1,
     "metadata": {},
     "source": [
      "Anhang - Cross Validation und Verbesserungen"
     ]
    },
    {
     "cell_type": "markdown",
     "metadata": {},
     "source": [
      "Beim Einsatz von Cross Validation wird versucht dem Problem einer ad\u00e4quaten Aufteilung der Gr\u00f6\u00dfe von Trainings- und Testset entgegenzuwirken. Hierf\u00fcr wird der urspr\u00fcngliche Korbus randomisiert, auf ein gro\u00dfes Traininings- und ein kleines Trainingsset aufgeteilt und in mehreren Durchg\u00e4ngen die jeweilige Modellgenauigkeit berechnet. Als Richtwert kann dann der Durchschnitt der einzelnen Genauigkeiten herangezogen werden.\n",
      "Die Ergebnisse der Cross-Validation liegen sehr nahe an der Genauigkeit des Ausgangsmodells, was aufgrund der \u00fcppigen Fallzahl nicht \u00fcberrascht."
     ]
    },
    {
     "cell_type": "code",
     "collapsed": false,
     "input": [
      "def cross_validation(n_of_testsets, runs=5):\n",
      "    for run in range(runs):\n",
      "        random.shuffle(sentiment_sets)\n",
      "        train_set = apply_features(tweet_features, sentiment_sets[n_of_testsets:])\n",
      "        test_set = apply_features(tweet_features, sentiment_sets[:n_of_testsets])\n",
      "        classifier = nltk.NaiveBayesClassifier.train(train_set)\n",
      "        print nltk.classify.accuracy(classifier, test_set)\n",
      "\n",
      "cross_validation(2000)"
     ],
     "language": "python",
     "metadata": {},
     "outputs": [
      {
       "output_type": "stream",
       "stream": "stdout",
       "text": [
        "0.8695\n",
        "0.883"
       ]
      },
      {
       "output_type": "stream",
       "stream": "stdout",
       "text": [
        "\n",
        "0.8855"
       ]
      },
      {
       "output_type": "stream",
       "stream": "stdout",
       "text": [
        "\n",
        "0.879"
       ]
      },
      {
       "output_type": "stream",
       "stream": "stdout",
       "text": [
        "\n",
        "0.8775"
       ]
      },
      {
       "output_type": "stream",
       "stream": "stdout",
       "text": [
        "\n"
       ]
      }
     ],
     "prompt_number": 28
    },
    {
     "cell_type": "markdown",
     "metadata": {},
     "source": [
      "Die Analyse der informativsten Features f\u00fcr die Klassifizierung hat in Verbindung mit einem Einblick in die gesammelten Tweets gezeigt, dass die Ergebnisse unter anderem durch Tweets eines Spamaccounts verzerrt wurden, die \u00fcber den Begriff \"gain\" im Vorfeld allesamt als positiv eingestuft wurden. Tweets des Spamaccounts \"bieberannual\" werden deshalb zun\u00e4chst entfernt und die Klassifizierung erneut durchgef\u00fchrt."
     ]
    },
    {
     "cell_type": "code",
     "collapsed": false,
     "input": [
      "import nltk\n",
      "from nltk.classify import apply_features\n",
      "import random\n",
      "import pickle\n",
      "import matplotlib\n",
      "\n",
      "def tweet_features(tweet):\n",
      "    tweet_words = set(tweet)\n",
      "    features = {}\n",
      "    for word in word_list:\n",
      "        features['contains(%s)' % word] = (word in tweet_words)\n",
      "    return features\n",
      "\n",
      "def loadobject(filename):\n",
      "    with open(filename, 'rb') as f:\n",
      "        output = pickle.load(f)\n",
      "        return output\n",
      "\n",
      "sentiment_sets = loadobject(\"sentiment_sets\")\n",
      "sentiment_tweets = loadobject(\"sentiment_tweets\")\n",
      "\n",
      "\n",
      "sentiment_sets2 = []\n",
      "for tweet,sentiment in sentiment_sets:\n",
      "   if \"bieberannual\" in tweet:\n",
      "        bieber = \"gay\"\n",
      "   else:\n",
      "      sentiment_sets2.append((tweet, sentiment))      \n",
      "            \n",
      "print len(sentiment_sets)\n",
      "print len(sentiment_sets2)\n",
      "\n",
      "\n",
      "def bagofwords(lists):\n",
      "    bow = []\n",
      "    for tweet in lists:\n",
      "            for word in tweet:\n",
      "                bow.append(word)\n",
      "    return bow\n",
      "                       \n",
      "bow = bagofwords(sentiment_tweets)                      \n",
      "all_words = nltk.FreqDist(bow)\n",
      "\n",
      "word_list = all_words.keys()[:1000]"
     ],
     "language": "python",
     "metadata": {},
     "outputs": [
      {
       "output_type": "stream",
       "stream": "stdout",
       "text": [
        "15711\n",
        "15506\n"
       ]
      }
     ],
     "prompt_number": 27
    },
    {
     "cell_type": "markdown",
     "metadata": {},
     "source": [
      "Insgesamt wurden etwa 200 Tweets von \"annualbieber\" entfernt.\n",
      "Die nachfolgende Klassifizierung ohne die \"Spamtweets\" erreicht im Vergleich zur vorherigen zwar mit 87% die selbe Genauigkeit, das Modell ist inhaltlich aber dennoch wertvoller, da die \"Spamtweets\" semantisch uninteressant sind."
     ]
    },
    {
     "cell_type": "code",
     "collapsed": false,
     "input": [
      "train_set =  apply_features(tweet_features, sentiment_sets2[:10000])\n",
      "test_set = apply_features(tweet_features, sentiment_sets2[10000:])\n",
      "\n",
      "\n",
      "classifier = nltk.NaiveBayesClassifier.train(train_set)\n",
      "print classifier.labels()\n",
      "print nltk.classify.accuracy(classifier, test_set)\n",
      "print classifier.show_most_informative_features(20)"
     ],
     "language": "python",
     "metadata": {},
     "outputs": [
      {
       "output_type": "stream",
       "stream": "stdout",
       "text": [
        "['positive', 'negative']\n",
        "0.877769705776"
       ]
      },
      {
       "output_type": "stream",
       "stream": "stdout",
       "text": [
        "\n",
        "Most Informative Features\n",
        "         contains(bitch) = True           negati : positi =    183.9 : 1.0\n",
        "          contains(fuck) = True           negati : positi =     72.5 : 1.0\n",
        "          contains(shit) = True           negati : positi =     47.0 : 1.0\n",
        "       contains(fucking) = True           negati : positi =     34.7 : 1.0\n",
        "          contains(damn) = True           negati : positi =     33.5 : 1.0\n",
        "          contains(hate) = True           negati : positi =     29.8 : 1.0\n",
        "           contains(ass) = True           negati : positi =     29.3 : 1.0\n",
        "          contains(1999) = True           negati : positi =     29.0 : 1.0\n",
        "         contains(bored) = True           negati : positi =     29.0 : 1.0\n",
        "        contains(killed) = True           negati : positi =     29.0 : 1.0\n",
        "         contains(sucks) = True           negati : positi =     26.5 : 1.0\n",
        "         contains(great) = True           positi : negati =     25.9 : 1.0\n",
        "        contains(thanks) = True           positi : negati =     25.5 : 1.0\n",
        "        contains(outfit) = True           negati : positi =     25.2 : 1.0\n",
        "      contains(favorite) = True           positi : negati =     23.6 : 1.0\n",
        "           contains(mad) = True           negati : positi =     23.5 : 1.0\n",
        "          contains(gain) = True           positi : negati =     22.9 : 1.0\n",
        "          contains(kill) = True           negati : positi =     22.8 : 1.0\n",
        "      contains(birthday) = True           positi : negati =     22.2 : 1.0\n",
        "         contains(happy) = True           positi : negati =     22.1 : 1.0\n",
        "None\n"
       ]
      }
     ],
     "prompt_number": 41
    },
    {
     "cell_type": "markdown",
     "metadata": {},
     "source": [
      "In einem letzten Versuch zur Verbesserung des Classifiers werden insgesamt 25166 ungew\u00f6hnliche W\u00f6rter aus dem Korpus entfernt. Anschlie\u00dfend wird erneut eine Klassifizierung durchgef\u00fchrt. Die Entfernung ungew\u00f6hnlicher W\u00f6rter hat hier zu einer deutlichen Verschlechterung des Modells mit einer Genauigkeit von nur noch 68% gef\u00fchrt. Dies k\u00f6nnte einerseits daran liegen, dass umgangssprachliche W\u00f6rter wie \"niggas\" mit einem hohen Sentimenterkl\u00e4rungsgehalt entfernt wurden. Aber auch technische W\u00f6rter wie \"retweet\" (retweeting wird in den meisten F\u00e4llen durchgef\u00fchrt, wenn einem Nutzer ein bestimmter Tweet gut gef\u00e4llt\") stehen nicht mehr als Feature zur Verf\u00fcgung."
     ]
    },
    {
     "cell_type": "code",
     "collapsed": false,
     "input": [
      "text_vocab = set(bow)\n",
      "english_vocab = set(w.lower() for w in nltk.corpus.words.words())\n",
      "unusual = text_vocab.difference(english_vocab)\n",
      "print len(unusual)\n",
      "\n",
      "bow_updated = []\n",
      "for word in text_vocab:\n",
      "    if word not in unusual:\n",
      "        bow_updated.append(word)\n",
      "\n",
      "all_words = nltk.FreqDist(bow_updated)\n",
      "word_list = all_words.keys()[:1000]\n",
      "train_set =  apply_features(tweet_features, sentiment_sets2[:10000])\n",
      "test_set = apply_features(tweet_features, sentiment_sets2[10000:])\n",
      "\n",
      "\n",
      "classifier = nltk.NaiveBayesClassifier.train(train_set)\n",
      "print classifier.labels()\n",
      "print nltk.classify.accuracy(classifier, test_set)\n",
      "print classifier.show_most_informative_features(20)"
     ],
     "language": "python",
     "metadata": {},
     "outputs": [
      {
       "output_type": "stream",
       "stream": "stdout",
       "text": [
        "25166\n",
        "['positive', 'negative']"
       ]
      },
      {
       "output_type": "stream",
       "stream": "stdout",
       "text": [
        "\n",
        "0.688884852888"
       ]
      },
      {
       "output_type": "stream",
       "stream": "stdout",
       "text": [
        "\n",
        "Most Informative Features\n",
        "         contains(bitch) = True           negati : positi =    183.9 : 1.0"
       ]
      },
      {
       "output_type": "stream",
       "stream": "stdout",
       "text": [
        "\n",
        "           contains(ass) = True           negati : positi =     29.3 : 1.0\n",
        "      contains(birthday) = True           positi : negati =     22.2 : 1.0\n",
        "           contains(bad) = True           negati : positi =     22.0 : 1.0\n",
        "       contains(awesome) = True           positi : negati =     20.5 : 1.0\n",
        "     contains(beautiful) = True           positi : negati =     15.3 : 1.0\n",
        "         contains(alone) = True           negati : positi =     15.2 : 1.0\n",
        "          contains(best) = True           positi : negati =     15.0 : 1.0\n",
        "       contains(amazing) = True           positi : negati =     14.7 : 1.0\n",
        "         contains(blame) = True           negati : positi =     13.5 : 1.0\n",
        "       contains(breathe) = True           negati : positi =     12.3 : 1.0\n",
        "     contains(apologize) = True           negati : positi =     11.0 : 1.0\n",
        "         contains(awful) = True           negati : positi =      9.7 : 1.0\n",
        "      contains(accident) = True           negati : positi =      9.7 : 1.0\n",
        "       contains(awkward) = True           negati : positi =      9.7 : 1.0\n",
        "      contains(annoying) = True           negati : positi =      8.9 : 1.0\n",
        "         contains(avoid) = True           negati : positi =      8.4 : 1.0\n",
        "        contains(boring) = True           negati : positi =      8.4 : 1.0\n",
        "  contains(accidentally) = True           negati : positi =      8.1 : 1.0\n",
        "           contains(age) = True           positi : negati =      7.4 : 1.0\n",
        "None\n"
       ]
      }
     ],
     "prompt_number": 13
    }
   ],
   "metadata": {}
  }
 ]
}