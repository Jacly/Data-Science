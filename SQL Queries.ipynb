{
 "cells": [
  {
   "cell_type": "markdown",
   "metadata": {},
   "source": [
    "This notebook serves as showcase for working with data stored in a (SQLite) Database and is based upon a german study assignment. The database used as well as a .CSV-file can be downloaded [here](https://www.dropbox.com/s/iislkxvmpklqqj5/sqlassignment_data.zip?dl=1)."
   ]
  },
  {
   "cell_type": "markdown",
   "metadata": {},
   "source": [
    "# Assignments"
   ]
  },
  {
   "cell_type": "markdown",
   "metadata": {},
   "source": [
    "1. Establish a connection to the local database ````laender.db````. Create lists for the table names and the included columns as well as the according data types.\n",
    "2. Open the file ````armutsgefahr.txt```` in Python. Which data scheme should most likely be presented here?\n",
    "3. Create a new table ```armutsgefahr``` in ```laender.db``` and three columns ```land, jahr, quote```. Fill these tables with the according data from ```armutsgefahr.txt```.\n",
    "4. Enter a SQL Query for all government heads for whose government the SPD party is involved. Further restrict the query for the Old Federal States.\n",
    "5. Enter a SQL Query containing the following elements.\n",
    "    * voting weight for each country\n",
    "    * absolute difference between residents in ````laender_info```` and residents in ```migrationshintergrund_2013```\n",
    "    * percentage of people with a migration background in relation to the total population\n",
    "    * restricted for countries with more than 200 residents per km$²$ but no more than 2000\n",
    "6. Replace all missing values from column ```hauptstadt``` in the table ```laender_info```."
   ]
  },
  {
   "cell_type": "markdown",
   "metadata": {},
   "source": [
    "## Assignment 1"
   ]
  },
  {
   "cell_type": "markdown",
   "metadata": {},
   "source": [
    "To work with the local SQLite database first a connection object as well as a cursor object are created."
   ]
  },
  {
   "cell_type": "code",
   "execution_count": 1,
   "metadata": {
    "collapsed": false
   },
   "outputs": [
    {
     "name": "stdout",
     "output_type": "stream",
     "text": [
      "E:\\Dropbox\\Soziologie Master\\Medium Data\\Aufgaben\\Aufgabe 1\n"
     ]
    }
   ],
   "source": [
    "%cd \"E:\\Dropbox\\Soziologie Master\\Medium Data\\Aufgaben\\Aufgabe 1\"\n",
    "import sqlite3\n",
    "\n",
    "conn = sqlite3.connect('laender.db')\n",
    "c = conn.cursor()"
   ]
  },
  {
   "cell_type": "markdown",
   "metadata": {},
   "source": [
    "Using the master table you can extract information like tables names and store them in a python list."
   ]
  },
  {
   "cell_type": "code",
   "execution_count": 2,
   "metadata": {
    "collapsed": false
   },
   "outputs": [
    {
     "name": "stdout",
     "output_type": "stream",
     "text": [
      "[u'laender_info', u'migrationshintergrund_2013']\n"
     ]
    }
   ],
   "source": [
    "tables = c.execute('''SELECT name FROM sqlite_master\\\n",
    "                      WHERE type='table' ''').fetchall()\n",
    "\n",
    "tables = [table[0] for table in tables]\n",
    "print tables"
   ]
  },
  {
   "cell_type": "markdown",
   "metadata": {},
   "source": [
    "Now columns names and according data types are saved via list comprehensions."
   ]
  },
  {
   "cell_type": "code",
   "execution_count": 3,
   "metadata": {
    "collapsed": false
   },
   "outputs": [
    {
     "data": {
      "text/plain": [
       "[(0, u'index', u'INTEGER', 0, None, 0), (1, u'land', u'TEXT', 0, None, 0)]"
      ]
     },
     "execution_count": 3,
     "metadata": {},
     "output_type": "execute_result"
    }
   ],
   "source": [
    "countries = c.execute('''PRAGMA table_info(laender_info)''').fetchall()\n",
    "countries[:2]"
   ]
  },
  {
   "cell_type": "code",
   "execution_count": 4,
   "metadata": {
    "collapsed": false
   },
   "outputs": [
    {
     "data": {
      "text/plain": [
       "[(u'index', u'INTEGER'),\n",
       " (u'land', u'TEXT'),\n",
       " (u'kuerzel', u'TEXT'),\n",
       " (u'hauptstadt', u'TEXT'),\n",
       " (u'beitrittsdatum', u'INTEGER'),\n",
       " (u'regierungschef', u'TEXT'),\n",
       " (u'regierungspartei', u'TEXT'),\n",
       " (u'stimmgewicht', u'INTEGER'),\n",
       " (u'flaeche', u'INTEGER'),\n",
       " (u'einwohner_mio', u'REAL'),\n",
       " (u'einwohner_km2', u'INTEGER'),\n",
       " (u'auslaender', u'REAL'),\n",
       " (u'sprachen', u'TEXT')]"
      ]
     },
     "execution_count": 4,
     "metadata": {},
     "output_type": "execute_result"
    }
   ],
   "source": [
    "country_cols = [(col[1], col[2]) for col in countries]\n",
    "country_cols"
   ]
  },
  {
   "cell_type": "code",
   "execution_count": 5,
   "metadata": {
    "collapsed": false
   },
   "outputs": [
    {
     "data": {
      "text/plain": [
       "[(0, u'index', u'INTEGER', 0, None, 0), (1, u'land', u'TEXT', 0, None, 0)]"
      ]
     },
     "execution_count": 5,
     "metadata": {},
     "output_type": "execute_result"
    }
   ],
   "source": [
    "migration = c.execute('''PRAGMA table_info(migrationshintergrund_2013)''').fetchall()\n",
    "migration[:2]"
   ]
  },
  {
   "cell_type": "code",
   "execution_count": 6,
   "metadata": {
    "collapsed": false
   },
   "outputs": [
    {
     "data": {
      "text/plain": [
       "[(u'index', u'INTEGER'),\n",
       " (u'land', u'TEXT'),\n",
       " (u'insgesamt', u'INTEGER'),\n",
       " (u'ohne_mh', u'INTEGER'),\n",
       " (u'mit_mh', u'INTEGER')]"
      ]
     },
     "execution_count": 6,
     "metadata": {},
     "output_type": "execute_result"
    }
   ],
   "source": [
    "mig_cols = [(col[1], col[2]) for col in migration]\n",
    "mig_cols"
   ]
  },
  {
   "cell_type": "markdown",
   "metadata": {},
   "source": [
    "In the next step all lists with column information will be combined in one single list."
   ]
  },
  {
   "cell_type": "code",
   "execution_count": 9,
   "metadata": {
    "collapsed": false
   },
   "outputs": [
    {
     "data": {
      "text/plain": [
       "[(u'index', u'INTEGER'),\n",
       " (u'land', u'TEXT'),\n",
       " (u'kuerzel', u'TEXT'),\n",
       " (u'hauptstadt', u'TEXT'),\n",
       " (u'beitrittsdatum', u'INTEGER'),\n",
       " (u'regierungschef', u'TEXT'),\n",
       " (u'regierungspartei', u'TEXT'),\n",
       " (u'stimmgewicht', u'INTEGER'),\n",
       " (u'flaeche', u'INTEGER'),\n",
       " (u'einwohner_mio', u'REAL'),\n",
       " (u'einwohner_km2', u'INTEGER'),\n",
       " (u'auslaender', u'REAL'),\n",
       " (u'sprachen', u'TEXT'),\n",
       " (u'index', u'INTEGER'),\n",
       " (u'land', u'TEXT'),\n",
       " (u'insgesamt', u'INTEGER'),\n",
       " (u'ohne_mh', u'INTEGER'),\n",
       " (u'mit_mh', u'INTEGER')]"
      ]
     },
     "execution_count": 9,
     "metadata": {},
     "output_type": "execute_result"
    }
   ],
   "source": [
    "table_cols = country_cols + mig_cols\n",
    "table_cols"
   ]
  },
  {
   "cell_type": "markdown",
   "metadata": {},
   "source": [
    "## Assignment 2"
   ]
  },
  {
   "cell_type": "markdown",
   "metadata": {},
   "source": [
    "To inspect the data structure of ```armutsgefahr.txt``` the fill will be opened in reading mode and the first part will be displayed as plain string output."
   ]
  },
  {
   "cell_type": "code",
   "execution_count": 23,
   "metadata": {
    "collapsed": false
   },
   "outputs": [
    {
     "name": "stdout",
     "output_type": "stream",
     "text": [
      "Bundesland\t2005\t2006\t2007\t2008\t2009\t2010\t2011\t2012\t2013\n",
      "Deutschland\t14.7\t14.0\t14.3\t14.4\t14.6\t14.5\t15.0\t15.0\t15.5\n",
      "Altes Bundesgebiet ohne Berlin\t13.2\t12.7\t12.9\t13.1\t13.3\t13.3\t13.8\t13.9\t14.4\n",
      "Neue Bundeslaender mit Berlin\t20.4\t19.2\t19.5\t19.5\t19.5\t19.0\t19.4\t19.6\t19.8\n",
      "Baden-Wuerttemberg\t10.6\t10.1\t10.0\t10.2\t10.9\t11.0\t11.1\t11.1\t11.4\n",
      "Bayern\t11.4\t10.9\t11.0\t10.8\t11.1\t10.8\t11.1\t11.0\t11.3\n",
      "Berlin\t19.7\t17.0\t17.\n"
     ]
    }
   ],
   "source": [
    "with open('armutsgefahr.txt', 'r') as f:\n",
    "    finput = f.read()\n",
    "    \n",
    "print finput[:400]"
   ]
  },
  {
   "cell_type": "markdown",
   "metadata": {},
   "source": [
    "It is easy to see that the file-format is most likely CSV (comma-separated-value). Tabulators are delimiters while each line represents one observation unit."
   ]
  },
  {
   "cell_type": "markdown",
   "metadata": {},
   "source": [
    "## Assignment 3"
   ]
  },
  {
   "cell_type": "markdown",
   "metadata": {},
   "source": [
    "For the third assignment a new tables is created within the database, containing columns to insert data from the CSV file."
   ]
  },
  {
   "cell_type": "code",
   "execution_count": 5,
   "metadata": {
    "collapsed": false
   },
   "outputs": [
    {
     "data": {
      "text/plain": [
       "<sqlite3.Cursor at 0x3866730>"
      ]
     },
     "execution_count": 5,
     "metadata": {},
     "output_type": "execute_result"
    }
   ],
   "source": [
    "c.execute('''CREATE TABLE armutsgefahr\n",
    "             (pid INTEGER PRIMARY KEY,\n",
    "             land TEXT,\n",
    "              jahr INTEGER,\n",
    "              quote REAL)''')"
   ]
  },

  {
   "cell_type": "markdown",
   "metadata": {},
   "source": [
    "Now, the csv file will be read line by line and converted to a python list."
   ]
  },
  {
   "cell_type": "code",
   "execution_count": 63,
   "metadata": {
    "collapsed": false
   },
   "outputs": [],
   "source": [
    "import csv\n",
    "import itertools\n",
    "\n",
    "data = []\n",
    "with open('armutzsgefahr.txt', 'r') as f:\n",
    "     reader = csv.reader(f, delimiter='\\t')\n",
    "     for row in reader:\n",
    "        data.append(row)"
   ]
  },
  {
   "cell_type": "markdown",
   "metadata": {},
   "source": [
    "The following block of code is basically munging the structure of the data to hand it over to the SQL database in the right form. Note however that there are much easier solutions for this task, e.g. in using the pandas package and its matrix features."
   ]
  },
  {
   "cell_type": "code",
   "execution_count": null,
   "metadata": {
    "collapsed": false
   },
   "outputs": [],
   "source": [
    "laender = [row[0] for row in data[1:]]\n",
    "quote = [value for row in data[1:]for value in row[1:]]\n",
    "jahre = data[0][1:]\n",
    "pid = range(1, len(laender)*len(jahre)+1)\n",
    "\n",
    "tuples = list(itertools.product(laender,jahre))\n",
    "land_dup = [val[0] for val in tuples]\n",
    "jahr_dup = [val[1] for val in tuples]\n",
    "\n",
    "combined =zip(pid, land_dup, jahr_dup, quote)"
   ]
  },
  {
   "cell_type": "markdown",
   "metadata": {},
   "source": [
    "This is how the result looks like in Python:"
   ]
  },
  {
   "cell_type": "code",
   "execution_count": 102,
   "metadata": {
    "collapsed": false
   },
   "outputs": [
    {
     "name": "stdout",
     "output_type": "stream",
     "text": [
      "19 9 171 171"
     ]
    },
    {
     "data": {
      "text/plain": [
       "[(1, 'Deutschland', '2005', '14.7'),\n",
       " (2, 'Deutschland', '2006', '14.0'),\n",
       " (3, 'Deutschland', '2007', '14.3'),\n",
       " (4, 'Deutschland', '2008', '14.4'),\n",
       " (5, 'Deutschland', '2009', '14.6'),\n",
       " (6, 'Deutschland', '2010', '14.5'),\n",
       " (7, 'Deutschland', '2011', '15.0'),\n",
       " (8, 'Deutschland', '2012', '15.0'),\n",
       " (9, 'Deutschland', '2013', '15.5'),\n",
       " (10, 'Altes Bundesgebiet ohne Berlin', '2005', '13.2'),\n",
       " (11, 'Altes Bundesgebiet ohne Berlin', '2006', '12.7')]"
      ]
     },
     "execution_count": 102,
     "metadata": {},
     "output_type": "execute_result"
    },
    {
     "name": "stdout",
     "output_type": "stream",
     "text": [
      "\n"
     ]
    }
   ],
   "source": [
    "print len(laender), len(jahre), len(laender) * len(jahre),  len(pid),\n",
    "combined[:11]"
   ]
  },

  {
   "cell_type": "markdown",
   "metadata": {},
   "source": [
    "And finally we insert into the SQL table and recheck our results."
   ]
  },
  {
   "cell_type": "code",
   "execution_count": 98,
   "metadata": {
    "collapsed": false
   },
   "outputs": [
    {
     "data": {
      "text/plain": [
       "<sqlite3.Cursor at 0x3866730>"
      ]
     },
     "execution_count": 98,
     "metadata": {},
     "output_type": "execute_result"
    }
   ],
   "source": [
    "c.executemany('''INSERT INTO armutsgefahr VALUES (?,?,?,?)''', \n",
    "              combined)"
   ]
  },
  {
   "cell_type": "code",
   "execution_count": 101,
   "metadata": {
    "collapsed": false
   },
   "outputs": [
    {
     "data": {
      "text/plain": [
       "[(1, u'Deutschland', 2005, 14.7),\n",
       " (2, u'Deutschland', 2006, 14.0),\n",
       " (3, u'Deutschland', 2007, 14.3),\n",
       " (4, u'Deutschland', 2008, 14.4),\n",
       " (5, u'Deutschland', 2009, 14.6),\n",
       " (6, u'Deutschland', 2010, 14.5),\n",
       " (7, u'Deutschland', 2011, 15.0),\n",
       " (8, u'Deutschland', 2012, 15.0),\n",
       " (9, u'Deutschland', 2013, 15.5),\n",
       " (10, u'Altes Bundesgebiet ohne Berlin', 2005, 13.2),\n",
       " (11, u'Altes Bundesgebiet ohne Berlin', 2006, 12.7)]"
      ]
     },
     "execution_count": 101,
     "metadata": {},
     "output_type": "execute_result"
    }
   ],
   "source": [
    "c.execute('''SELECT * FROM armutsgefahr''').fetchall()[:11]"
   ]
  },
  {
   "cell_type": "markdown",
   "metadata": {},
   "source": [
    "## Assignment 4"
   ]
  },

  {
   "cell_type": "markdown",
   "metadata": {},
   "source": [
    "For the correct query we need to combine information from the columns ```regierungschef, regierungspartei``` and ```land``` from the table ```laender_info```. Using the SQL command ```LIKE``` we can then search strings for contained substrings to select all government heads related to *SPD*."
   ]
  },
  {
   "cell_type": "code",
   "execution_count": 110,
   "metadata": {
    "collapsed": false
   },
   "outputs": [
    {
     "data": {
      "text/plain": [
       "[(u'Jens Boehrnsen (SPD)',),\n",
       " (u'Olaf Scholz (SPD)',),\n",
       " (u'Klaus Wowereit (SPD)',),\n",
       " (u'Stanislaw Tillich (CDU)',),\n",
       " (u'Reiner Haseloff (CDU)',),\n",
       " (u'Annegret Kramp-Karrenbauer (CDU)',),\n",
       " (u'Torsten Albig (SPD)',),\n",
       " (u'Bodo Ramelow (Die Linke)',),\n",
       " (u'Malu Dreyer (SPD)',),\n",
       " (u'Erwin Sellering (SPD)',),\n",
       " (u'Dietmar Woidke (SPD)',),\n",
       " (u'Hannelore Kraft (SPD)',),\n",
       " (u'Winfried Kretschmann (Gruene)',),\n",
       " (u'Stephan Weil (SPD)',)]"
      ]
     },
     "execution_count": 110,
     "metadata": {},
     "output_type": "execute_result"
    }
   ],
   "source": [
    "c.execute('''SELECT regierungschef FROM laender_info\n",
    "             WHERE regierungspartei LIKE '%SPD%' ''').fetchall()"
   ]
  },
  {
   "cell_type": "markdown",
   "metadata": {},
   "source": [
    "To further restrict the query for the Old Federal States there are several options. Here we will simply hand over a list to the SQL Query and exclude all data matching the list inputs."
   ]
  },
  {
   "cell_type": "code",
   "execution_count": 153,
   "metadata": {
    "collapsed": false
   },
   "outputs": [],
   "source": [
    "ost = ['Brandenburg', 'Berlin', 'Thueringen', 'Sachsen',\\\n",
    "       'Sachsen-Anhalt', 'Mecklenburg-Vorpommern']"
   ]
  },
  {
   "cell_type": "code",
   "execution_count": 154,
   "metadata": {
    "collapsed": false
   },
   "outputs": [
    {
     "data": {
      "text/plain": [
       "[(u'Jens Boehrnsen (SPD)',),\n",
       " (u'Olaf Scholz (SPD)',),\n",
       " (u'Annegret Kramp-Karrenbauer (CDU)',),\n",
       " (u'Torsten Albig (SPD)',),\n",
       " (u'Malu Dreyer (SPD)',),\n",
       " (u'Hannelore Kraft (SPD)',),\n",
       " (u'Winfried Kretschmann (Gruene)',),\n",
       " (u'Stephan Weil (SPD)',)]"
      ]
     },
     "execution_count": 154,
     "metadata": {},
     "output_type": "execute_result"
    }
   ],
   "source": [
    "c.execute('''SELECT regierungschef FROM laender_info \\\n",
    "             WHERE regierungspartei LIKE '%SPD%'\\\n",
    "             AND land NOT IN (?, ?, ?, ?, ?, ?) ''', ost).fetchall()"
   ]
  },
  {
   "cell_type": "markdown",
   "metadata": {},
   "source": [
    "##  Assignment 5"
   ]
  },
  {
   "cell_type": "markdown",
   "metadata": {},
   "source": [
    "For the larger SQL query information from several columns needs to be combined:\n",
    "\n",
    "    stimmgewicht    \n",
    "    insgesamt\n",
    "    ohne_mh    \n",
    "    mit_mh    \n",
    "    einwohner_mio    \n",
    "    einwohner_km2    "
   ]
  },
  {
   "cell_type": "markdown",
   "metadata": {},
   "source": [
    "Additionally, the code below indicates various scalings: population is listed in billions in table ```laender_info``` and in thousands in ```migrationshintergrund_2013```. We have to consider this for the query."
   ]
  },
  {
   "cell_type": "code",
   "execution_count": 104,
   "metadata": {
    "collapsed": false
   },
   "outputs": [
    {
     "data": {
      "text/plain": [
       "[(u'Bremen', 3, 0.652, 655, 468, 187, 1576),\n",
       " (u'Hamburg', 3, 2.0, 1744, 1239, 504, 2366),\n",
       " (u'Berlin', 4, 3.0, 3396, 2493, 903, 3829),\n",
       " (u'Sachsen', 4, 4.0, 4044, 3854, 190, 225),\n",
       " (u'Sachsen-Anhalt', 4, 2.0, 2250, 2152, 97, 114),\n",
       " (u'Saarland', 3, 0.998, 992, 821, 172, 396),\n",
       " (u'Bayern', 6, 12.0, 12556, 9967, 2589, 178),\n",
       " (u'Schleswig-Holstein', 4, 3.0, 2810, 2458, 352, 179),\n",
       " (u'Thueringen', 4, 2.0, 2164, 2076, 88, 138),\n",
       " (u'Rheinland-Pfalz', 4, 4.0, 3991, 3168, 823, 202),\n",
       " (u'Hessen', 5, 6.0, 6029, 4351, 1678, 287),\n",
       " (u'Mecklenburg-Vorpommern', 3, 2.0, 1598, 1527, 71, 71),\n",
       " (u'Brandenburg', 4, 2.0, 2448, 2326, 123, 85),\n",
       " (u'Nordrhein-Westfalen', 6, 18.0, 17553, 13137, 4415, 523),\n",
       " (u'Baden-Wuerttemberg', 6, 11.0, 10599, 7644, 2955, 301),\n",
       " (u'Niedersachsen', 6, 8.0, 7784, 6393, 1391, 166)]"
      ]
     },
     "execution_count": 104,
     "metadata": {},
     "output_type": "execute_result"
    }
   ],
   "source": [
    "c.execute('''\n",
    "    SELECT laender_info.land, stimmgewicht, einwohner_mio, \\\n",
    "    insgesamt, ohne_mh, mit_mh, einwohner_km2 \\\n",
    "    FROM laender_info \\\n",
    "    NATURAL JOIN migrationshintergrund_2013 ''').fetchall()"
   ]
  },
  {
   "cell_type": "markdown",
   "metadata": {},
   "source": [
    "Combining all elements results in the following query, which also includes a ```CAST``` function to convert data types for proper percentages."
   ]
  },
  {
   "cell_type": "code",
   "execution_count": 26,
   "metadata": {
    "collapsed": false
   },
   "outputs": [
    {
     "data": {
      "text/plain": [
       "[(3, u'Bremen', 3.0, 0.28549618320610687),\n",
       " (4, u'Sachsen', 44.0, 0.046983184965380814),\n",
       " (3, u'Saarland', 6.0, 0.17338709677419356),\n",
       " (4, u'Rheinland-Pfalz', 9.0, 0.20621398145828113),\n",
       " (5, u'Hessen', 29.0, 0.2783214463426771),\n",
       " (6, u'Nordrhein-Westfalen', 447.0, 0.25152395601891414),\n",
       " (6, u'Baden-Wuerttemberg', 401.0, 0.27879988678177187)]"
      ]
     },
     "execution_count": 26,
     "metadata": {},
     "output_type": "execute_result"
    }
   ],
   "source": [
    "c.execute('''\n",
    "    SELECT stimmgewicht, laender_info.land, ABS(einwohner_mio * 1000 - insgesamt),\\\n",
    "    CAST(mit_mh AS REAL)/insgesamt from laender_info \\\n",
    "    NATURAL JOIN migrationshintergrund_2013 \\\n",
    "    WHERE einwohner_km2 > 200 AND einwohner_km2 <= 2000 \\ ''').fetchall()"
   ]
  },
  {
   "cell_type": "markdown",
   "metadata": {},
   "source": [
    "The high differences in total population for two regions indicate different roundings for the number of residents in billions."
   ]
  },
  {
   "cell_type": "markdown",
   "metadata": {},
   "source": [
    "## Assignment 6"
   ]
  },
  {
   "cell_type": "markdown",
   "metadata": {},
   "source": [
    "For the last assignment we inspect missing values by checking ```NULL``` values within the column ```hauptstadt```."
   ]
  },
  {
   "cell_type": "code",
   "execution_count": 2,
   "metadata": {
    "collapsed": false
   },
   "outputs": [],
   "source": [
    "staedte = [stadt[0] for stadt in c.execute\\\n",
    "        ('''SELECT land FROM laender_info WHERE hauptstadt IS NULL ''')]"
   ]
  },
  {
   "cell_type": "code",
   "execution_count": 3,
   "metadata": {
    "collapsed": false
   },
   "outputs": [
    {
     "data": {
      "text/plain": [
       "[u'Hamburg', u'Berlin']"
      ]
     },
     "execution_count": 3,
     "metadata": {},
     "output_type": "execute_result"
    }
   ],
   "source": [
    "staedte"
   ]
  },
  {
   "cell_type": "markdown",
   "metadata": {},
   "source": [
    "The two misssing values appear for the city states *Berlin* and *Hamburg*. We can easily insert valid entries by using the information from the ```land``` column."
   ]
  },
  {
   "cell_type": "code",
   "execution_count": 4,
   "metadata": {
    "collapsed": false
   },
   "outputs": [
    {
     "data": {
      "text/plain": [
       "<sqlite3.Cursor at 0x3899730>"
      ]
     },
     "execution_count": 4,
     "metadata": {},
     "output_type": "execute_result"
    }
   ],
   "source": [
    "c.executescript('''\n",
    "    UPDATE laender_info SET hauptstadt='Hamburg' \\\n",
    "    WHERE land =='Hamburg';\n",
    "    UPDATE laender_info SET hauptstadt='Berlin' \\\n",
    "    WHERE land =='Berlin' ''')"
   ]
  },
  {
   "cell_type": "markdown",
   "metadata": {},
   "source": [
    "To verify our results we again select the ```hauptstadt``` values. Everything worked as intended."
   ]
  },
  {
   "cell_type": "code",
   "execution_count": 5,
   "metadata": {
    "collapsed": false
   },
   "outputs": [
    {
     "data": {
      "text/plain": [
       "[(u'Hamburg',), (u'Berlin',)]"
      ]
     },
     "execution_count": 5,
     "metadata": {},
     "output_type": "execute_result"
    }
   ],
   "source": [
    "c.execute('''SELECT hauptstadt FROM laender_info\\\n",
    "             WHERE land IN (?,?) ''', staedte).fetchall()"
   ]
  }
 ],
 "metadata": {
  "kernelspec": {
   "display_name": "Python 2",
   "language": "python",
   "name": "python2"
  },
  "language_info": {
   "codemirror_mode": {
    "name": "ipython",
    "version": 2
   },
   "file_extension": ".py",
   "mimetype": "text/x-python",
   "name": "python",
   "nbconvert_exporter": "python",
   "pygments_lexer": "ipython2",
   "version": "2.7.9"
  }
 },
 "nbformat": 4,
 "nbformat_minor": 0
}
