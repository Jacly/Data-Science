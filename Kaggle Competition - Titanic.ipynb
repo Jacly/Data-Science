{
 "metadata": {
  "name": "",
  "signature": "sha256:e0bb63910f6d18e43a6b99e4c55cab2f9acbafb9ce9464fc72c05e473c249e79"
 },
 "nbformat": 3,
 "nbformat_minor": 0,
 "worksheets": [
  {
   "cells": [
    {
     "cell_type": "heading",
     "level": 1,
     "metadata": {},
     "source": [
      "Survivor Prediction"
     ]
    },
    {
     "cell_type": "markdown",
     "metadata": {},
     "source": [
      " http://www.kaggle.com/c/titanic-gettingStarted"
     ]
    },
    {
     "cell_type": "code",
     "collapsed": false,
     "input": [
      "%cd \"/mnt/9EEE0A01EE09D307/Dropbox/kasus/workspace/github/datascience/\\\n",
      "Data-Science-Portfolio/Data-Science-Portfolio/Kaggle Titanic Competition\"\n",
      "\n",
      "import ggplot\n",
      "import pandas\n",
      "import csv\n",
      "import sklearn\n",
      "import ggplot\n",
      "import nltk\n",
      "import statsmodels.api as sm"
     ],
     "language": "python",
     "metadata": {},
     "outputs": [
      {
       "output_type": "stream",
       "stream": "stdout",
       "text": [
        "/mnt/9EEE0A01EE09D307/Dropbox/kasus/workspace/github/datascience/Data-Science-Portfolio/Data-Science-Portfolio/Kaggle Titanic Competition\n"
       ]
      }
     ],
     "prompt_number": 927
    },
    {
     "cell_type": "code",
     "collapsed": false,
     "input": [
      "df = pandas.read_csv('train.csv', header=0)"
     ],
     "language": "python",
     "metadata": {},
     "outputs": [],
     "prompt_number": 928
    },
    {
     "cell_type": "heading",
     "level": 2,
     "metadata": {},
     "source": [
      "Inspect Data & Pandas Shenanigans"
     ]
    },
    {
     "cell_type": "markdown",
     "metadata": {},
     "source": [
      "This part is not important for the model training and just explores the dataset via pandas"
     ]
    },
    {
     "cell_type": "code",
     "collapsed": false,
     "input": [
      "df.info()"
     ],
     "language": "python",
     "metadata": {},
     "outputs": [
      {
       "output_type": "stream",
       "stream": "stdout",
       "text": [
        "<class 'pandas.core.frame.DataFrame'>\n",
        "Int64Index: 891 entries, 0 to 890\n",
        "Data columns (total 12 columns):\n",
        "PassengerId    891 non-null int64\n",
        "Survived       891 non-null int64\n",
        "Pclass         891 non-null int64\n",
        "Name           891 non-null object\n",
        "Sex            891 non-null object\n",
        "Age            714 non-null float64\n",
        "SibSp          891 non-null int64\n",
        "Parch          891 non-null int64\n",
        "Ticket         891 non-null object\n",
        "Fare           891 non-null float64\n",
        "Cabin          204 non-null object\n",
        "Embarked       889 non-null object\n",
        "dtypes: float64(2), int64(5), object(5)"
       ]
      }
     ],
     "prompt_number": 929
    },
    {
     "cell_type": "code",
     "collapsed": false,
     "input": [
      "df.head(5)"
     ],
     "language": "python",
     "metadata": {},
     "outputs": [
      {
       "html": [
        "<div style=\"max-height:1000px;max-width:1500px;overflow:auto;\">\n",
        "<table border=\"1\" class=\"dataframe\">\n",
        "  <thead>\n",
        "    <tr style=\"text-align: right;\">\n",
        "      <th></th>\n",
        "      <th>PassengerId</th>\n",
        "      <th>Survived</th>\n",
        "      <th>Pclass</th>\n",
        "      <th>Name</th>\n",
        "      <th>Sex</th>\n",
        "      <th>Age</th>\n",
        "      <th>SibSp</th>\n",
        "      <th>Parch</th>\n",
        "      <th>Ticket</th>\n",
        "      <th>Fare</th>\n",
        "      <th>Cabin</th>\n",
        "      <th>Embarked</th>\n",
        "    </tr>\n",
        "  </thead>\n",
        "  <tbody>\n",
        "    <tr>\n",
        "      <th>0</th>\n",
        "      <td> 1</td>\n",
        "      <td> 0</td>\n",
        "      <td> 3</td>\n",
        "      <td>                           Braund, Mr. Owen Harris</td>\n",
        "      <td>   male</td>\n",
        "      <td> 22</td>\n",
        "      <td> 1</td>\n",
        "      <td> 0</td>\n",
        "      <td>        A/5 21171</td>\n",
        "      <td>  7.2500</td>\n",
        "      <td>  NaN</td>\n",
        "      <td> S</td>\n",
        "    </tr>\n",
        "    <tr>\n",
        "      <th>1</th>\n",
        "      <td> 2</td>\n",
        "      <td> 1</td>\n",
        "      <td> 1</td>\n",
        "      <td> Cumings, Mrs. John Bradley (Florence Briggs Th...</td>\n",
        "      <td> female</td>\n",
        "      <td> 38</td>\n",
        "      <td> 1</td>\n",
        "      <td> 0</td>\n",
        "      <td>         PC 17599</td>\n",
        "      <td> 71.2833</td>\n",
        "      <td>  C85</td>\n",
        "      <td> C</td>\n",
        "    </tr>\n",
        "    <tr>\n",
        "      <th>2</th>\n",
        "      <td> 3</td>\n",
        "      <td> 1</td>\n",
        "      <td> 3</td>\n",
        "      <td>                            Heikkinen, Miss. Laina</td>\n",
        "      <td> female</td>\n",
        "      <td> 26</td>\n",
        "      <td> 0</td>\n",
        "      <td> 0</td>\n",
        "      <td> STON/O2. 3101282</td>\n",
        "      <td>  7.9250</td>\n",
        "      <td>  NaN</td>\n",
        "      <td> S</td>\n",
        "    </tr>\n",
        "    <tr>\n",
        "      <th>3</th>\n",
        "      <td> 4</td>\n",
        "      <td> 1</td>\n",
        "      <td> 1</td>\n",
        "      <td>      Futrelle, Mrs. Jacques Heath (Lily May Peel)</td>\n",
        "      <td> female</td>\n",
        "      <td> 35</td>\n",
        "      <td> 1</td>\n",
        "      <td> 0</td>\n",
        "      <td>           113803</td>\n",
        "      <td> 53.1000</td>\n",
        "      <td> C123</td>\n",
        "      <td> S</td>\n",
        "    </tr>\n",
        "    <tr>\n",
        "      <th>4</th>\n",
        "      <td> 5</td>\n",
        "      <td> 0</td>\n",
        "      <td> 3</td>\n",
        "      <td>                          Allen, Mr. William Henry</td>\n",
        "      <td>   male</td>\n",
        "      <td> 35</td>\n",
        "      <td> 0</td>\n",
        "      <td> 0</td>\n",
        "      <td>           373450</td>\n",
        "      <td>  8.0500</td>\n",
        "      <td>  NaN</td>\n",
        "      <td> S</td>\n",
        "    </tr>\n",
        "  </tbody>\n",
        "</table>\n",
        "</div>"
       ],
       "metadata": {},
       "output_type": "pyout",
       "prompt_number": 930,
       "text": [
        "   PassengerId  Survived  Pclass  \\\n",
        "0            1         0       3   \n",
        "1            2         1       1   \n",
        "2            3         1       3   \n",
        "3            4         1       1   \n",
        "4            5         0       3   \n",
        "\n",
        "                                                Name     Sex  Age  SibSp  \\\n",
        "0                            Braund, Mr. Owen Harris    male   22      1   \n",
        "1  Cumings, Mrs. John Bradley (Florence Briggs Th...  female   38      1   \n",
        "2                             Heikkinen, Miss. Laina  female   26      0   \n",
        "3       Futrelle, Mrs. Jacques Heath (Lily May Peel)  female   35      1   \n",
        "4                           Allen, Mr. William Henry    male   35      0   \n",
        "\n",
        "   Parch            Ticket     Fare Cabin Embarked  \n",
        "0      0         A/5 21171   7.2500   NaN        S  \n",
        "1      0          PC 17599  71.2833   C85        C  \n",
        "2      0  STON/O2. 3101282   7.9250   NaN        S  \n",
        "3      0            113803  53.1000  C123        S  \n",
        "4      0            373450   8.0500   NaN        S  "
       ]
      }
     ],
     "prompt_number": 930
    },
    {
     "cell_type": "code",
     "collapsed": false,
     "input": [
      "df.dtypes"
     ],
     "language": "python",
     "metadata": {},
     "outputs": [
      {
       "metadata": {},
       "output_type": "pyout",
       "prompt_number": 931,
       "text": [
        "PassengerId      int64\n",
        "Survived         int64\n",
        "Pclass           int64\n",
        "Name            object\n",
        "Sex             object\n",
        "Age            float64\n",
        "SibSp            int64\n",
        "Parch            int64\n",
        "Ticket          object\n",
        "Fare           float64\n",
        "Cabin           object\n",
        "Embarked        object\n",
        "dtype: object"
       ]
      }
     ],
     "prompt_number": 931
    },
    {
     "cell_type": "code",
     "collapsed": false,
     "input": [
      "df['Age'].max()"
     ],
     "language": "python",
     "metadata": {},
     "outputs": [
      {
       "metadata": {},
       "output_type": "pyout",
       "prompt_number": 932,
       "text": [
        "80.0"
       ]
      }
     ],
     "prompt_number": 932
    },
    {
     "cell_type": "code",
     "collapsed": false,
     "input": [
      "dsorted = df.sort(['Age'], ascending=False, na_position=\"last\")"
     ],
     "language": "python",
     "metadata": {},
     "outputs": [],
     "prompt_number": 933
    },
    {
     "cell_type": "code",
     "collapsed": false,
     "input": [
      "dsorted.head(5)"
     ],
     "language": "python",
     "metadata": {},
     "outputs": [
      {
       "html": [
        "<div style=\"max-height:1000px;max-width:1500px;overflow:auto;\">\n",
        "<table border=\"1\" class=\"dataframe\">\n",
        "  <thead>\n",
        "    <tr style=\"text-align: right;\">\n",
        "      <th></th>\n",
        "      <th>PassengerId</th>\n",
        "      <th>Survived</th>\n",
        "      <th>Pclass</th>\n",
        "      <th>Name</th>\n",
        "      <th>Sex</th>\n",
        "      <th>Age</th>\n",
        "      <th>SibSp</th>\n",
        "      <th>Parch</th>\n",
        "      <th>Ticket</th>\n",
        "      <th>Fare</th>\n",
        "      <th>Cabin</th>\n",
        "      <th>Embarked</th>\n",
        "    </tr>\n",
        "  </thead>\n",
        "  <tbody>\n",
        "    <tr>\n",
        "      <th>630</th>\n",
        "      <td> 631</td>\n",
        "      <td> 1</td>\n",
        "      <td> 1</td>\n",
        "      <td> Barkworth, Mr. Algernon Henry Wilson</td>\n",
        "      <td> male</td>\n",
        "      <td> 80.0</td>\n",
        "      <td> 0</td>\n",
        "      <td> 0</td>\n",
        "      <td>    27042</td>\n",
        "      <td> 30.0000</td>\n",
        "      <td> A23</td>\n",
        "      <td> S</td>\n",
        "    </tr>\n",
        "    <tr>\n",
        "      <th>851</th>\n",
        "      <td> 852</td>\n",
        "      <td> 0</td>\n",
        "      <td> 3</td>\n",
        "      <td>                  Svensson, Mr. Johan</td>\n",
        "      <td> male</td>\n",
        "      <td> 74.0</td>\n",
        "      <td> 0</td>\n",
        "      <td> 0</td>\n",
        "      <td>   347060</td>\n",
        "      <td>  7.7750</td>\n",
        "      <td> NaN</td>\n",
        "      <td> S</td>\n",
        "    </tr>\n",
        "    <tr>\n",
        "      <th>493</th>\n",
        "      <td> 494</td>\n",
        "      <td> 0</td>\n",
        "      <td> 1</td>\n",
        "      <td>              Artagaveytia, Mr. Ramon</td>\n",
        "      <td> male</td>\n",
        "      <td> 71.0</td>\n",
        "      <td> 0</td>\n",
        "      <td> 0</td>\n",
        "      <td> PC 17609</td>\n",
        "      <td> 49.5042</td>\n",
        "      <td> NaN</td>\n",
        "      <td> C</td>\n",
        "    </tr>\n",
        "    <tr>\n",
        "      <th>96 </th>\n",
        "      <td>  97</td>\n",
        "      <td> 0</td>\n",
        "      <td> 1</td>\n",
        "      <td>            Goldschmidt, Mr. George B</td>\n",
        "      <td> male</td>\n",
        "      <td> 71.0</td>\n",
        "      <td> 0</td>\n",
        "      <td> 0</td>\n",
        "      <td> PC 17754</td>\n",
        "      <td> 34.6542</td>\n",
        "      <td>  A5</td>\n",
        "      <td> C</td>\n",
        "    </tr>\n",
        "    <tr>\n",
        "      <th>116</th>\n",
        "      <td> 117</td>\n",
        "      <td> 0</td>\n",
        "      <td> 3</td>\n",
        "      <td>                 Connors, Mr. Patrick</td>\n",
        "      <td> male</td>\n",
        "      <td> 70.5</td>\n",
        "      <td> 0</td>\n",
        "      <td> 0</td>\n",
        "      <td>   370369</td>\n",
        "      <td>  7.7500</td>\n",
        "      <td> NaN</td>\n",
        "      <td> Q</td>\n",
        "    </tr>\n",
        "  </tbody>\n",
        "</table>\n",
        "</div>"
       ],
       "metadata": {},
       "output_type": "pyout",
       "prompt_number": 934,
       "text": [
        "     PassengerId  Survived  Pclass                                  Name  \\\n",
        "630          631         1       1  Barkworth, Mr. Algernon Henry Wilson   \n",
        "851          852         0       3                   Svensson, Mr. Johan   \n",
        "493          494         0       1               Artagaveytia, Mr. Ramon   \n",
        "96            97         0       1             Goldschmidt, Mr. George B   \n",
        "116          117         0       3                  Connors, Mr. Patrick   \n",
        "\n",
        "      Sex   Age  SibSp  Parch    Ticket     Fare Cabin Embarked  \n",
        "630  male  80.0      0      0     27042  30.0000   A23        S  \n",
        "851  male  74.0      0      0    347060   7.7750   NaN        S  \n",
        "493  male  71.0      0      0  PC 17609  49.5042   NaN        C  \n",
        "96   male  71.0      0      0  PC 17754  34.6542    A5        C  \n",
        "116  male  70.5      0      0    370369   7.7500   NaN        Q  "
       ]
      }
     ],
     "prompt_number": 934
    },
    {
     "cell_type": "code",
     "collapsed": false,
     "input": [
      "pclass = df.groupby('Pclass')\n",
      "\n",
      "# Apply the sum function to the groupby object\n",
      "dfg = pclass.sum()\n",
      "dfg"
     ],
     "language": "python",
     "metadata": {},
     "outputs": [
      {
       "html": [
        "<div style=\"max-height:1000px;max-width:1500px;overflow:auto;\">\n",
        "<table border=\"1\" class=\"dataframe\">\n",
        "  <thead>\n",
        "    <tr style=\"text-align: right;\">\n",
        "      <th></th>\n",
        "      <th>PassengerId</th>\n",
        "      <th>Survived</th>\n",
        "      <th>Age</th>\n",
        "      <th>SibSp</th>\n",
        "      <th>Parch</th>\n",
        "      <th>Fare</th>\n",
        "    </tr>\n",
        "    <tr>\n",
        "      <th>Pclass</th>\n",
        "      <th></th>\n",
        "      <th></th>\n",
        "      <th></th>\n",
        "      <th></th>\n",
        "      <th></th>\n",
        "      <th></th>\n",
        "    </tr>\n",
        "  </thead>\n",
        "  <tbody>\n",
        "    <tr>\n",
        "      <th>1</th>\n",
        "      <td>  99705</td>\n",
        "      <td> 136</td>\n",
        "      <td> 7111.42</td>\n",
        "      <td>  90</td>\n",
        "      <td>  77</td>\n",
        "      <td> 18177.4125</td>\n",
        "    </tr>\n",
        "    <tr>\n",
        "      <th>2</th>\n",
        "      <td>  82056</td>\n",
        "      <td>  87</td>\n",
        "      <td> 5168.83</td>\n",
        "      <td>  74</td>\n",
        "      <td>  70</td>\n",
        "      <td>  3801.8417</td>\n",
        "    </tr>\n",
        "    <tr>\n",
        "      <th>3</th>\n",
        "      <td> 215625</td>\n",
        "      <td> 119</td>\n",
        "      <td> 8924.92</td>\n",
        "      <td> 302</td>\n",
        "      <td> 193</td>\n",
        "      <td>  6714.6951</td>\n",
        "    </tr>\n",
        "  </tbody>\n",
        "</table>\n",
        "</div>"
       ],
       "metadata": {},
       "output_type": "pyout",
       "prompt_number": 935,
       "text": [
        "        PassengerId  Survived      Age  SibSp  Parch        Fare\n",
        "Pclass                                                          \n",
        "1             99705       136  7111.42     90     77  18177.4125\n",
        "2             82056        87  5168.83     74     70   3801.8417\n",
        "3            215625       119  8924.92    302    193   6714.6951"
       ]
      }
     ],
     "prompt_number": 935
    },
    {
     "cell_type": "heading",
     "level": 4,
     "metadata": {},
     "source": [
      "Inspecting Name-Attribute"
     ]
    },
    {
     "cell_type": "code",
     "collapsed": false,
     "input": [
      "df['Name'] = df.Name.apply(lambda x: x.lower())"
     ],
     "language": "python",
     "metadata": {},
     "outputs": [],
     "prompt_number": 936
    },
    {
     "cell_type": "code",
     "collapsed": false,
     "input": [
      "df.tail(3)"
     ],
     "language": "python",
     "metadata": {},
     "outputs": [
      {
       "html": [
        "<div style=\"max-height:1000px;max-width:1500px;overflow:auto;\">\n",
        "<table border=\"1\" class=\"dataframe\">\n",
        "  <thead>\n",
        "    <tr style=\"text-align: right;\">\n",
        "      <th></th>\n",
        "      <th>PassengerId</th>\n",
        "      <th>Survived</th>\n",
        "      <th>Pclass</th>\n",
        "      <th>Name</th>\n",
        "      <th>Sex</th>\n",
        "      <th>Age</th>\n",
        "      <th>SibSp</th>\n",
        "      <th>Parch</th>\n",
        "      <th>Ticket</th>\n",
        "      <th>Fare</th>\n",
        "      <th>Cabin</th>\n",
        "      <th>Embarked</th>\n",
        "    </tr>\n",
        "  </thead>\n",
        "  <tbody>\n",
        "    <tr>\n",
        "      <th>888</th>\n",
        "      <td> 889</td>\n",
        "      <td> 0</td>\n",
        "      <td> 3</td>\n",
        "      <td> johnston, miss. catherine helen \"carrie\"</td>\n",
        "      <td> female</td>\n",
        "      <td>NaN</td>\n",
        "      <td> 1</td>\n",
        "      <td> 2</td>\n",
        "      <td> W./C. 6607</td>\n",
        "      <td> 23.45</td>\n",
        "      <td>  NaN</td>\n",
        "      <td> S</td>\n",
        "    </tr>\n",
        "    <tr>\n",
        "      <th>889</th>\n",
        "      <td> 890</td>\n",
        "      <td> 1</td>\n",
        "      <td> 1</td>\n",
        "      <td>                    behr, mr. karl howell</td>\n",
        "      <td>   male</td>\n",
        "      <td> 26</td>\n",
        "      <td> 0</td>\n",
        "      <td> 0</td>\n",
        "      <td>     111369</td>\n",
        "      <td> 30.00</td>\n",
        "      <td> C148</td>\n",
        "      <td> C</td>\n",
        "    </tr>\n",
        "    <tr>\n",
        "      <th>890</th>\n",
        "      <td> 891</td>\n",
        "      <td> 0</td>\n",
        "      <td> 3</td>\n",
        "      <td>                      dooley, mr. patrick</td>\n",
        "      <td>   male</td>\n",
        "      <td> 32</td>\n",
        "      <td> 0</td>\n",
        "      <td> 0</td>\n",
        "      <td>     370376</td>\n",
        "      <td>  7.75</td>\n",
        "      <td>  NaN</td>\n",
        "      <td> Q</td>\n",
        "    </tr>\n",
        "  </tbody>\n",
        "</table>\n",
        "</div>"
       ],
       "metadata": {},
       "output_type": "pyout",
       "prompt_number": 937,
       "text": [
        "     PassengerId  Survived  Pclass                                      Name  \\\n",
        "888          889         0       3  johnston, miss. catherine helen \"carrie\"   \n",
        "889          890         1       1                     behr, mr. karl howell   \n",
        "890          891         0       3                       dooley, mr. patrick   \n",
        "\n",
        "        Sex  Age  SibSp  Parch      Ticket   Fare Cabin Embarked  \n",
        "888  female  NaN      1      2  W./C. 6607  23.45   NaN        S  \n",
        "889    male   26      0      0      111369  30.00  C148        C  \n",
        "890    male   32      0      0      370376   7.75   NaN        Q  "
       ]
      }
     ],
     "prompt_number": 937
    },
    {
     "cell_type": "code",
     "collapsed": false,
     "input": [
      "df['Name'] = df.Name.apply(lambda x: nltk.word_tokenize(x))"
     ],
     "language": "python",
     "metadata": {},
     "outputs": [],
     "prompt_number": 938
    },
    {
     "cell_type": "code",
     "collapsed": false,
     "input": [
      "df.tail(3)"
     ],
     "language": "python",
     "metadata": {},
     "outputs": [
      {
       "html": [
        "<div style=\"max-height:1000px;max-width:1500px;overflow:auto;\">\n",
        "<table border=\"1\" class=\"dataframe\">\n",
        "  <thead>\n",
        "    <tr style=\"text-align: right;\">\n",
        "      <th></th>\n",
        "      <th>PassengerId</th>\n",
        "      <th>Survived</th>\n",
        "      <th>Pclass</th>\n",
        "      <th>Name</th>\n",
        "      <th>Sex</th>\n",
        "      <th>Age</th>\n",
        "      <th>SibSp</th>\n",
        "      <th>Parch</th>\n",
        "      <th>Ticket</th>\n",
        "      <th>Fare</th>\n",
        "      <th>Cabin</th>\n",
        "      <th>Embarked</th>\n",
        "    </tr>\n",
        "  </thead>\n",
        "  <tbody>\n",
        "    <tr>\n",
        "      <th>888</th>\n",
        "      <td> 889</td>\n",
        "      <td> 0</td>\n",
        "      <td> 3</td>\n",
        "      <td> [johnston, ,, miss., catherine, helen, ``, car...</td>\n",
        "      <td> female</td>\n",
        "      <td>NaN</td>\n",
        "      <td> 1</td>\n",
        "      <td> 2</td>\n",
        "      <td> W./C. 6607</td>\n",
        "      <td> 23.45</td>\n",
        "      <td>  NaN</td>\n",
        "      <td> S</td>\n",
        "    </tr>\n",
        "    <tr>\n",
        "      <th>889</th>\n",
        "      <td> 890</td>\n",
        "      <td> 1</td>\n",
        "      <td> 1</td>\n",
        "      <td>                      [behr, ,, mr., karl, howell]</td>\n",
        "      <td>   male</td>\n",
        "      <td> 26</td>\n",
        "      <td> 0</td>\n",
        "      <td> 0</td>\n",
        "      <td>     111369</td>\n",
        "      <td> 30.00</td>\n",
        "      <td> C148</td>\n",
        "      <td> C</td>\n",
        "    </tr>\n",
        "    <tr>\n",
        "      <th>890</th>\n",
        "      <td> 891</td>\n",
        "      <td> 0</td>\n",
        "      <td> 3</td>\n",
        "      <td>                         [dooley, ,, mr., patrick]</td>\n",
        "      <td>   male</td>\n",
        "      <td> 32</td>\n",
        "      <td> 0</td>\n",
        "      <td> 0</td>\n",
        "      <td>     370376</td>\n",
        "      <td>  7.75</td>\n",
        "      <td>  NaN</td>\n",
        "      <td> Q</td>\n",
        "    </tr>\n",
        "  </tbody>\n",
        "</table>\n",
        "</div>"
       ],
       "metadata": {},
       "output_type": "pyout",
       "prompt_number": 939,
       "text": [
        "     PassengerId  Survived  Pclass  \\\n",
        "888          889         0       3   \n",
        "889          890         1       1   \n",
        "890          891         0       3   \n",
        "\n",
        "                                                  Name     Sex  Age  SibSp  \\\n",
        "888  [johnston, ,, miss., catherine, helen, ``, car...  female  NaN      1   \n",
        "889                       [behr, ,, mr., karl, howell]    male   26      0   \n",
        "890                          [dooley, ,, mr., patrick]    male   32      0   \n",
        "\n",
        "     Parch      Ticket   Fare Cabin Embarked  \n",
        "888      2  W./C. 6607  23.45   NaN        S  \n",
        "889      0      111369  30.00  C148        C  \n",
        "890      0      370376   7.75   NaN        Q  "
       ]
      }
     ],
     "prompt_number": 939
    },
    {
     "cell_type": "code",
     "collapsed": false,
     "input": [
      "#def prepare_surname(series):\n",
      "#    bow = []\n",
      "#    bow2 = []\n",
      "#    for element in series:\n",
      "#        bow.append(nltk.word_tokenize(element.lower()))\n",
      "#    for var in bow:\n",
      "#        bow2.append(var[0])\n",
      "#    return bow2\n",
      "#\n",
      "#\n",
      "# still looking for a database of foreigner surnames to create a dummy variable for foreigners for model prediction\n",
      "# my guess is that people with foreigner names were less likely to survive"
     ],
     "language": "python",
     "metadata": {},
     "outputs": [],
     "prompt_number": 943
    },
    {
     "cell_type": "code",
     "collapsed": false,
     "input": [
      "#df['Tokens'] = prepare_surname(df['Name'])"
     ],
     "language": "python",
     "metadata": {},
     "outputs": []
    },
    {
     "cell_type": "code",
     "collapsed": false,
     "input": [
      "df.Sex[df.Sex == 'male'] = 'boy'\n",
      "df.Sex[df.Sex == 'female'] = 'girl'"
     ],
     "language": "python",
     "metadata": {},
     "outputs": [],
     "prompt_number": 944
    },
    {
     "cell_type": "code",
     "collapsed": false,
     "input": [
      "df.tail(3)"
     ],
     "language": "python",
     "metadata": {},
     "outputs": [
      {
       "html": [
        "<div style=\"max-height:1000px;max-width:1500px;overflow:auto;\">\n",
        "<table border=\"1\" class=\"dataframe\">\n",
        "  <thead>\n",
        "    <tr style=\"text-align: right;\">\n",
        "      <th></th>\n",
        "      <th>PassengerId</th>\n",
        "      <th>Survived</th>\n",
        "      <th>Pclass</th>\n",
        "      <th>Name</th>\n",
        "      <th>Sex</th>\n",
        "      <th>Age</th>\n",
        "      <th>SibSp</th>\n",
        "      <th>Parch</th>\n",
        "      <th>Ticket</th>\n",
        "      <th>Fare</th>\n",
        "      <th>Cabin</th>\n",
        "      <th>Embarked</th>\n",
        "    </tr>\n",
        "  </thead>\n",
        "  <tbody>\n",
        "    <tr>\n",
        "      <th>888</th>\n",
        "      <td> 889</td>\n",
        "      <td> 0</td>\n",
        "      <td> 3</td>\n",
        "      <td> [johnston, ,, miss., catherine, helen, ``, car...</td>\n",
        "      <td> girl</td>\n",
        "      <td>NaN</td>\n",
        "      <td> 1</td>\n",
        "      <td> 2</td>\n",
        "      <td> W./C. 6607</td>\n",
        "      <td> 23.45</td>\n",
        "      <td>  NaN</td>\n",
        "      <td> S</td>\n",
        "    </tr>\n",
        "    <tr>\n",
        "      <th>889</th>\n",
        "      <td> 890</td>\n",
        "      <td> 1</td>\n",
        "      <td> 1</td>\n",
        "      <td>                      [behr, ,, mr., karl, howell]</td>\n",
        "      <td>  boy</td>\n",
        "      <td> 26</td>\n",
        "      <td> 0</td>\n",
        "      <td> 0</td>\n",
        "      <td>     111369</td>\n",
        "      <td> 30.00</td>\n",
        "      <td> C148</td>\n",
        "      <td> C</td>\n",
        "    </tr>\n",
        "    <tr>\n",
        "      <th>890</th>\n",
        "      <td> 891</td>\n",
        "      <td> 0</td>\n",
        "      <td> 3</td>\n",
        "      <td>                         [dooley, ,, mr., patrick]</td>\n",
        "      <td>  boy</td>\n",
        "      <td> 32</td>\n",
        "      <td> 0</td>\n",
        "      <td> 0</td>\n",
        "      <td>     370376</td>\n",
        "      <td>  7.75</td>\n",
        "      <td>  NaN</td>\n",
        "      <td> Q</td>\n",
        "    </tr>\n",
        "  </tbody>\n",
        "</table>\n",
        "</div>"
       ],
       "metadata": {},
       "output_type": "pyout",
       "prompt_number": 945,
       "text": [
        "     PassengerId  Survived  Pclass  \\\n",
        "888          889         0       3   \n",
        "889          890         1       1   \n",
        "890          891         0       3   \n",
        "\n",
        "                                                  Name   Sex  Age  SibSp  \\\n",
        "888  [johnston, ,, miss., catherine, helen, ``, car...  girl  NaN      1   \n",
        "889                       [behr, ,, mr., karl, howell]   boy   26      0   \n",
        "890                          [dooley, ,, mr., patrick]   boy   32      0   \n",
        "\n",
        "     Parch      Ticket   Fare Cabin Embarked  \n",
        "888      2  W./C. 6607  23.45   NaN        S  \n",
        "889      0      111369  30.00  C148        C  \n",
        "890      0      370376   7.75   NaN        Q  "
       ]
      }
     ],
     "prompt_number": 945
    },
    {
     "cell_type": "code",
     "collapsed": false,
     "input": [
      "df['Male'] = df['Sex'].map( {'girl': 0, 'boy': 1} ).astype(int)"
     ],
     "language": "python",
     "metadata": {},
     "outputs": [],
     "prompt_number": 946
    },
    {
     "cell_type": "code",
     "collapsed": false,
     "input": [
      "df.tail(3)"
     ],
     "language": "python",
     "metadata": {},
     "outputs": [
      {
       "html": [
        "<div style=\"max-height:1000px;max-width:1500px;overflow:auto;\">\n",
        "<table border=\"1\" class=\"dataframe\">\n",
        "  <thead>\n",
        "    <tr style=\"text-align: right;\">\n",
        "      <th></th>\n",
        "      <th>PassengerId</th>\n",
        "      <th>Survived</th>\n",
        "      <th>Pclass</th>\n",
        "      <th>Name</th>\n",
        "      <th>Sex</th>\n",
        "      <th>Age</th>\n",
        "      <th>SibSp</th>\n",
        "      <th>Parch</th>\n",
        "      <th>Ticket</th>\n",
        "      <th>Fare</th>\n",
        "      <th>Cabin</th>\n",
        "      <th>Embarked</th>\n",
        "      <th>Male</th>\n",
        "    </tr>\n",
        "  </thead>\n",
        "  <tbody>\n",
        "    <tr>\n",
        "      <th>888</th>\n",
        "      <td> 889</td>\n",
        "      <td> 0</td>\n",
        "      <td> 3</td>\n",
        "      <td> [johnston, ,, miss., catherine, helen, ``, car...</td>\n",
        "      <td> girl</td>\n",
        "      <td>NaN</td>\n",
        "      <td> 1</td>\n",
        "      <td> 2</td>\n",
        "      <td> W./C. 6607</td>\n",
        "      <td> 23.45</td>\n",
        "      <td>  NaN</td>\n",
        "      <td> S</td>\n",
        "      <td> 0</td>\n",
        "    </tr>\n",
        "    <tr>\n",
        "      <th>889</th>\n",
        "      <td> 890</td>\n",
        "      <td> 1</td>\n",
        "      <td> 1</td>\n",
        "      <td>                      [behr, ,, mr., karl, howell]</td>\n",
        "      <td>  boy</td>\n",
        "      <td> 26</td>\n",
        "      <td> 0</td>\n",
        "      <td> 0</td>\n",
        "      <td>     111369</td>\n",
        "      <td> 30.00</td>\n",
        "      <td> C148</td>\n",
        "      <td> C</td>\n",
        "      <td> 1</td>\n",
        "    </tr>\n",
        "    <tr>\n",
        "      <th>890</th>\n",
        "      <td> 891</td>\n",
        "      <td> 0</td>\n",
        "      <td> 3</td>\n",
        "      <td>                         [dooley, ,, mr., patrick]</td>\n",
        "      <td>  boy</td>\n",
        "      <td> 32</td>\n",
        "      <td> 0</td>\n",
        "      <td> 0</td>\n",
        "      <td>     370376</td>\n",
        "      <td>  7.75</td>\n",
        "      <td>  NaN</td>\n",
        "      <td> Q</td>\n",
        "      <td> 1</td>\n",
        "    </tr>\n",
        "  </tbody>\n",
        "</table>\n",
        "</div>"
       ],
       "metadata": {},
       "output_type": "pyout",
       "prompt_number": 947,
       "text": [
        "     PassengerId  Survived  Pclass  \\\n",
        "888          889         0       3   \n",
        "889          890         1       1   \n",
        "890          891         0       3   \n",
        "\n",
        "                                                  Name   Sex  Age  SibSp  \\\n",
        "888  [johnston, ,, miss., catherine, helen, ``, car...  girl  NaN      1   \n",
        "889                       [behr, ,, mr., karl, howell]   boy   26      0   \n",
        "890                          [dooley, ,, mr., patrick]   boy   32      0   \n",
        "\n",
        "     Parch      Ticket   Fare Cabin Embarked  Male  \n",
        "888      2  W./C. 6607  23.45   NaN        S     0  \n",
        "889      0      111369  30.00  C148        C     1  \n",
        "890      0      370376   7.75   NaN        Q     1  "
       ]
      }
     ],
     "prompt_number": 947
    },
    {
     "cell_type": "code",
     "collapsed": false,
     "input": [
      "df.drop('Male', axis=1, inplace=True) # or del df['Male']\n",
      "df.tail(3)"
     ],
     "language": "python",
     "metadata": {},
     "outputs": [
      {
       "html": [
        "<div style=\"max-height:1000px;max-width:1500px;overflow:auto;\">\n",
        "<table border=\"1\" class=\"dataframe\">\n",
        "  <thead>\n",
        "    <tr style=\"text-align: right;\">\n",
        "      <th></th>\n",
        "      <th>PassengerId</th>\n",
        "      <th>Survived</th>\n",
        "      <th>Pclass</th>\n",
        "      <th>Name</th>\n",
        "      <th>Sex</th>\n",
        "      <th>Age</th>\n",
        "      <th>SibSp</th>\n",
        "      <th>Parch</th>\n",
        "      <th>Ticket</th>\n",
        "      <th>Fare</th>\n",
        "      <th>Cabin</th>\n",
        "      <th>Embarked</th>\n",
        "    </tr>\n",
        "  </thead>\n",
        "  <tbody>\n",
        "    <tr>\n",
        "      <th>888</th>\n",
        "      <td> 889</td>\n",
        "      <td> 0</td>\n",
        "      <td> 3</td>\n",
        "      <td> [johnston, ,, miss., catherine, helen, ``, car...</td>\n",
        "      <td> girl</td>\n",
        "      <td>NaN</td>\n",
        "      <td> 1</td>\n",
        "      <td> 2</td>\n",
        "      <td> W./C. 6607</td>\n",
        "      <td> 23.45</td>\n",
        "      <td>  NaN</td>\n",
        "      <td> S</td>\n",
        "    </tr>\n",
        "    <tr>\n",
        "      <th>889</th>\n",
        "      <td> 890</td>\n",
        "      <td> 1</td>\n",
        "      <td> 1</td>\n",
        "      <td>                      [behr, ,, mr., karl, howell]</td>\n",
        "      <td>  boy</td>\n",
        "      <td> 26</td>\n",
        "      <td> 0</td>\n",
        "      <td> 0</td>\n",
        "      <td>     111369</td>\n",
        "      <td> 30.00</td>\n",
        "      <td> C148</td>\n",
        "      <td> C</td>\n",
        "    </tr>\n",
        "    <tr>\n",
        "      <th>890</th>\n",
        "      <td> 891</td>\n",
        "      <td> 0</td>\n",
        "      <td> 3</td>\n",
        "      <td>                         [dooley, ,, mr., patrick]</td>\n",
        "      <td>  boy</td>\n",
        "      <td> 32</td>\n",
        "      <td> 0</td>\n",
        "      <td> 0</td>\n",
        "      <td>     370376</td>\n",
        "      <td>  7.75</td>\n",
        "      <td>  NaN</td>\n",
        "      <td> Q</td>\n",
        "    </tr>\n",
        "  </tbody>\n",
        "</table>\n",
        "</div>"
       ],
       "metadata": {},
       "output_type": "pyout",
       "prompt_number": 948,
       "text": [
        "     PassengerId  Survived  Pclass  \\\n",
        "888          889         0       3   \n",
        "889          890         1       1   \n",
        "890          891         0       3   \n",
        "\n",
        "                                                  Name   Sex  Age  SibSp  \\\n",
        "888  [johnston, ,, miss., catherine, helen, ``, car...  girl  NaN      1   \n",
        "889                       [behr, ,, mr., karl, howell]   boy   26      0   \n",
        "890                          [dooley, ,, mr., patrick]   boy   32      0   \n",
        "\n",
        "     Parch      Ticket   Fare Cabin Embarked  \n",
        "888      2  W./C. 6607  23.45   NaN        S  \n",
        "889      0      111369  30.00  C148        C  \n",
        "890      0      370376   7.75   NaN        Q  "
       ]
      }
     ],
     "prompt_number": 948
    },
    {
     "cell_type": "code",
     "collapsed": false,
     "input": [
      "df['Age'].isnull().value_counts()\n"
     ],
     "language": "python",
     "metadata": {},
     "outputs": [
      {
       "metadata": {},
       "output_type": "pyout",
       "prompt_number": 949,
       "text": [
        "False    714\n",
        "True     177\n",
        "dtype: int64"
       ]
      }
     ],
     "prompt_number": 949
    },
    {
     "cell_type": "code",
     "collapsed": false,
     "input": [
      "df['Age'].describe()"
     ],
     "language": "python",
     "metadata": {},
     "outputs": [
      {
       "metadata": {},
       "output_type": "pyout",
       "prompt_number": 950,
       "text": [
        "count    714.000000\n",
        "mean      29.699118\n",
        "std       14.526497\n",
        "min        0.420000\n",
        "25%       20.125000\n",
        "50%       28.000000\n",
        "75%       38.000000\n",
        "max       80.000000\n",
        "dtype: float64"
       ]
      }
     ],
     "prompt_number": 950
    },
    {
     "cell_type": "code",
     "collapsed": false,
     "input": [
      "df['Age'].fillna(df['Age'].mean(), inplace=True)"
     ],
     "language": "python",
     "metadata": {},
     "outputs": [],
     "prompt_number": 951
    },
    {
     "cell_type": "code",
     "collapsed": false,
     "input": [
      "df['Age'].isnull().value_counts()"
     ],
     "language": "python",
     "metadata": {},
     "outputs": [
      {
       "metadata": {},
       "output_type": "pyout",
       "prompt_number": 952,
       "text": [
        "False    891\n",
        "dtype: int64"
       ]
      }
     ],
     "prompt_number": 952
    },
    {
     "cell_type": "code",
     "collapsed": false,
     "input": [
      "df['Age'].describe()"
     ],
     "language": "python",
     "metadata": {},
     "outputs": [
      {
       "metadata": {},
       "output_type": "pyout",
       "prompt_number": 953,
       "text": [
        "count    891.000000\n",
        "mean      29.699118\n",
        "std       13.002015\n",
        "min        0.420000\n",
        "25%       22.000000\n",
        "50%       29.699118\n",
        "75%       35.000000\n",
        "max       80.000000\n",
        "dtype: float64"
       ]
      }
     ],
     "prompt_number": 953
    },
    {
     "cell_type": "code",
     "collapsed": false,
     "input": [
      "df['AgeCat'] = pandas.cut(df['Age'], [0,18, 26, 36, 61, 100], right=False)\n",
      "df.groupby('AgeCat').sum()"
     ],
     "language": "python",
     "metadata": {},
     "outputs": [
      {
       "html": [
        "<div style=\"max-height:1000px;max-width:1500px;overflow:auto;\">\n",
        "<table border=\"1\" class=\"dataframe\">\n",
        "  <thead>\n",
        "    <tr style=\"text-align: right;\">\n",
        "      <th></th>\n",
        "      <th>PassengerId</th>\n",
        "      <th>Survived</th>\n",
        "      <th>Pclass</th>\n",
        "      <th>Age</th>\n",
        "      <th>SibSp</th>\n",
        "      <th>Parch</th>\n",
        "      <th>Fare</th>\n",
        "    </tr>\n",
        "    <tr>\n",
        "      <th>AgeCat</th>\n",
        "      <th></th>\n",
        "      <th></th>\n",
        "      <th></th>\n",
        "      <th></th>\n",
        "      <th></th>\n",
        "      <th></th>\n",
        "      <th></th>\n",
        "    </tr>\n",
        "  </thead>\n",
        "  <tbody>\n",
        "    <tr>\n",
        "      <th>[0, 18)</th>\n",
        "      <td>  48501</td>\n",
        "      <td>  61</td>\n",
        "      <td> 292</td>\n",
        "      <td>  1021.670000</td>\n",
        "      <td> 165</td>\n",
        "      <td> 119</td>\n",
        "      <td> 3527.9502</td>\n",
        "    </tr>\n",
        "    <tr>\n",
        "      <th>[18, 26)</th>\n",
        "      <td>  83735</td>\n",
        "      <td>  63</td>\n",
        "      <td> 462</td>\n",
        "      <td>  4049.500000</td>\n",
        "      <td>  64</td>\n",
        "      <td>  54</td>\n",
        "      <td> 5707.0373</td>\n",
        "    </tr>\n",
        "    <tr>\n",
        "      <th>[26, 36)</th>\n",
        "      <td> 165698</td>\n",
        "      <td> 135</td>\n",
        "      <td> 910</td>\n",
        "      <td> 11196.243824</td>\n",
        "      <td> 162</td>\n",
        "      <td>  66</td>\n",
        "      <td> 9918.1617</td>\n",
        "    </tr>\n",
        "    <tr>\n",
        "      <th>[36, 61)</th>\n",
        "      <td>  89936</td>\n",
        "      <td>  78</td>\n",
        "      <td> 358</td>\n",
        "      <td>  8742.000000</td>\n",
        "      <td>  72</td>\n",
        "      <td>  95</td>\n",
        "      <td> 8630.6334</td>\n",
        "    </tr>\n",
        "    <tr>\n",
        "      <th>[61, 100)</th>\n",
        "      <td>   9516</td>\n",
        "      <td>   5</td>\n",
        "      <td>  35</td>\n",
        "      <td>  1452.500000</td>\n",
        "      <td>   3</td>\n",
        "      <td>   6</td>\n",
        "      <td>  910.1667</td>\n",
        "    </tr>\n",
        "  </tbody>\n",
        "</table>\n",
        "</div>"
       ],
       "metadata": {},
       "output_type": "pyout",
       "prompt_number": 955,
       "text": [
        "           PassengerId  Survived  Pclass           Age  SibSp  Parch  \\\n",
        "AgeCat                                                                 \n",
        "[0, 18)          48501        61     292   1021.670000    165    119   \n",
        "[18, 26)         83735        63     462   4049.500000     64     54   \n",
        "[26, 36)        165698       135     910  11196.243824    162     66   \n",
        "[36, 61)         89936        78     358   8742.000000     72     95   \n",
        "[61, 100)         9516         5      35   1452.500000      3      6   \n",
        "\n",
        "                Fare  \n",
        "AgeCat                \n",
        "[0, 18)    3527.9502  \n",
        "[18, 26)   5707.0373  \n",
        "[26, 36)   9918.1617  \n",
        "[36, 61)   8630.6334  \n",
        "[61, 100)   910.1667  "
       ]
      }
     ],
     "prompt_number": 955
    },
    {
     "cell_type": "code",
     "collapsed": false,
     "input": [
      "df['AgeCat'].value_counts()"
     ],
     "language": "python",
     "metadata": {},
     "outputs": [
      {
       "metadata": {},
       "output_type": "pyout",
       "prompt_number": 956,
       "text": [
        "[26, 36)     373\n",
        "[36, 61)     195\n",
        "[18, 26)     188\n",
        "[0, 18)      113\n",
        "[61, 100)     22\n",
        "dtype: int64"
       ]
      }
     ],
     "prompt_number": 956
    },
    {
     "cell_type": "code",
     "collapsed": false,
     "input": [
      "dummy_class = pd.get_dummies(df['Pclass'], prefix='class')"
     ],
     "language": "python",
     "metadata": {},
     "outputs": [],
     "prompt_number": 429
    },
    {
     "cell_type": "code",
     "collapsed": false,
     "input": [
      "df = df.join(dummy_class)"
     ],
     "language": "python",
     "metadata": {},
     "outputs": []
    },
    {
     "cell_type": "code",
     "collapsed": false,
     "input": [
      "df.head()"
     ],
     "language": "python",
     "metadata": {},
     "outputs": [
      {
       "html": [
        "<div style=\"max-height:1000px;max-width:1500px;overflow:auto;\">\n",
        "<table border=\"1\" class=\"dataframe\">\n",
        "  <thead>\n",
        "    <tr style=\"text-align: right;\">\n",
        "      <th></th>\n",
        "      <th>PassengerId</th>\n",
        "      <th>Survived</th>\n",
        "      <th>Pclass</th>\n",
        "      <th>Name</th>\n",
        "      <th>Sex</th>\n",
        "      <th>Age</th>\n",
        "      <th>SibSp</th>\n",
        "      <th>Parch</th>\n",
        "      <th>Ticket</th>\n",
        "      <th>Fare</th>\n",
        "      <th>Cabin</th>\n",
        "      <th>Embarked</th>\n",
        "      <th>class_1</th>\n",
        "      <th>class_2</th>\n",
        "      <th>class_3</th>\n",
        "    </tr>\n",
        "  </thead>\n",
        "  <tbody>\n",
        "    <tr>\n",
        "      <th>0</th>\n",
        "      <td> 1</td>\n",
        "      <td> 0</td>\n",
        "      <td> 3</td>\n",
        "      <td>                           Braund, Mr. Owen Harris</td>\n",
        "      <td>   male</td>\n",
        "      <td> 22</td>\n",
        "      <td> 1</td>\n",
        "      <td> 0</td>\n",
        "      <td>        A/5 21171</td>\n",
        "      <td>  7.2500</td>\n",
        "      <td>  NaN</td>\n",
        "      <td> S</td>\n",
        "      <td> 0</td>\n",
        "      <td> 0</td>\n",
        "      <td> 1</td>\n",
        "    </tr>\n",
        "    <tr>\n",
        "      <th>1</th>\n",
        "      <td> 2</td>\n",
        "      <td> 1</td>\n",
        "      <td> 1</td>\n",
        "      <td> Cumings, Mrs. John Bradley (Florence Briggs Th...</td>\n",
        "      <td> female</td>\n",
        "      <td> 38</td>\n",
        "      <td> 1</td>\n",
        "      <td> 0</td>\n",
        "      <td>         PC 17599</td>\n",
        "      <td> 71.2833</td>\n",
        "      <td>  C85</td>\n",
        "      <td> C</td>\n",
        "      <td> 1</td>\n",
        "      <td> 0</td>\n",
        "      <td> 0</td>\n",
        "    </tr>\n",
        "    <tr>\n",
        "      <th>2</th>\n",
        "      <td> 3</td>\n",
        "      <td> 1</td>\n",
        "      <td> 3</td>\n",
        "      <td>                            Heikkinen, Miss. Laina</td>\n",
        "      <td> female</td>\n",
        "      <td> 26</td>\n",
        "      <td> 0</td>\n",
        "      <td> 0</td>\n",
        "      <td> STON/O2. 3101282</td>\n",
        "      <td>  7.9250</td>\n",
        "      <td>  NaN</td>\n",
        "      <td> S</td>\n",
        "      <td> 0</td>\n",
        "      <td> 0</td>\n",
        "      <td> 1</td>\n",
        "    </tr>\n",
        "    <tr>\n",
        "      <th>3</th>\n",
        "      <td> 4</td>\n",
        "      <td> 1</td>\n",
        "      <td> 1</td>\n",
        "      <td>      Futrelle, Mrs. Jacques Heath (Lily May Peel)</td>\n",
        "      <td> female</td>\n",
        "      <td> 35</td>\n",
        "      <td> 1</td>\n",
        "      <td> 0</td>\n",
        "      <td>           113803</td>\n",
        "      <td> 53.1000</td>\n",
        "      <td> C123</td>\n",
        "      <td> S</td>\n",
        "      <td> 1</td>\n",
        "      <td> 0</td>\n",
        "      <td> 0</td>\n",
        "    </tr>\n",
        "    <tr>\n",
        "      <th>4</th>\n",
        "      <td> 5</td>\n",
        "      <td> 0</td>\n",
        "      <td> 3</td>\n",
        "      <td>                          Allen, Mr. William Henry</td>\n",
        "      <td>   male</td>\n",
        "      <td> 35</td>\n",
        "      <td> 0</td>\n",
        "      <td> 0</td>\n",
        "      <td>           373450</td>\n",
        "      <td>  8.0500</td>\n",
        "      <td>  NaN</td>\n",
        "      <td> S</td>\n",
        "      <td> 0</td>\n",
        "      <td> 0</td>\n",
        "      <td> 1</td>\n",
        "    </tr>\n",
        "  </tbody>\n",
        "</table>\n",
        "</div>"
       ],
       "metadata": {},
       "output_type": "pyout",
       "prompt_number": 431,
       "text": [
        "   PassengerId  Survived  Pclass  \\\n",
        "0            1         0       3   \n",
        "1            2         1       1   \n",
        "2            3         1       3   \n",
        "3            4         1       1   \n",
        "4            5         0       3   \n",
        "\n",
        "                                                Name     Sex  Age  SibSp  \\\n",
        "0                            Braund, Mr. Owen Harris    male   22      1   \n",
        "1  Cumings, Mrs. John Bradley (Florence Briggs Th...  female   38      1   \n",
        "2                             Heikkinen, Miss. Laina  female   26      0   \n",
        "3       Futrelle, Mrs. Jacques Heath (Lily May Peel)  female   35      1   \n",
        "4                           Allen, Mr. William Henry    male   35      0   \n",
        "\n",
        "   Parch            Ticket     Fare Cabin Embarked  class_1  class_2  class_3  \n",
        "0      0         A/5 21171   7.2500   NaN        S        0        0        1  \n",
        "1      0          PC 17599  71.2833   C85        C        1        0        0  \n",
        "2      0  STON/O2. 3101282   7.9250   NaN        S        0        0        1  \n",
        "3      0            113803  53.1000  C123        S        1        0        0  \n",
        "4      0            373450   8.0500   NaN        S        0        0        1  "
       ]
      }
     ],
     "prompt_number": 431
    },
    {
     "cell_type": "heading",
     "level": 2,
     "metadata": {},
     "source": [
      "Training a Logit Model"
     ]
    },
    {
     "cell_type": "code",
     "collapsed": false,
     "input": [
      "df = pandas.read_csv('train.csv', header=0)\n",
      "df.info()"
     ],
     "language": "python",
     "metadata": {},
     "outputs": [
      {
       "output_type": "stream",
       "stream": "stdout",
       "text": [
        "<class 'pandas.core.frame.DataFrame'>\n",
        "Int64Index: 891 entries, 0 to 890\n",
        "Data columns (total 12 columns):\n",
        "PassengerId    891 non-null int64\n",
        "Survived       891 non-null int64\n",
        "Pclass         891 non-null int64\n",
        "Name           891 non-null object\n",
        "Sex            891 non-null object\n",
        "Age            714 non-null float64\n",
        "SibSp          891 non-null int64\n",
        "Parch          891 non-null int64\n",
        "Ticket         891 non-null object\n",
        "Fare           891 non-null float64\n",
        "Cabin          204 non-null object\n",
        "Embarked       889 non-null object\n",
        "dtypes: float64(2), int64(5), object(5)"
       ]
      }
     ],
     "prompt_number": 885
    },
    {
     "cell_type": "code",
     "collapsed": false,
     "input": [
      "# Imputing missing values with the median\n",
      "df['Age'].fillna(df['Age'].median(), inplace=True)"
     ],
     "language": "python",
     "metadata": {},
     "outputs": [],
     "prompt_number": 886
    },
    {
     "cell_type": "code",
     "collapsed": false,
     "input": [
      "# Generating indicator for young people\n",
      "df['Child'] = df.Age.apply(lambda x: 1 if x < 13 else 0)"
     ],
     "language": "python",
     "metadata": {},
     "outputs": [],
     "prompt_number": 887
    },
    {
     "cell_type": "code",
     "collapsed": false,
     "input": [
      "# Converting Strings to Integers\n",
      "df['Male'] = df['Sex'].map( {'female': 0, 'male': 1} ).astype(int)"
     ],
     "language": "python",
     "metadata": {},
     "outputs": [],
     "prompt_number": 888
    },
    {
     "cell_type": "code",
     "collapsed": false,
     "input": [
      "# Generyting binary dummy variables for PClass\n",
      "dummy_class = pd.get_dummies(df['Pclass'], prefix='class')\n",
      "df = df.join(dummy_class)"
     ],
     "language": "python",
     "metadata": {},
     "outputs": [],
     "prompt_number": 889
    },
    {
     "cell_type": "code",
     "collapsed": false,
     "input": [
      "# Dropping unused Columns\n",
      "new_df = df.drop(['Age', 'Parch', 'SibSp', 'Name', 'Ticket', 'Cabin', 'PassengerId', 'Embarked', 'Sex', 'Pclass', \"class_3\"], axis=1)\n",
      "train_cols = new_df.columns[1:]\n",
      "new_df.info()"
     ],
     "language": "python",
     "metadata": {},
     "outputs": [
      {
       "output_type": "stream",
       "stream": "stdout",
       "text": [
        "<class 'pandas.core.frame.DataFrame'>\n",
        "Int64Index: 891 entries, 0 to 890\n",
        "Data columns (total 6 columns):\n",
        "Survived    891 non-null int64\n",
        "Fare        891 non-null float64\n",
        "Child       891 non-null int64\n",
        "Male        891 non-null int64\n",
        "class_1     891 non-null float64\n",
        "class_2     891 non-null float64\n",
        "dtypes: float64(3), int64(3)"
       ]
      }
     ],
     "prompt_number": 890
    },
    {
     "cell_type": "code",
     "collapsed": false,
     "input": [
      "train_cols"
     ],
     "language": "python",
     "metadata": {},
     "outputs": [
      {
       "metadata": {},
       "output_type": "pyout",
       "prompt_number": 891,
       "text": [
        "Index([u'Fare', u'Child', u'Male', u'class_1', u'class_2'], dtype='object')"
       ]
      }
     ],
     "prompt_number": 891
    },
    {
     "cell_type": "code",
     "collapsed": false,
     "input": [
      "#Training the Logit Model\n",
      "logit = sm.Logit(df['Survived'], df[train_cols])\n",
      "result = logit.fit()"
     ],
     "language": "python",
     "metadata": {},
     "outputs": [
      {
       "output_type": "stream",
       "stream": "stdout",
       "text": [
        "Optimization terminated successfully.\n",
        "         Current function value: 0.455400\n",
        "         Iterations 6\n"
       ]
      }
     ],
     "prompt_number": 892
    },
    {
     "cell_type": "code",
     "collapsed": false,
     "input": [
      "print result.summary()"
     ],
     "language": "python",
     "metadata": {},
     "outputs": [
      {
       "output_type": "stream",
       "stream": "stdout",
       "text": [
        "                           Logit Regression Results                           \n",
        "==============================================================================\n",
        "Dep. Variable:               Survived   No. Observations:                  891\n",
        "Model:                          Logit   Df Residuals:                      886\n",
        "Method:                           MLE   Df Model:                            4\n",
        "Date:                Mon, 11 Aug 2014   Pseudo R-squ.:                  0.3161\n",
        "Time:                        23:07:29   Log-Likelihood:                -405.76\n",
        "converged:                       True   LL-Null:                       -593.33\n",
        "                                        LLR p-value:                 6.552e-80\n",
        "==============================================================================\n",
        "                 coef    std err          z      P>|z|      [95.0% Conf. Int.]\n",
        "------------------------------------------------------------------------------\n",
        "Fare           0.0017      0.002      0.844      0.398        -0.002     0.006\n",
        "Child          1.3465      0.308      4.373      0.000         0.743     1.950\n",
        "Male          -2.5015      0.160    -15.639      0.000        -2.815    -2.188\n",
        "class_1        2.0310      0.253      8.043      0.000         1.536     2.526\n",
        "class_2        1.2135      0.205      5.926      0.000         0.812     1.615\n",
        "==============================================================================\n"
       ]
      }
     ],
     "prompt_number": 893
    },
    {
     "cell_type": "code",
     "collapsed": false,
     "input": [
      "df['surv_pred'] = result.predict(df[train_cols])"
     ],
     "language": "python",
     "metadata": {},
     "outputs": [],
     "prompt_number": 894
    },
    {
     "cell_type": "code",
     "collapsed": false,
     "input": [
      "match = df.surv_pred.apply(lambda x: 1 if x > 0.5 else 0) == df['Survived']"
     ],
     "language": "python",
     "metadata": {},
     "outputs": [],
     "prompt_number": 896
    },
    {
     "cell_type": "code",
     "collapsed": false,
     "input": [
      "df['Survived'].value_counts()"
     ],
     "language": "python",
     "metadata": {},
     "outputs": [
      {
       "metadata": {},
       "output_type": "pyout",
       "prompt_number": 897,
       "text": [
        "0    549\n",
        "1    342\n",
        "dtype: int64"
       ]
      }
     ],
     "prompt_number": 897
    },
    {
     "cell_type": "code",
     "collapsed": false,
     "input": [
      "# Checking correct predictions --> model is better than blindly picking the mode (Survived 1 == 549)\n",
      "match.value_counts()"
     ],
     "language": "python",
     "metadata": {},
     "outputs": [
      {
       "metadata": {},
       "output_type": "pyout",
       "prompt_number": 899,
       "text": [
        "True     715\n",
        "False    176\n",
        "dtype: int64"
       ]
      }
     ],
     "prompt_number": 899
    },
    {
     "cell_type": "heading",
     "level": 3,
     "metadata": {},
     "source": [
      "Predict the survivors for the test-dataset"
     ]
    },
    {
     "cell_type": "code",
     "collapsed": false,
     "input": [
      "test_df = pandas.read_csv('test.csv', header=0)"
     ],
     "language": "python",
     "metadata": {},
     "outputs": [],
     "prompt_number": 957
    },
    {
     "cell_type": "code",
     "collapsed": false,
     "input": [
      "test_df['Age'].fillna(test_df['Age'].median(), inplace=True)"
     ],
     "language": "python",
     "metadata": {},
     "outputs": [],
     "prompt_number": 958
    },
    {
     "cell_type": "code",
     "collapsed": false,
     "input": [
      "test_df['Child'] = test_df.Age.apply(lambda x: 1 if x < 13 else 0)"
     ],
     "language": "python",
     "metadata": {},
     "outputs": [],
     "prompt_number": 959
    },
    {
     "cell_type": "code",
     "collapsed": false,
     "input": [
      "test_df['Child'].value_counts()"
     ],
     "language": "python",
     "metadata": {},
     "outputs": [
      {
       "metadata": {},
       "output_type": "pyout",
       "prompt_number": 960,
       "text": [
        "0    393\n",
        "1     25\n",
        "dtype: int64"
       ]
      }
     ],
     "prompt_number": 960
    },
    {
     "cell_type": "code",
     "collapsed": false,
     "input": [
      "test_df['Male'] = test_df['Sex'].map( {'female': 0, 'male': 1} ).astype(int)"
     ],
     "language": "python",
     "metadata": {},
     "outputs": [],
     "prompt_number": 961
    },
    {
     "cell_type": "code",
     "collapsed": false,
     "input": [
      "dummy_class = pd.get_dummies(test_df['Pclass'], prefix='class')\n",
      "test_df = test_df.join(dummy_class)"
     ],
     "language": "python",
     "metadata": {},
     "outputs": [],
     "prompt_number": 962
    },
    {
     "cell_type": "code",
     "collapsed": false,
     "input": [
      "test_df = test_df.drop([ 'SibSp', 'Age', 'Parch','Pclass', \"class_3\",'Name', 'Ticket', 'Cabin', 'Embarked', 'Sex'], axis=1)\n",
      "test_cols = test_df.columns[1:]\n",
      "test_cols"
     ],
     "language": "python",
     "metadata": {},
     "outputs": [
      {
       "metadata": {},
       "output_type": "pyout",
       "prompt_number": 963,
       "text": [
        "Index([u'Fare', u'Child', u'Male', u'class_1', u'class_2'], dtype='object')"
       ]
      }
     ],
     "prompt_number": 963
    },
    {
     "cell_type": "code",
     "collapsed": false,
     "input": [
      "test_df['surv_pred'] = result.predict(test_df[test_cols])"
     ],
     "language": "python",
     "metadata": {},
     "outputs": [],
     "prompt_number": 964
    },
    {
     "cell_type": "code",
     "collapsed": false,
     "input": [
      "test_df['Survived'] = test_df.surv_pred.apply(lambda x: 1 if x > 0.5 else 0)"
     ],
     "language": "python",
     "metadata": {},
     "outputs": [],
     "prompt_number": 965
    },
    {
     "cell_type": "code",
     "collapsed": false,
     "input": [
      "test_df.head(10)"
     ],
     "language": "python",
     "metadata": {},
     "outputs": [
      {
       "html": [
        "<div style=\"max-height:1000px;max-width:1500px;overflow:auto;\">\n",
        "<table border=\"1\" class=\"dataframe\">\n",
        "  <thead>\n",
        "    <tr style=\"text-align: right;\">\n",
        "      <th></th>\n",
        "      <th>PassengerId</th>\n",
        "      <th>Fare</th>\n",
        "      <th>Child</th>\n",
        "      <th>Male</th>\n",
        "      <th>class_1</th>\n",
        "      <th>class_2</th>\n",
        "      <th>surv_pred</th>\n",
        "      <th>Survived</th>\n",
        "    </tr>\n",
        "  </thead>\n",
        "  <tbody>\n",
        "    <tr>\n",
        "      <th>0</th>\n",
        "      <td> 892</td>\n",
        "      <td>  7.8292</td>\n",
        "      <td> 0</td>\n",
        "      <td> 1</td>\n",
        "      <td> 0</td>\n",
        "      <td> 0</td>\n",
        "      <td> 0.076703</td>\n",
        "      <td> 0</td>\n",
        "    </tr>\n",
        "    <tr>\n",
        "      <th>1</th>\n",
        "      <td> 893</td>\n",
        "      <td>  7.0000</td>\n",
        "      <td> 0</td>\n",
        "      <td> 0</td>\n",
        "      <td> 0</td>\n",
        "      <td> 0</td>\n",
        "      <td> 0.503006</td>\n",
        "      <td> 1</td>\n",
        "    </tr>\n",
        "    <tr>\n",
        "      <th>2</th>\n",
        "      <td> 894</td>\n",
        "      <td>  9.6875</td>\n",
        "      <td> 0</td>\n",
        "      <td> 1</td>\n",
        "      <td> 0</td>\n",
        "      <td> 1</td>\n",
        "      <td> 0.219025</td>\n",
        "      <td> 0</td>\n",
        "    </tr>\n",
        "    <tr>\n",
        "      <th>3</th>\n",
        "      <td> 895</td>\n",
        "      <td>  8.6625</td>\n",
        "      <td> 0</td>\n",
        "      <td> 1</td>\n",
        "      <td> 0</td>\n",
        "      <td> 0</td>\n",
        "      <td> 0.076804</td>\n",
        "      <td> 0</td>\n",
        "    </tr>\n",
        "    <tr>\n",
        "      <th>4</th>\n",
        "      <td> 896</td>\n",
        "      <td> 12.2875</td>\n",
        "      <td> 0</td>\n",
        "      <td> 0</td>\n",
        "      <td> 0</td>\n",
        "      <td> 0</td>\n",
        "      <td> 0.505277</td>\n",
        "      <td> 1</td>\n",
        "    </tr>\n",
        "    <tr>\n",
        "      <th>5</th>\n",
        "      <td> 897</td>\n",
        "      <td>  9.2250</td>\n",
        "      <td> 0</td>\n",
        "      <td> 1</td>\n",
        "      <td> 0</td>\n",
        "      <td> 0</td>\n",
        "      <td> 0.076873</td>\n",
        "      <td> 0</td>\n",
        "    </tr>\n",
        "    <tr>\n",
        "      <th>6</th>\n",
        "      <td> 898</td>\n",
        "      <td>  7.6292</td>\n",
        "      <td> 0</td>\n",
        "      <td> 0</td>\n",
        "      <td> 0</td>\n",
        "      <td> 0</td>\n",
        "      <td> 0.503276</td>\n",
        "      <td> 1</td>\n",
        "    </tr>\n",
        "    <tr>\n",
        "      <th>7</th>\n",
        "      <td> 899</td>\n",
        "      <td> 29.0000</td>\n",
        "      <td> 0</td>\n",
        "      <td> 1</td>\n",
        "      <td> 0</td>\n",
        "      <td> 1</td>\n",
        "      <td> 0.224753</td>\n",
        "      <td> 0</td>\n",
        "    </tr>\n",
        "    <tr>\n",
        "      <th>8</th>\n",
        "      <td> 900</td>\n",
        "      <td>  7.2292</td>\n",
        "      <td> 0</td>\n",
        "      <td> 0</td>\n",
        "      <td> 0</td>\n",
        "      <td> 0</td>\n",
        "      <td> 0.503104</td>\n",
        "      <td> 1</td>\n",
        "    </tr>\n",
        "    <tr>\n",
        "      <th>9</th>\n",
        "      <td> 901</td>\n",
        "      <td> 24.1500</td>\n",
        "      <td> 0</td>\n",
        "      <td> 1</td>\n",
        "      <td> 0</td>\n",
        "      <td> 0</td>\n",
        "      <td> 0.078712</td>\n",
        "      <td> 0</td>\n",
        "    </tr>\n",
        "  </tbody>\n",
        "</table>\n",
        "</div>"
       ],
       "metadata": {},
       "output_type": "pyout",
       "prompt_number": 966,
       "text": [
        "   PassengerId     Fare  Child  Male  class_1  class_2  surv_pred  Survived\n",
        "0          892   7.8292      0     1        0        0   0.076703         0\n",
        "1          893   7.0000      0     0        0        0   0.503006         1\n",
        "2          894   9.6875      0     1        0        1   0.219025         0\n",
        "3          895   8.6625      0     1        0        0   0.076804         0\n",
        "4          896  12.2875      0     0        0        0   0.505277         1\n",
        "5          897   9.2250      0     1        0        0   0.076873         0\n",
        "6          898   7.6292      0     0        0        0   0.503276         1\n",
        "7          899  29.0000      0     1        0        1   0.224753         0\n",
        "8          900   7.2292      0     0        0        0   0.503104         1\n",
        "9          901  24.1500      0     1        0        0   0.078712         0"
       ]
      }
     ],
     "prompt_number": 966
    },
    {
     "cell_type": "code",
     "collapsed": false,
     "input": [
      "test_df['Survived'].value_counts()"
     ],
     "language": "python",
     "metadata": {},
     "outputs": [
      {
       "metadata": {},
       "output_type": "pyout",
       "prompt_number": 967,
       "text": [
        "0    263\n",
        "1    155\n",
        "dtype: int64"
       ]
      }
     ],
     "prompt_number": 967
    },
    {
     "cell_type": "code",
     "collapsed": false,
     "input": [
      "test_df = test_df.drop(['class_2', 'class_1' , 'Child',  'Fare', 'Male', \"surv_pred\"], axis=1)\n",
      "test_df.head(5)"
     ],
     "language": "python",
     "metadata": {},
     "outputs": [
      {
       "html": [
        "<div style=\"max-height:1000px;max-width:1500px;overflow:auto;\">\n",
        "<table border=\"1\" class=\"dataframe\">\n",
        "  <thead>\n",
        "    <tr style=\"text-align: right;\">\n",
        "      <th></th>\n",
        "      <th>PassengerId</th>\n",
        "      <th>Survived</th>\n",
        "    </tr>\n",
        "  </thead>\n",
        "  <tbody>\n",
        "    <tr>\n",
        "      <th>0</th>\n",
        "      <td> 892</td>\n",
        "      <td> 0</td>\n",
        "    </tr>\n",
        "    <tr>\n",
        "      <th>1</th>\n",
        "      <td> 893</td>\n",
        "      <td> 1</td>\n",
        "    </tr>\n",
        "    <tr>\n",
        "      <th>2</th>\n",
        "      <td> 894</td>\n",
        "      <td> 0</td>\n",
        "    </tr>\n",
        "    <tr>\n",
        "      <th>3</th>\n",
        "      <td> 895</td>\n",
        "      <td> 0</td>\n",
        "    </tr>\n",
        "    <tr>\n",
        "      <th>4</th>\n",
        "      <td> 896</td>\n",
        "      <td> 1</td>\n",
        "    </tr>\n",
        "  </tbody>\n",
        "</table>\n",
        "</div>"
       ],
       "metadata": {},
       "output_type": "pyout",
       "prompt_number": 968,
       "text": [
        "   PassengerId  Survived\n",
        "0          892         0\n",
        "1          893         1\n",
        "2          894         0\n",
        "3          895         0\n",
        "4          896         1"
       ]
      }
     ],
     "prompt_number": 968
    },
    {
     "cell_type": "code",
     "collapsed": false,
     "input": [
      "test_df.to_csv('Predictions.csv', index=False)\n",
      "print 'Done'"
     ],
     "language": "python",
     "metadata": {},
     "outputs": [
      {
       "output_type": "stream",
       "stream": "stdout",
       "text": [
        "Done\n"
       ]
      }
     ],
     "prompt_number": 912
    },
    {
     "cell_type": "markdown",
     "metadata": {},
     "source": [
      "** Kaggle Leaderboard Result: 0.77512**"
     ]
    }
   ],
   "metadata": {}
  }
 ]
}