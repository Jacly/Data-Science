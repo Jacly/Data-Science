{
 "cells": [
  {
   "cell_type": "markdown",
   "metadata": {},
   "source": [
    "### Importing packages, seting up working directory"
   ]
  },
  {
   "cell_type": "code",
   "execution_count": 17,
   "metadata": {
    "collapsed": false
   },
   "outputs": [
    {
     "name": "stdout",
     "output_type": "stream",
     "text": [
      "/E/fakes/do\n"
     ]
    }
   ],
   "source": [
    "import re\n",
    "import os\n",
    "%cd \"/E/fakes/do\""
   ]
  },
  {
   "cell_type": "markdown",
   "metadata": {},
   "source": [
    "### Checking all files within working directory"
   ]
  },
  {
   "cell_type": "code",
   "execution_count": 63,
   "metadata": {
    "collapsed": false
   },
   "outputs": [
    {
     "name": "stdout",
     "output_type": "stream",
     "text": [
      "rzh.do\n",
      "rqp.do\n",
      "roh.do\n",
      "rzp.do\n",
      "rqh.do\n",
      "rph.do\n",
      "rpp.do\n",
      "rop.do\n",
      "rah.do\n",
      "rap.do\n"
     ]
    }
   ],
   "source": [
    "file_names = os.listdir('.')\n",
    "for i in os.listdir('.'):\n",
    "    with open(i, 'r') as f:    \n",
    "        data = f.read()      \n",
    "        print str(i)"
   ]
  },
  {
   "cell_type": "markdown",
   "metadata": {},
   "source": [
    "### Testing one single file"
   ]
  },
  {
   "cell_type": "markdown",
   "metadata": {},
   "source": [
    "##### reading data"
   ]
  },
  {
   "cell_type": "code",
   "execution_count": 35,
   "metadata": {
    "collapsed": false
   },
   "outputs": [],
   "source": [
    "with open('rzh.do', 'r') as f:\n",
    "    data = f.read()"
   ]
  },
  {
   "cell_type": "code",
   "execution_count": 36,
   "metadata": {
    "collapsed": false
   },
   "outputs": [
    {
     "name": "stdout",
     "output_type": "stream",
     "text": [
      "#delimit;\n",
      "\n",
      "drop zhhnr;\n",
      "\n",
      "generate int svyyear = 2009;\n",
      "\n",
      "/* * --- neue Fixnamen ---; */\t\t\t//   neue Fixnamen!\n",
      "clonevar    h\n"
     ]
    }
   ],
   "source": [
    "print data[:120]"
   ]
  },
  {
   "cell_type": "markdown",
   "metadata": {},
   "source": [
    "#### removing unwanted information in comment strings"
   ]
  },
  {
   "cell_type": "code",
   "execution_count": 37,
   "metadata": {
    "collapsed": true
   },
   "outputs": [],
   "source": [
    "#this code is extracting comments within do-files, starting with /* and ending with */\n",
    "data = re.sub(r'(/\\*).*(\\*/)', r'', data)"
   ]
  },
  {
   "cell_type": "code",
   "execution_count": 38,
   "metadata": {
    "collapsed": false
   },
   "outputs": [
    {
     "name": "stdout",
     "output_type": "stream",
     "text": [
      "#delimit;\n",
      "\n",
      "drop zhhnr;\n",
      "\n",
      "generate int svyyear = 2009;\n",
      "\n",
      "\t\t\t//   neue Fixnamen!\n",
      "clonevar    h4756 =   zh0214; note h4756: z\n"
     ]
    }
   ],
   "source": [
    "# this result demonstrates the comment removal in comparison to the output above\n",
    "print data[:120]"
   ]
  },
  {
   "cell_type": "markdown",
   "metadata": {},
   "source": [
    "#### extracting variable names for command clonevar"
   ]
  },
  {
   "cell_type": "code",
   "execution_count": 39,
   "metadata": {
    "collapsed": false
   },
   "outputs": [
    {
     "name": "stdout",
     "output_type": "stream",
     "text": [
      "['h4756', 'h4757', 'h4758', 'h4759', 'h4760', 'h4761', 'h4762', 'h4763', 'h4764', 'h4765']\n"
     ]
    }
   ],
   "source": [
    "clonevars = re.findall(r'clonevar\\s*(.*)\\s=', data)\n",
    "print clonevars[:10]"
   ]
  },
  {
   "cell_type": "markdown",
   "metadata": {},
   "source": [
    "#### extracting variable information for command rename"
   ]
  },
  {
   "cell_type": "code",
   "execution_count": 41,
   "metadata": {
    "collapsed": false,
    "scrolled": true
   },
   "outputs": [
    {
     "data": {
      "text/plain": [
       "['zcalcinc    h4161; note h4161: zcalcinc;',\n",
       " 'zlimit    h4483; note h4483: zlimit;',\n",
       " 'hhnrakt      hid; note hid: hhnrakt;',\n",
       " 'hhnr   caseid; note caseid: hhnr;']"
      ]
     },
     "execution_count": 41,
     "metadata": {},
     "output_type": "execute_result"
    }
   ],
   "source": [
    "# the result is not correct yet as the regular expression is not optimal\n",
    "renames = re.findall(r'rename\\s*(.*)\\s', data)\n",
    "renames[:10]"
   ]
  },
  {
   "cell_type": "code",
   "execution_count": 42,
   "metadata": {
    "collapsed": false,
    "scrolled": true
   },
   "outputs": [
    {
     "name": "stdout",
     "output_type": "stream",
     "text": [
      "['zcalcinc', 'zlimit', 'hhnrakt', 'hhnr']\n"
     ]
    }
   ],
   "source": [
    "# small helper is necessary to extract the first string from the regular expression output above\n",
    "helper = []\n",
    "for i in renames:\n",
    "    helper.append(i.split()[0])\n",
    "print helper"
   ]
  },
  {
   "cell_type": "markdown",
   "metadata": {},
   "source": [
    "#### writing variable names to output file"
   ]
  },
  {
   "cell_type": "code",
   "execution_count": 210,
   "metadata": {
    "collapsed": false
   },
   "outputs": [],
   "source": [
    "variables = []\n",
    "for i in clonevars:\n",
    "    variables.append(i)\n",
    "for i in helper:\n",
    "    variables.append(i)"
   ]
  },
  {
   "cell_type": "code",
   "execution_count": 211,
   "metadata": {
    "collapsed": true
   },
   "outputs": [],
   "source": [
    "# name + linebreak for each variable (duplicates not removed)\n",
    "with open('roh_varnames.txt', 'wb') as f:\n",
    "    for var in variables:\n",
    "        f.write(str(var)+'\\n')"
   ]
  },
  {
   "cell_type": "markdown",
   "metadata": {},
   "source": [
    "### Iterating over all Do-Files"
   ]
  },
  {
   "cell_type": "code",
   "execution_count": 60,
   "metadata": {
    "collapsed": true
   },
   "outputs": [],
   "source": [
    "variables = []\n",
    "for i in os.listdir('.'):\n",
    "    with open(i, 'r') as f:    \n",
    "        data = f.read()\n",
    "        data = re.sub(r'(/\\*).*(\\*/)', r'', data)\n",
    "        clonevars = re.findall(r'clonevar\\s*(.*)\\s=', data)\n",
    "        renames = re.findall(r'rename\\s*(.*)\\s', data)\n",
    "        helper = []\n",
    "        for i in renames:\n",
    "            helper.append(i.split()[0])\n",
    "        for i in helper:\n",
    "            variables.append(i)\n",
    "        for i in clonevars:\n",
    "            variables.append(i)"
   ]
  },
  {
   "cell_type": "markdown",
   "metadata": {},
   "source": [
    "#### Controlling results"
   ]
  },
  {
   "cell_type": "code",
   "execution_count": 61,
   "metadata": {
    "collapsed": false
   },
   "outputs": [
    {
     "data": {
      "text/plain": [
       "3426"
      ]
     },
     "execution_count": 61,
     "metadata": {},
     "output_type": "execute_result"
    }
   ],
   "source": [
    "# a total of 3426 variables names are extracted\n",
    "len(variables)"
   ]
  },
  {
   "cell_type": "code",
   "execution_count": 62,
   "metadata": {
    "collapsed": false
   },
   "outputs": [
    {
     "data": {
      "text/plain": [
       "['abefrper',\n",
       " 'ahmonin',\n",
       " 'ahmonin',\n",
       " 'ahtagin',\n",
       " 'ahtagin',\n",
       " 'ap24_is88',\n",
       " 'ap24_klas',\n",
       " 'ap26_nace',\n",
       " 'apinda1',\n",
       " 'apinda2']"
      ]
     },
     "execution_count": 62,
     "metadata": {},
     "output_type": "execute_result"
    }
   ],
   "source": [
    "sorted(variables)[:10]"
   ]
  },
  {
   "cell_type": "markdown",
   "metadata": {},
   "source": [
    "##### limiting to intersection of variable names"
   ]
  },
  {
   "cell_type": "code",
   "execution_count": 53,
   "metadata": {
    "collapsed": false
   },
   "outputs": [
    {
     "data": {
      "text/plain": [
       "1607"
      ]
     },
     "execution_count": 53,
     "metadata": {},
     "output_type": "execute_result"
    }
   ],
   "source": [
    "onlyonce = list(set(variables))\n",
    "len(onlyonce)"
   ]
  },
  {
   "cell_type": "code",
   "execution_count": 54,
   "metadata": {
    "collapsed": false
   },
   "outputs": [
    {
     "data": {
      "text/plain": [
       "['abefrper',\n",
       " 'ahmonin',\n",
       " 'ahtagin',\n",
       " 'ap24_is88',\n",
       " 'ap24_klas',\n",
       " 'ap26_nace',\n",
       " 'apinda1',\n",
       " 'apinda2',\n",
       " 'apinta',\n",
       " 'befrper']"
      ]
     },
     "execution_count": 54,
     "metadata": {},
     "output_type": "execute_result"
    }
   ],
   "source": [
    "sorted(onlyonce)[:10]"
   ]
  },
  {
   "cell_type": "markdown",
   "metadata": {},
   "source": [
    "#### Writing variable names to Output-File"
   ]
  },
  {
   "cell_type": "code",
   "execution_count": 218,
   "metadata": {
    "collapsed": false
   },
   "outputs": [],
   "source": [
    "# combined version with clonevar and rename commands\n",
    "with open('varnames.txt', 'wb') as f:\n",
    "    for var in onlyonce:\n",
    "        f.write(str(var)+'\\n')"
   ]
  },
  {
   "cell_type": "code",
   "execution_count": 57,
   "metadata": {
    "collapsed": true
   },
   "outputs": [],
   "source": [
    "# limited version containing only clonevar commands\n",
    "variables = []\n",
    "for i in os.listdir('.'):\n",
    "    with open(i, 'r') as f:    \n",
    "        data = f.read()\n",
    "        data = re.sub(r'(/\\*).*(\\*/)', r'', data)\n",
    "        clonevars = re.findall(r'clonevar\\s*(.*)\\s=', data)\n",
    "        # the syntax for rename is removed here\n",
    "        for i in clonevars:\n",
    "            variables.append(i)\n",
    "    "
   ]
  },
  {
   "cell_type": "code",
   "execution_count": 58,
   "metadata": {
    "collapsed": false
   },
   "outputs": [
    {
     "data": {
      "text/plain": [
       "['h4756',\n",
       " 'h4757',\n",
       " 'h4758',\n",
       " 'h4759',\n",
       " 'h4760',\n",
       " 'h4761',\n",
       " 'h4762',\n",
       " 'h4763',\n",
       " 'h4764',\n",
       " 'h4765']"
      ]
     },
     "execution_count": 58,
     "metadata": {},
     "output_type": "execute_result"
    }
   ],
   "source": [
    "sorted(variables[:10])"
   ]
  },
  {
   "cell_type": "code",
   "execution_count": 223,
   "metadata": {
    "collapsed": true
   },
   "outputs": [],
   "source": [
    "onlyonce = list(set(variables))\n",
    "with open('varnames_norename.txt', 'wb') as f:\n",
    "    for var in onlyonce:\n",
    "        f.write(str(var)+'\\n')"
   ]
  }
 ],
 "metadata": {
  "kernelspec": {
   "display_name": "Python 2",
   "language": "python",
   "name": "python2"
  },
  "language_info": {
   "codemirror_mode": {
    "name": "ipython",
    "version": 2
   },
   "file_extension": ".py",
   "mimetype": "text/x-python",
   "name": "python",
   "nbconvert_exporter": "python",
   "pygments_lexer": "ipython2",
   "version": "2.7.9"
  }
 },
 "nbformat": 4,
 "nbformat_minor": 0
}
