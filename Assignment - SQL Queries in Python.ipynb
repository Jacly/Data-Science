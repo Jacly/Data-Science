{
 "cells": [
  {
   "cell_type": "markdown",
   "metadata": {},
   "source": [
    "```` ..English translation in progress..````"
   ]
  },
  {
   "cell_type": "markdown",
   "metadata": {},
   "source": [
    "Die SQL Datenbank sowie die CSV-Datei für die Bearbeitung der nachfolgenden Aufgaben können [hier](https://www.dropbox.com/s/iislkxvmpklqqj5/sqlassignment_data.zip?dl=1) heruntergeladen werden."
   ]
  },
  {
   "cell_type": "markdown",
   "metadata": {},
   "source": [
    "# Aufgaben"
   ]
  },
  {
   "cell_type": "markdown",
   "metadata": {},
   "source": [
    "1. Stellen Sie eine Verbindung zur Datenbank (laender.db) her. Produzieren Sie jeweils eine Liste mit den Namen der Tabellen und den Namen der Spalten in den Tabellen, inklusive deren Datentypen. Erklären Sie kurz die Datentypen und deren Äquivalente in Python. Hinweis: In der SQLite Matertabelle finden Sie die entsprechenden Daten.\n",
    "2. Öffnen sie die Datei armutsgefahr.txt in Python und geben Sie den Inhalt als einen String wieder (Lösung muss keinen Output enthalten). Um welches Datenschemata handelt es sich hierbei am wahrscheinlichsten (Begründung)?\n",
    "3. Erzeugen Sie eine neue Tabelle in laender.db, mit dem Namen \"armutsgefahr\" und drei Spalten ('land', 'jahr', 'quote'). Befüllen Sie die Tabelle mit den entsprechenden Daten aus armutsgefahr.txt.\n",
    "4. Führen Sie eine SQL-Abfrage der Datenbank nach allen denjenigen Regierungschefs durch, an deren Reigierungen die SPD beteiligt ist. Grenzen Sie diese Abfrage in einem zweiten Schritt auf die alten Bundesländer ein.\n",
    "5. Produzieren Sie eine Abfrage, die folgende Elemente enthält: \n",
    "    * Das Stimmgewicht des jeweiligen Landes;\n",
    "    * Die absolute Differenz der Einwohnerzahl in der Tabelle laender_info und der Einwohnerzahl(gesamt) in der Tabelle migrationshintergrund_2013; \n",
    "    * Prozentualer Anteil der Personen mit Migrationshintergrund an der Gesamtbevölkerung (Tabelle: migrationshintergrund_2013);\n",
    "    * Eingegrenzt auf diejenigen Länder, die mehr als 200 Einwohner pro km$^2$ aber nicht mehr als 2000 haben;\n",
    "6. Ersetzen Sie sämtliche fehlenden Werte in der Spalte hauptstadt der Tabelle laender_info."
   ]
  },
  {
   "cell_type": "markdown",
   "metadata": {},
   "source": [
    "# Aufgabenbearbeitung"
   ]
  },
  {
   "cell_type": "markdown",
   "metadata": {},
   "source": [
    "## Teilaufgabe 1"
   ]
  },
  {
   "cell_type": "markdown",
   "metadata": {},
   "source": [
    "Um Informationen aus der SQLite-Datenbank extrahieren zu können werden zunächst das Arbeitsverzeichnis gewählt, das benötigte Programmpaket geladen sowie eine Verbindung zur Datenbank aufgebaut. Zur Ausführung von SQLite Befehlen muss zusätzlich ein Cursor Objekt erstellt werden.    "
   ]
  },
  {
   "cell_type": "code",
   "execution_count": 1,
   "metadata": {
    "collapsed": false
   },
   "outputs": [
    {
     "name": "stdout",
     "output_type": "stream",
     "text": [
      "E:\\Dropbox\\Soziologie Master\\Medium Data\\Aufgaben\\Aufgabe 1\n"
     ]
    }
   ],
   "source": [
    "%cd \"E:\\Dropbox\\Soziologie Master\\Medium Data\\Aufgaben\\Aufgabe 1\"\n",
    "import sqlite3\n",
    "\n",
    "conn = sqlite3.connect('laender.db')\n",
    "c = conn.cursor()"
   ]
  },
  {
   "cell_type": "markdown",
   "metadata": {},
   "source": [
    "Über die SQLite Mastertabelle werden die Tabellenbezeichnungen ausgegeben und in einer Liste gespeichert. Da die Bezeichnungen in Form von Tupeln vorliegen, wird die Liste zusätzlich bearbeitet, sodass anschließend gemäß der Aufgabenstellung nur noch die Strings für die Tabellennamen enthalten sind."
   ]
  },
  {
   "cell_type": "code",
   "execution_count": 2,
   "metadata": {
    "collapsed": false
   },
   "outputs": [
    {
     "name": "stdout",
     "output_type": "stream",
     "text": [
      "[u'laender_info', u'migrationshintergrund_2013']\n"
     ]
    }
   ],
   "source": [
    "tables = c.execute('''SELECT name FROM sqlite_master\\\n",
    "                      WHERE type='table' ''').fetchall()\n",
    "\n",
    "tables = [table[0] for table in tables]\n",
    "print tables"
   ]
  },
  {
   "cell_type": "markdown",
   "metadata": {},
   "source": [
    "Anschließend werden die Informationen zu den beiden Tabellen ausgelesen und über List-Comprehensions die jeweiligen Spaltenbezeichnungen inklusive deren Datentypen in Form von 2er-Tupeln in weitere Listen geschrieben."
   ]
  },
  {
   "cell_type": "code",
   "execution_count": 3,
   "metadata": {
    "collapsed": false
   },
   "outputs": [
    {
     "data": {
      "text/plain": [
       "[(0, u'index', u'INTEGER', 0, None, 0), (1, u'land', u'TEXT', 0, None, 0)]"
      ]
     },
     "execution_count": 3,
     "metadata": {},
     "output_type": "execute_result"
    }
   ],
   "source": [
    "countries = c.execute('''PRAGMA table_info(laender_info)''').fetchall()\n",
    "countries[:2]"
   ]
  },
  {
   "cell_type": "code",
   "execution_count": 4,
   "metadata": {
    "collapsed": false
   },
   "outputs": [
    {
     "data": {
      "text/plain": [
       "[(u'index', u'INTEGER'),\n",
       " (u'land', u'TEXT'),\n",
       " (u'kuerzel', u'TEXT'),\n",
       " (u'hauptstadt', u'TEXT'),\n",
       " (u'beitrittsdatum', u'INTEGER'),\n",
       " (u'regierungschef', u'TEXT'),\n",
       " (u'regierungspartei', u'TEXT'),\n",
       " (u'stimmgewicht', u'INTEGER'),\n",
       " (u'flaeche', u'INTEGER'),\n",
       " (u'einwohner_mio', u'REAL'),\n",
       " (u'einwohner_km2', u'INTEGER'),\n",
       " (u'auslaender', u'REAL'),\n",
       " (u'sprachen', u'TEXT')]"
      ]
     },
     "execution_count": 4,
     "metadata": {},
     "output_type": "execute_result"
    }
   ],
   "source": [
    "country_cols = [(col[1], col[2]) for col in countries]\n",
    "country_cols"
   ]
  },
  {
   "cell_type": "code",
   "execution_count": 5,
   "metadata": {
    "collapsed": false
   },
   "outputs": [
    {
     "data": {
      "text/plain": [
       "[(0, u'index', u'INTEGER', 0, None, 0), (1, u'land', u'TEXT', 0, None, 0)]"
      ]
     },
     "execution_count": 5,
     "metadata": {},
     "output_type": "execute_result"
    }
   ],
   "source": [
    "migration = c.execute('''PRAGMA table_info(migrationshintergrund_2013)''').fetchall()\n",
    "migration[:2]"
   ]
  },
  {
   "cell_type": "code",
   "execution_count": 6,
   "metadata": {
    "collapsed": false
   },
   "outputs": [
    {
     "data": {
      "text/plain": [
       "[(u'index', u'INTEGER'),\n",
       " (u'land', u'TEXT'),\n",
       " (u'insgesamt', u'INTEGER'),\n",
       " (u'ohne_mh', u'INTEGER'),\n",
       " (u'mit_mh', u'INTEGER')]"
      ]
     },
     "execution_count": 6,
     "metadata": {},
     "output_type": "execute_result"
    }
   ],
   "source": [
    "mig_cols = [(col[1], col[2]) for col in migration]\n",
    "mig_cols"
   ]
  },
  {
   "cell_type": "markdown",
   "metadata": {},
   "source": [
    "In einem weiteren Schritt werden die Listen mit den Tupeln der Spalteninformationen zu einer gemeinsamen Liste zusammengeschrieben. *Anmerkung*: Dieser Schritt hätte für effizienteren Code auch bereits in der vorherigen Aufbereitung durchgeführt werden können, wurde aus Übersichtsgründen aber erst an dieser Stelle ausgeführt."
   ]
  },
  {
   "cell_type": "code",
   "execution_count": 9,
   "metadata": {
    "collapsed": false
   },
   "outputs": [
    {
     "data": {
      "text/plain": [
       "[(u'index', u'INTEGER'),\n",
       " (u'land', u'TEXT'),\n",
       " (u'kuerzel', u'TEXT'),\n",
       " (u'hauptstadt', u'TEXT'),\n",
       " (u'beitrittsdatum', u'INTEGER'),\n",
       " (u'regierungschef', u'TEXT'),\n",
       " (u'regierungspartei', u'TEXT'),\n",
       " (u'stimmgewicht', u'INTEGER'),\n",
       " (u'flaeche', u'INTEGER'),\n",
       " (u'einwohner_mio', u'REAL'),\n",
       " (u'einwohner_km2', u'INTEGER'),\n",
       " (u'auslaender', u'REAL'),\n",
       " (u'sprachen', u'TEXT'),\n",
       " (u'index', u'INTEGER'),\n",
       " (u'land', u'TEXT'),\n",
       " (u'insgesamt', u'INTEGER'),\n",
       " (u'ohne_mh', u'INTEGER'),\n",
       " (u'mit_mh', u'INTEGER')]"
      ]
     },
     "execution_count": 9,
     "metadata": {},
     "output_type": "execute_result"
    }
   ],
   "source": [
    "table_cols = country_cols + mig_cols\n",
    "table_cols"
   ]
  },
  {
   "cell_type": "markdown",
   "metadata": {},
   "source": [
    "Innerhalb der Tabellen finden sich drei verschiedene Datentypen:\n",
    "\n",
    "* INTEGER: umfassen *ganze Zahlen* und entsprechen dem gleichnamigen Python Äquivalent. Je nach Länge der Zahl wird der Wert in Python allerdings möglicherweise ins *Long* Format konvertiert. \n",
    "* REAL: umfassen *Gleitkommazahlen* und entsprechen dem Python-Datentyp *float*. \n",
    "* TEXT: umfassen eine Abfolge von *Zeichen und/oder Symbolen* und entsprechen dem Python-Datentyp *String*. Als Standardeinstellung wird *Unicode-Enkodierung* verwendet."
   ]
  },
  {
   "cell_type": "markdown",
   "metadata": {},
   "source": [
    "## Teilaufgabe 2"
   ]
  },
  {
   "cell_type": "markdown",
   "metadata": {},
   "source": [
    "Zum Öffnen der Datei wird eine Verbindung mit dem Dateiobjekt im Lesemodus erstellt und der Inhalt des Objekts anschließend als Gesamtstring eingelesen. Zur Erkennung des Datenschemas wird anschließend ein Teil des Strings ausgegeben."
   ]
  },
  {
   "cell_type": "code",
   "execution_count": 23,
   "metadata": {
    "collapsed": false
   },
   "outputs": [
    {
     "name": "stdout",
     "output_type": "stream",
     "text": [
      "Bundesland\t2005\t2006\t2007\t2008\t2009\t2010\t2011\t2012\t2013\n",
      "Deutschland\t14.7\t14.0\t14.3\t14.4\t14.6\t14.5\t15.0\t15.0\t15.5\n",
      "Altes Bundesgebiet ohne Berlin\t13.2\t12.7\t12.9\t13.1\t13.3\t13.3\t13.8\t13.9\t14.4\n",
      "Neue Bundeslaender mit Berlin\t20.4\t19.2\t19.5\t19.5\t19.5\t19.0\t19.4\t19.6\t19.8\n",
      "Baden-Wuerttemberg\t10.6\t10.1\t10.0\t10.2\t10.9\t11.0\t11.1\t11.1\t11.4\n",
      "Bayern\t11.4\t10.9\t11.0\t10.8\t11.1\t10.8\t11.1\t11.0\t11.3\n",
      "Berlin\t19.7\t17.0\t17.\n"
     ]
    }
   ],
   "source": [
    "with open('armutsgefahr.txt', 'r') as f:\n",
    "    finput = f.read()\n",
    "    \n",
    "print finput[:400]"
   ]
  },
  {
   "cell_type": "markdown",
   "metadata": {},
   "source": [
    "Zwar sind die Informationen im Text-Format *.txt* abgespeichert, die Struktur der abgebildeten Daten lässt aber auf eine *.csv*-Formatierung  schließen. Im CSV (*Comma-Separated-Value*) Format wird mit Hilfe eines Delimiters zwischen verschiedenen Werten unterschieden. Gemäß der Bezeichnung des Formats werden hierfür häufig Kommata eingesetzt. Im hier vorliegenden Fall werden einzelne Werte jedoch über Tabulatoren abgegrenzt, sodass Zeilenumbrüche ** \\n ** Zeilen und  Tabulatoren ** \\t ** Spalten definieren."
   ]
  },
  {
   "cell_type": "markdown",
   "metadata": {},
   "source": [
    "## Teilaufgabe 3"
   ]
  },
  {
   "cell_type": "markdown",
   "metadata": {},
   "source": [
    "Die geforderte Tabelle wird zunächst in der Datenbank angelegt. Da zum Primärschlüssel der Tabelle keine Bedingungen definiert sind, wird dieser für die Aufgabe manuell festgelegt, generiert und integriert."
   ]
  },
  {
   "cell_type": "code",
   "execution_count": 5,
   "metadata": {
    "collapsed": false
   },
   "outputs": [
    {
     "data": {
      "text/plain": [
       "<sqlite3.Cursor at 0x3866730>"
      ]
     },
     "execution_count": 5,
     "metadata": {},
     "output_type": "execute_result"
    }
   ],
   "source": [
    "c.execute('''CREATE TABLE armutsgefahr\n",
    "             (pid INTEGER PRIMARY KEY,\n",
    "             land TEXT,\n",
    "              jahr INTEGER,\n",
    "              quote REAL)''')"
   ]
  },
  {
   "cell_type": "markdown",
   "metadata": {},
   "source": [
    "Um die Tabelle mit den Informationen Zu Land, Jahr und Armutsquote zu befüllen, müssen die Daten aus der Textdatei zunächst in einer verwertbaren Form in Python eingelesen werden. Wie vorher festgestellt wurde, liegen die Daten im *.csv* Format vor, weshalb ein entsprechender Reader verwendet werden kann der den Input zeilenweise in eine Liste schreibt."
   ]
  },
  {
   "cell_type": "code",
   "execution_count": 63,
   "metadata": {
    "collapsed": false
   },
   "outputs": [],
   "source": [
    "import csv\n",
    "import itertools\n",
    "\n",
    "data = []\n",
    "with open('armutzsgefahr.txt', 'r') as f:\n",
    "     reader = csv.reader(f, delimiter='\\t')\n",
    "     for row in reader:\n",
    "        data.append(row)"
   ]
  },
  {
   "cell_type": "markdown",
   "metadata": {},
   "source": [
    "Im nachfolgenden Codeblock werden mehrere Anpassungen der Datenstruktur durchgeführt. Zunächst werden einzeln Länder,Jahre und Armutsquote abgespeichert sowie ein Primärschlüssel festgelegt, dessen Wertemenge sich aus dem Produkt der Anzahl der Länder und der Anzahl der Jahre ergibt. Für jede Kombination ist demnach ein eindeutiger Primärschlüssel vorhanden.    \n",
    "Die Länder- und Jahresinformationen werden anschließend über ein Tupel des Produkts der beiden Listen und List-Comprehensions so aufbereitet, dass jedes Land neun mal (Anzahl der Jahre) und jedes Jahr 19 mal (Anzahl der Länder) vorliegt.   \n",
    "Anschließend können die Informationen über die zip-Funktion zusammengespielt werden."
   ]
  },
  {
   "cell_type": "code",
   "execution_count": null,
   "metadata": {
    "collapsed": false
   },
   "outputs": [],
   "source": [
    "laender = [row[0] for row in data[1:]]\n",
    "quote = [value for row in data[1:]for value in row[1:]]\n",
    "jahre = data[0][1:]\n",
    "pid = range(1, len(laender)*len(jahre)+1)\n",
    "\n",
    "tuples = list(itertools.product(laender,jahre))\n",
    "land_dup = [val[0] for val in tuples]\n",
    "jahr_dup = [val[1] for val in tuples]\n",
    "\n",
    "combined =zip(pid, land_dup, jahr_dup, quote)"
   ]
  },
  {
   "cell_type": "markdown",
   "metadata": {},
   "source": [
    "Der Nachfolgende Output zeigt zur Überprüfung die Längen der verwendeten Listen sowie einen Auszug aus den kombinierten Informationen."
   ]
  },
  {
   "cell_type": "code",
   "execution_count": 102,
   "metadata": {
    "collapsed": false
   },
   "outputs": [
    {
     "name": "stdout",
     "output_type": "stream",
     "text": [
      "19 9 171 171"
     ]
    },
    {
     "data": {
      "text/plain": [
       "[(1, 'Deutschland', '2005', '14.7'),\n",
       " (2, 'Deutschland', '2006', '14.0'),\n",
       " (3, 'Deutschland', '2007', '14.3'),\n",
       " (4, 'Deutschland', '2008', '14.4'),\n",
       " (5, 'Deutschland', '2009', '14.6'),\n",
       " (6, 'Deutschland', '2010', '14.5'),\n",
       " (7, 'Deutschland', '2011', '15.0'),\n",
       " (8, 'Deutschland', '2012', '15.0'),\n",
       " (9, 'Deutschland', '2013', '15.5'),\n",
       " (10, 'Altes Bundesgebiet ohne Berlin', '2005', '13.2'),\n",
       " (11, 'Altes Bundesgebiet ohne Berlin', '2006', '12.7')]"
      ]
     },
     "execution_count": 102,
     "metadata": {},
     "output_type": "execute_result"
    },
    {
     "name": "stdout",
     "output_type": "stream",
     "text": [
      "\n"
     ]
    }
   ],
   "source": [
    "print len(laender), len(jahre), len(laender) * len(jahre),  len(pid),\n",
    "combined[:11]"
   ]
  },
  {
   "cell_type": "markdown",
   "metadata": {},
   "source": [
    "Im letzten Schritt können die Daten direkt über die Zuspielung der kombinierten Liste in einer SQL-Abfrage in die Tabelle aufgenommen werden."
   ]
  },
  {
   "cell_type": "code",
   "execution_count": 98,
   "metadata": {
    "collapsed": false
   },
   "outputs": [
    {
     "data": {
      "text/plain": [
       "<sqlite3.Cursor at 0x3866730>"
      ]
     },
     "execution_count": 98,
     "metadata": {},
     "output_type": "execute_result"
    }
   ],
   "source": [
    "c.executemany('''INSERT INTO armutsgefahr VALUES (?,?,?,?)''', \n",
    "              combined)"
   ]
  },
  {
   "cell_type": "markdown",
   "metadata": {},
   "source": [
    "Zur Überprüfung wird hier noch einmal der Output aus der SQL-Tabelle ausgegeben, der sowohl mit den in Python aufbereiteten Daten als auch mit den Rohdaten aus der Textdatei übereinstimmt. Die Strings wurden bei der Integrierung automatisch in Unicode enkodiert."
   ]
  },
  {
   "cell_type": "code",
   "execution_count": 101,
   "metadata": {
    "collapsed": false
   },
   "outputs": [
    {
     "data": {
      "text/plain": [
       "[(1, u'Deutschland', 2005, 14.7),\n",
       " (2, u'Deutschland', 2006, 14.0),\n",
       " (3, u'Deutschland', 2007, 14.3),\n",
       " (4, u'Deutschland', 2008, 14.4),\n",
       " (5, u'Deutschland', 2009, 14.6),\n",
       " (6, u'Deutschland', 2010, 14.5),\n",
       " (7, u'Deutschland', 2011, 15.0),\n",
       " (8, u'Deutschland', 2012, 15.0),\n",
       " (9, u'Deutschland', 2013, 15.5),\n",
       " (10, u'Altes Bundesgebiet ohne Berlin', 2005, 13.2),\n",
       " (11, u'Altes Bundesgebiet ohne Berlin', 2006, 12.7)]"
      ]
     },
     "execution_count": 101,
     "metadata": {},
     "output_type": "execute_result"
    }
   ],
   "source": [
    "c.execute('''SELECT * FROM armutsgefahr''').fetchall()[:11]"
   ]
  },
  {
   "cell_type": "markdown",
   "metadata": {},
   "source": [
    "## Teilaufgabe 4"
   ]
  },
  {
   "cell_type": "markdown",
   "metadata": {},
   "source": [
    "Für die korrekte Abfrage müssen Informationen aus den Spalten *regierungschef*, *regierungspartei* und *land* aus der Tabelle *laender_info* zusammengespielt werden. Für den ersten Schritt wird hierfür der SQlite Befehl *LIKE* verwendet, mit dem innerhalb von Strings nach Substrings gesucht werden kann. Aus der Spalte *regierungspartei* können somit alle Einträge ausgewählt werden in denen sich der String \"*SPD*\" befindet."
   ]
  },
  {
   "cell_type": "code",
   "execution_count": 110,
   "metadata": {
    "collapsed": false
   },
   "outputs": [
    {
     "data": {
      "text/plain": [
       "[(u'Jens Boehrnsen (SPD)',),\n",
       " (u'Olaf Scholz (SPD)',),\n",
       " (u'Klaus Wowereit (SPD)',),\n",
       " (u'Stanislaw Tillich (CDU)',),\n",
       " (u'Reiner Haseloff (CDU)',),\n",
       " (u'Annegret Kramp-Karrenbauer (CDU)',),\n",
       " (u'Torsten Albig (SPD)',),\n",
       " (u'Bodo Ramelow (Die Linke)',),\n",
       " (u'Malu Dreyer (SPD)',),\n",
       " (u'Erwin Sellering (SPD)',),\n",
       " (u'Dietmar Woidke (SPD)',),\n",
       " (u'Hannelore Kraft (SPD)',),\n",
       " (u'Winfried Kretschmann (Gruene)',),\n",
       " (u'Stephan Weil (SPD)',)]"
      ]
     },
     "execution_count": 110,
     "metadata": {},
     "output_type": "execute_result"
    }
   ],
   "source": [
    "c.execute('''SELECT regierungschef FROM laender_info\n",
    "             WHERE regierungspartei LIKE '%SPD%' ''').fetchall()"
   ]
  },
  {
   "cell_type": "markdown",
   "metadata": {},
   "source": [
    "Für die zusätzliche Selektion nach Bundesregion wird zunächst eine Liste der neuen Bundesländer (Berlin eingeschlossen) angelegt. In der SQL Abfrage wird dann mit Hilfe von Platzhaltern auf diese Liste zurückgegriffen, um zusätzlich zur ersten Bedingung nur Regierungschefs ausgeben zu lassen, die **nicht** in den neuen Bundesländern regiert haben. Die Negierung ist hier effektiv, da mehr alte als neue Bundesländer vorhanden sind und das Anlegen einer Liste für alte Bundesländer mehr Code umfasst hätte."
   ]
  },
  {
   "cell_type": "code",
   "execution_count": 153,
   "metadata": {
    "collapsed": false
   },
   "outputs": [],
   "source": [
    "ost = ['Brandenburg', 'Berlin', 'Thueringen', 'Sachsen',\\\n",
    "       'Sachsen-Anhalt', 'Mecklenburg-Vorpommern']"
   ]
  },
  {
   "cell_type": "code",
   "execution_count": 154,
   "metadata": {
    "collapsed": false
   },
   "outputs": [
    {
     "data": {
      "text/plain": [
       "[(u'Jens Boehrnsen (SPD)',),\n",
       " (u'Olaf Scholz (SPD)',),\n",
       " (u'Annegret Kramp-Karrenbauer (CDU)',),\n",
       " (u'Torsten Albig (SPD)',),\n",
       " (u'Malu Dreyer (SPD)',),\n",
       " (u'Hannelore Kraft (SPD)',),\n",
       " (u'Winfried Kretschmann (Gruene)',),\n",
       " (u'Stephan Weil (SPD)',)]"
      ]
     },
     "execution_count": 154,
     "metadata": {},
     "output_type": "execute_result"
    }
   ],
   "source": [
    "c.execute('''SELECT regierungschef FROM laender_info \\\n",
    "             WHERE regierungspartei LIKE '%SPD%'\\\n",
    "             AND land NOT IN (?, ?, ?, ?, ?, ?) ''', ost).fetchall()"
   ]
  },
  {
   "cell_type": "markdown",
   "metadata": {},
   "source": [
    "##  Teilaufgabe 5"
   ]
  },
  {
   "cell_type": "markdown",
   "metadata": {},
   "source": [
    "Zunächst müssen zur Umsetzung der korrekten Abfrage die benötigten Spalten aus den beiden Tabellen ausfindig gemacht werden:\n",
    "\n",
    "    stimmgewicht    \n",
    "    insgesamt\n",
    "    ohne_mh    \n",
    "    mit_mh    \n",
    "    einwohner_mio    \n",
    "    einwohner_km2    "
   ]
  },
  {
   "cell_type": "markdown",
   "metadata": {},
   "source": [
    "Die nachfolgende Inspektion der Daten lässt vermuten, dass die Einwohnerzahl in der Tabelle *laender_info* in Millionen, in der Tabelle *migrationshintergrund_2013* allerdings in Tausend hinterlegt ist, was bei der Umsetzung der Abfrage entsprechend berücksichtigt wird."
   ]
  },
  {
   "cell_type": "code",
   "execution_count": 104,
   "metadata": {
    "collapsed": false
   },
   "outputs": [
    {
     "data": {
      "text/plain": [
       "[(u'Bremen', 3, 0.652, 655, 468, 187, 1576),\n",
       " (u'Hamburg', 3, 2.0, 1744, 1239, 504, 2366),\n",
       " (u'Berlin', 4, 3.0, 3396, 2493, 903, 3829),\n",
       " (u'Sachsen', 4, 4.0, 4044, 3854, 190, 225),\n",
       " (u'Sachsen-Anhalt', 4, 2.0, 2250, 2152, 97, 114),\n",
       " (u'Saarland', 3, 0.998, 992, 821, 172, 396),\n",
       " (u'Bayern', 6, 12.0, 12556, 9967, 2589, 178),\n",
       " (u'Schleswig-Holstein', 4, 3.0, 2810, 2458, 352, 179),\n",
       " (u'Thueringen', 4, 2.0, 2164, 2076, 88, 138),\n",
       " (u'Rheinland-Pfalz', 4, 4.0, 3991, 3168, 823, 202),\n",
       " (u'Hessen', 5, 6.0, 6029, 4351, 1678, 287),\n",
       " (u'Mecklenburg-Vorpommern', 3, 2.0, 1598, 1527, 71, 71),\n",
       " (u'Brandenburg', 4, 2.0, 2448, 2326, 123, 85),\n",
       " (u'Nordrhein-Westfalen', 6, 18.0, 17553, 13137, 4415, 523),\n",
       " (u'Baden-Wuerttemberg', 6, 11.0, 10599, 7644, 2955, 301),\n",
       " (u'Niedersachsen', 6, 8.0, 7784, 6393, 1391, 166)]"
      ]
     },
     "execution_count": 104,
     "metadata": {},
     "output_type": "execute_result"
    }
   ],
   "source": [
    "c.execute('''\n",
    "    SELECT laender_info.land, stimmgewicht, einwohner_mio, \\\n",
    "    insgesamt, ohne_mh, mit_mh, einwohner_km2 \\\n",
    "    FROM laender_info \\\n",
    "    NATURAL JOIN migrationshintergrund_2013 ''').fetchall()"
   ]
  },
  {
   "cell_type": "markdown",
   "metadata": {},
   "source": [
    "   \n",
    "Für die Abfrage wird ein *natural join* durchgeführt um die Informationen aus den beiden Tabellen über die Indizierung zusammenzuspielen. Neben der Eingrenzung nach Einwohnern pro km² wird für den prozentualen Anteil der Personen mit Migrationshintergrund zusätzlich der Datentyp eines Attributs durch die SQL-Funktion *cast* transformiert.    \n",
    "Für eine einfachere Zuordnung ist in der Abfrage neben den geforderten Elementen zusätzlich auch das jeweilige Land aufgeführt."
   ]
  },
  {
   "cell_type": "code",
   "execution_count": 26,
   "metadata": {
    "collapsed": false
   },
   "outputs": [
    {
     "data": {
      "text/plain": [
       "[(3, u'Bremen', 3.0, 0.28549618320610687),\n",
       " (4, u'Sachsen', 44.0, 0.046983184965380814),\n",
       " (3, u'Saarland', 6.0, 0.17338709677419356),\n",
       " (4, u'Rheinland-Pfalz', 9.0, 0.20621398145828113),\n",
       " (5, u'Hessen', 29.0, 0.2783214463426771),\n",
       " (6, u'Nordrhein-Westfalen', 447.0, 0.25152395601891414),\n",
       " (6, u'Baden-Wuerttemberg', 401.0, 0.27879988678177187)]"
      ]
     },
     "execution_count": 26,
     "metadata": {},
     "output_type": "execute_result"
    }
   ],
   "source": [
    "c.execute('''\n",
    "    SELECT stimmgewicht, laender_info.land, ABS(einwohner_mio * 1000 - insgesamt),\\\n",
    "    CAST(mit_mh AS REAL)/insgesamt from laender_info \\\n",
    "    NATURAL JOIN migrationshintergrund_2013 \\\n",
    "    WHERE einwohner_km2 > 200 AND einwohner_km2 <= 2000 \\ ''').fetchall()"
   ]
  },
  {
   "cell_type": "markdown",
   "metadata": {},
   "source": [
    "Auffällig sind hier insbesondere die hohen Differenzen der Einwohnerzahlen für Nordrhein-Westfalen und Baden-Wuerttemberg. Die oben dargestellte Dateninspektion lässt vermuten, dass die Differenzen sich aus Rundungen der Einwohnerzahlangaben in Millionen ergeben - der Datentyp *real* wurde hier nicht in Form von Nachkommastellen ausgenutzt."
   ]
  },
  {
   "cell_type": "markdown",
   "metadata": {},
   "source": [
    "## Teilaufgabe 6"
   ]
  },
  {
   "cell_type": "markdown",
   "metadata": {},
   "source": [
    "Zunächst werden die Einträge ausgemacht, in denen keine Informationen zur Hauptstadt vorhanden sind und in einer Liste abgespeichert."
   ]
  },
  {
   "cell_type": "code",
   "execution_count": 2,
   "metadata": {
    "collapsed": false
   },
   "outputs": [],
   "source": [
    "staedte = [stadt[0] for stadt in c.execute\\\n",
    "        ('''SELECT land FROM laender_info WHERE hauptstadt IS NULL ''')]"
   ]
  },
  {
   "cell_type": "code",
   "execution_count": 3,
   "metadata": {
    "collapsed": false
   },
   "outputs": [
    {
     "data": {
      "text/plain": [
       "[u'Hamburg', u'Berlin']"
      ]
     },
     "execution_count": 3,
     "metadata": {},
     "output_type": "execute_result"
    }
   ],
   "source": [
    "staedte"
   ]
  },
  {
   "cell_type": "markdown",
   "metadata": {},
   "source": [
    "Es handelt sich hier um die beiden Stadtstaaten *Berlin* und *Hamburg*, für welche die fehlenden Informationen direkt aus der Spalte *land* übernommen werden können. Die fehlenden Werte werden dementsprechend ersetzt.. "
   ]
  },
  {
   "cell_type": "code",
   "execution_count": 4,
   "metadata": {
    "collapsed": false
   },
   "outputs": [
    {
     "data": {
      "text/plain": [
       "<sqlite3.Cursor at 0x3899730>"
      ]
     },
     "execution_count": 4,
     "metadata": {},
     "output_type": "execute_result"
    }
   ],
   "source": [
    "## UPDATE TABLE\n",
    "c.executescript('''\n",
    "    UPDATE laender_info SET hauptstadt='Hamburg' \\\n",
    "    WHERE land =='Hamburg';\n",
    "    UPDATE laender_info SET hauptstadt='Berlin' \\\n",
    "    WHERE land =='Berlin' ''')"
   ]
  },
  {
   "cell_type": "markdown",
   "metadata": {},
   "source": [
    "..und die neuen Werte zuletzt über die Verwendung der zuvor generierten Liste ausgegeben."
   ]
  },
  {
   "cell_type": "code",
   "execution_count": 5,
   "metadata": {
    "collapsed": false
   },
   "outputs": [
    {
     "data": {
      "text/plain": [
       "[(u'Hamburg',), (u'Berlin',)]"
      ]
     },
     "execution_count": 5,
     "metadata": {},
     "output_type": "execute_result"
    }
   ],
   "source": [
    "c.execute('''SELECT hauptstadt FROM laender_info\\\n",
    "             WHERE land IN (?,?) ''', staedte).fetchall()"
   ]
  }
 ],
 "metadata": {
  "kernelspec": {
   "display_name": "Python 2",
   "language": "python",
   "name": "python2"
  },
  "language_info": {
   "codemirror_mode": {
    "name": "ipython",
    "version": 2
   },
   "file_extension": ".py",
   "mimetype": "text/x-python",
   "name": "python",
   "nbconvert_exporter": "python",
   "pygments_lexer": "ipython2",
   "version": "2.7.9"
  }
 },
 "nbformat": 4,
 "nbformat_minor": 0
}
