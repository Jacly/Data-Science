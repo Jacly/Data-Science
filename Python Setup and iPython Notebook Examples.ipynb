{
 "cells": [
  {
   "cell_type": "markdown",
   "metadata": {},
   "source": [
    "# First steps with Python"
   ]
  },
  {
   "cell_type": "markdown",
   "metadata": {},
   "source": [
    "This document is written for people who had little or no experience with Python yet and are looking for a simple entry point to install and use the programming language. After the setup introduction you will find some short examples which aim to show what can be done with a few lines of code. A small collection of further sources for learning the language or specific packages are listed at the end.\n",
    "\n",
    "Before using Python for the first time everything has to be set up correctly. While Python is preinstalled on many operating systems, most of the time you will need additional python-packages. Installing those packages by hand can be exhausting and time intensive especially for Windows users, which is why the use of a collective distribution is recommended. \n",
    "\n",
    "[Anaconda](https://store.continuum.io/cshop/anaconda/) is one example for a very good and widely used Python distribution.\n"
   ]
  },
  {
   "cell_type": "markdown",
   "metadata": {},
   "source": [
    "## Anaconda"
   ]
  },
  {
   "cell_type": "markdown",
   "metadata": {},
   "source": [
    "Anaconda includes the most important Python packages within one single installer which is available for all popular operating systems and automatically sets up <a href=\"http://en.wikipedia.org/wiki/Environment_variable\" target=\"_blank\">environment variables</a>, so that python can be started via the command line entry ```python``` in the <a href=\"http://en.wikipedia.org/wiki/Shell_(computing) \"target=\"_blank\">system-shell</a>."
   ]
  },
  {
   "cell_type": "markdown",
   "metadata": {},
   "source": [
    "![Alt Text](https://dl.dropboxusercontent.com/u/22352379/python3shell.PNG)"
   ]
  },
  {
   "cell_type": "markdown",
   "metadata": {},
   "source": [
    "#### Selecting the proper version"
   ]
  },
  {
   "cell_type": "markdown",
   "metadata": {},
   "source": [
    "At the moment two independent Python versions are available: Python 2 und Python 3. Python 3 offers some new features and did not inherit certain weaknesses of the old version (like <a href =\"http://en.wikipedia.org/wiki/Unicode\"target=\"_blank\">unicode</a> compability). By now most of the important python 2 packages have already been converted to Python 3. For this reason I would recommend you to install the Python 3 64-bit version of Anaconda."
   ]
  },
  {
   "cell_type": "markdown",
   "metadata": {},
   "source": [
    "#### After the installation"
   ]
  },
  {
   "cell_type": "markdown",
   "metadata": {},
   "source": [
    "If you allowed Anaconda to set up environment variables, Python and the corresponding packages can now be loaded via the system-shell. In case you need a package which is not included in Anaconda, you can install this package with using the paket manager <a href= \"https://pypi.python.org/pypi/pip\"target=\"_blank\">pip</a>. You only need to know under which name the package is registered. The following command installs the graphic package <a href =\"http://stanford.edu/~mwaskom/software/seaborn/\"target=\"_blank\">seaborn</a>."
   ]
  },
  {
   "cell_type": "markdown",
   "metadata": {},
   "source": [
    "```markdown\n",
    "pip install seaborn\n",
    "```"
   ]
  },
  {
   "cell_type": "markdown",
   "metadata": {},
   "source": [
    "While it is possible to work with python only by using the system shell, most people prefer specific development environments. One of these <a href =\"http://en.wikipedia.org/wiki/Integrated_development_environment\"target=\"_blank\">IDE</a>'s is included in the standard installation of Python, another one called Spyder is integrated in Anaconda. The IDE which most certainly contributed to a rising <a href =\"http://cacm.acm.org/blogs/blog-cacm/176450-python-is-now-the-most-popular-introductory-teaching-language-at-top-us-universities/fulltext\"target=\"_blank\">popularity</a> for Python within programming-courses is called <a href =\"http://ipython.org/notebook.html\"target=\"_blank\">iPython-Notebook</a>. At the moment the notebook environment is also being developed for other languages like R in the process of the <a href =\"https://jupyter.org/\"target=\"_blank\">Jupyter</a> project. iPython is now a part of this project and therefore notebooks are also often refered to as *jupyter notebooks*."
   ]
  },
  {
   "cell_type": "markdown",
   "metadata": {},
   "source": [
    "## iPython/Jupyter Notebook"
   ]
  },
  {
   "cell_type": "markdown",
   "metadata": {},
   "source": [
    "The iPython Notebook is a browser based, interactive programming interface for Python (this document is an example). Within iPython Notebooks you can execute code in real time, write text, show plots any many more things. Notebooks can then be saved and converted to different formats (<a href =\"http://nbconvert.readthedocs.org/en/latest/index.html#\"target=\"_blank\">e.g. Latex and PDF</a>). With only a little effort you are able to create publication-ready documents.    \n",
    "\n",
    "The display possibilities  are indeed so rich that entire interactive books have been written as iPython Notebooks. One example is the Introduction to Bayes-Statistics <a href =\"http://nbviewer.ipython.org/github/CamDavidsonPilon/Probabilistic-Programming-and-Bayesian-Methods-for-Hackers/blob/master/Prologue/Prologue.ipynb\"target=\"_blank\">Probabilistic Programming and\n",
    "Bayesian Methods for Hackers</a>. The link is refering to an HTML version of the notebook generated by the <a href = \"http://nbviewer.jupyter.org/\"target=\"_blank\">notebook-viewer</a>, but you can always download the notebook and add it to your own programming environment.    \n",
    "\n",
    "iPython and its notebook feature are already integrated in Anaconda. The next shell command will launch the Notebook:\n",
    "\n",
    "        jupyter notebook"
   ]
  },
  {
   "cell_type": "markdown",
   "metadata": {},
   "source": [
    "  \n",
    "  ![Alt Text](https://dl.dropboxusercontent.com/u/22352379/IpythonNotebook.png)"
   ]
  },
  {
   "cell_type": "markdown",
   "metadata": {},
   "source": [
    "Notebook files with the tag *.ipynb* can then be drawn into the environment oder simply be uploaded via **'click here'**. A new notebook can be started via **'New Notebook'**."
   ]
  },
  {
   "cell_type": "markdown",
   "metadata": {},
   "source": [
    "### Using Notebooks"
   ]
  },
  {
   "cell_type": "markdown",
   "metadata": {},
   "source": [
    "In the next part you will find some examples for using and shaping iPython Notebooks. However, the possibilities reach far beyond this short introduction. You can find additional options in the <a href =\"http://ipython.readthedocs.org/en/stable/\"target=\"_blank\">iPython documentation</a>."
   ]
  },
  {
   "cell_type": "markdown",
   "metadata": {},
   "source": [
    "#### Cells"
   ]
  },
  {
   "cell_type": "markdown",
   "metadata": {},
   "source": [
    "Notebooks are organized in successive cells. Depending on the type of the cell (which can be changed via the dropdown menu at the top) either text/media or code will be executed.    \n",
    "\n",
    "To navigate between cells you can use various keyboard-shortcuts, which can be found via the **help** slider.   \n",
    "\n",
    "Within a <a href =\"http://daringfireball.net/projects/markdown/\"target=\"_blank\">markdown</a> cell a ton of display forms can be implemented. Double-clicking a markdown cell enables to see and edit the corresponding code."
   ]
  },
  {
   "cell_type": "markdown",
   "metadata": {},
   "source": [
    "##### There are different font styles..."
   ]
  },
  {
   "cell_type": "markdown",
   "metadata": {},
   "source": [
    "\n",
    " - *Italic*\n",
    " - _Italic_\n",
    " - **Bold**\n",
    " - __Bold__\n",
    " - ~~Throught~~"
   ]
  },
  {
   "cell_type": "markdown",
   "metadata": {},
   "source": [
    "##### Lists.."
   ]
  },
  {
   "cell_type": "markdown",
   "metadata": {},
   "source": [
    "* One\n",
    "    - Sublist\n",
    "        - This\n",
    "  - Sublist\n",
    "        - That\n",
    "        - The other thing\n",
    "* Two\n",
    "  - Sublist\n",
    "* Three\n",
    "  - Sublist"
   ]
  },
  {
   "cell_type": "markdown",
   "metadata": {},
   "source": [
    "##### Quotations.."
   ]
  },
  {
   "cell_type": "markdown",
   "metadata": {},
   "source": [
    "> [Beautiful is better than ugly](http://legacy.python.org/dev/peps/pep-0020/).\n",
    "> Explicit is better than implicit.\n",
    "> Simple is better than complex.\n",
    "> Complex is better than complicated.\n",
    "> Flat is better than nested.\n",
    "> Sparse is better than dense.\n",
    "> Readability counts.\n",
    "> Special cases aren't special enough to break the rules.\n",
    "> Although practicality beats purity.\n",
    "> Errors should never pass silently.\n",
    "> Unless explicitly silenced.\n",
    "> In the face of ambiguity, refuse the temptation to guess.\n",
    "> There should be one-- and preferably only one --obvious way to do it.\n",
    "> Although that way may not be obvious at first unless you're Dutch.\n",
    "> Now is better than never.\n",
    "> Although never is often better than *right* now.\n",
    "> If the implementation is hard to explain, it's a bad idea.\n",
    "> If the implementation is easy to explain, it may be a good idea.\n",
    "> Namespaces are one honking great idea -- let's do more of those!"
   ]
  },
  {
   "cell_type": "markdown",
   "metadata": {},
   "source": [
    "##### HTML.."
   ]
  },
  {
   "cell_type": "markdown",
   "metadata": {},
   "source": [
    "<p>Almost any  <strong>HTML</strong> code can be <br /><i>displayed</i> flawlessly</p> \n",
    "\n",
    "\n",
    "<table>\n",
    "<tr>\n",
    "<th>Header 1</th>\n",
    "<th>Header 2</th>\n",
    "</tr>\n",
    "<tr>\n",
    "<td>row 1, cell 1</td>\n",
    "<td>row 1, cell 2</td>\n",
    "</tr>\n",
    "<tr>\n",
    "<td>row 2, cell 1</td>\n",
    "<td>row 2, cell 2</td>\n",
    "</tr>\n",
    "</table>"
   ]
  },
  {
   "cell_type": "markdown",
   "metadata": {},
   "source": [
    "##### Latex.."
   ]
  },
  {
   "cell_type": "markdown",
   "metadata": {},
   "source": [
    "\n",
    "$e^{i\\pi} + 1 = 0$ \n",
    "\n",
    "\n",
    "$$e^x=\\sum_{i=0}^\\infty \\frac{1}{i!}x^i$$\n",
    "\n",
    "- Alpha: $\\alpha A$\n",
    "- Beta: $\\beta B$\n",
    "- Gamma: $\\gamma \\Gamma$\n",
    "\n",
    "\n",
    "- $y = x + 5$\n",
    "- $y = x \\times 5$\n",
    "- $y = \\frac{x}{5}$"
   ]
  },
  {
   "cell_type": "markdown",
   "metadata": {},
   "source": [
    "##### Links.."
   ]
  },
  {
   "cell_type": "markdown",
   "metadata": {},
   "source": [
    "https://www.google.com\n",
    "\n",
    "[Google](https://www.google.com)\n",
    "\n",
    "[Google with tooltip](https://www.google.com \"Google's Homepage\")"
   ]
  },
  {
   "cell_type": "markdown",
   "metadata": {},
   "source": [
    "##### Images.."
   ]
  },
  {
   "cell_type": "markdown",
   "metadata": {},
   "source": [
    "![Alt Text](https://www.python.org/static/community_logos/python-logo-master-v3-TM.png \"Python Logo\")"
   ]
  },
  {
   "cell_type": "markdown",
   "metadata": {},
   "source": [
    "##### External pages.."
   ]
  },
  {
   "cell_type": "code",
   "execution_count": 1,
   "metadata": {
    "collapsed": false
   },
   "outputs": [
    {
     "data": {
      "text/html": [
       "<iframe src=https://en.wikipedia.org/wiki/Main_Page width=800 height=400></iframe>"
      ],
      "text/plain": [
       "<IPython.core.display.HTML object>"
      ]
     },
     "execution_count": 1,
     "metadata": {},
     "output_type": "execute_result"
    }
   ],
   "source": [
    "# This cell is not a markdown cell but a code cell in which python code can be executed.\n",
    "# Code cells can be commented with the use of '#'.\n",
    "\n",
    "from IPython.display import HTML\n",
    "# use import to load python packages\n",
    "HTML('<iframe src=https://en.wikipedia.org/wiki/Main_Page width=800 height=400></iframe>')"
   ]
  },
  {
   "cell_type": "markdown",
   "metadata": {},
   "source": [
    "##### And videos.."
   ]
  },
  {
   "cell_type": "code",
   "execution_count": 2,
   "metadata": {
    "collapsed": false
   },
   "outputs": [
    {
     "data": {
      "image/jpeg": "[encoded data removed]",
      "text/html": [
       "\n",
       "        <iframe\n",
       "            width=\"400\"\n",
       "            height=\"300\"\n",
       "            src=\"https://www.youtube.com/embed/cFrtpT1mKy8\"\n",
       "            frameborder=\"0\"\n",
       "            allowfullscreen\n",
       "        ></iframe>\n",
       "        "
      ],
      "text/plain": [
       "<IPython.lib.display.YouTubeVideo at 0x296f23ed668>"
      ]
     },
     "execution_count": 2,
     "metadata": {},
     "output_type": "execute_result"
    }
   ],
   "source": [
    "# You can not only load youtube videos but also locally stored media files.\n",
    "\n",
    "from IPython.display import YouTubeVideo \n",
    "YouTubeVideo('cFrtpT1mKy8')  \n",
    "\n",
    "# By the way: Python is not named after the famous snake!"
   ]
  },
  {
   "cell_type": "markdown",
   "metadata": {},
   "source": [
    "So you can use iPython-Notebooks to display texual elements, images and so on."
   ]
  },
  {
   "cell_type": "markdown",
   "metadata": {},
   "source": [
    "#### The most important feature however is the interactive use of program code within code cells:"
   ]
  },
  {
   "cell_type": "code",
   "execution_count": null,
   "metadata": {
    "collapsed": false
   },
   "outputs": [],
   "source": [
    "# The next part contains some small examples to show what is possible with just a few lines of Python code."
   ]
  },
  {
   "cell_type": "code",
   "execution_count": 1,
   "metadata": {
    "collapsed": false
   },
   "outputs": [
    {
     "data": {
      "text/plain": [
       "5"
      ]
     },
     "execution_count": 1,
     "metadata": {},
     "output_type": "execute_result"
    }
   ],
   "source": [
    "# Numbers\n",
    "\n",
    "10 / 2"
   ]
  },
  {
   "cell_type": "code",
   "execution_count": 8,
   "metadata": {
    "collapsed": false
   },
   "outputs": [
    {
     "data": {
      "text/plain": [
       "1337"
      ]
     },
     "execution_count": 8,
     "metadata": {},
     "output_type": "execute_result"
    }
   ],
   "source": [
    "34**2 + 181"
   ]
  },
  {
   "cell_type": "code",
   "execution_count": 10,
   "metadata": {
    "collapsed": false
   },
   "outputs": [
    {
     "data": {
      "text/plain": [
       "'This is a not a number.'"
      ]
     },
     "execution_count": 10,
     "metadata": {},
     "output_type": "execute_result"
    }
   ],
   "source": [
    "# Strings\n",
    "\n",
    "\"This is a not a number.\""
   ]
  },
  {
   "cell_type": "code",
   "execution_count": 38,
   "metadata": {
    "collapsed": false
   },
   "outputs": [
    {
     "data": {
      "text/plain": [
       "'hello there'"
      ]
     },
     "execution_count": 38,
     "metadata": {},
     "output_type": "execute_result"
    }
   ],
   "source": [
    "# Lists\n",
    "\n",
    "l = ['hello there', 1,5, 'spam', 94]\n",
    "l[0]"
   ]
  },
  {
   "cell_type": "code",
   "execution_count": 35,
   "metadata": {
    "collapsed": false
   },
   "outputs": [
    {
     "data": {
      "text/plain": [
       "1.0"
      ]
     },
     "execution_count": 35,
     "metadata": {},
     "output_type": "execute_result"
    }
   ],
   "source": [
    "# Dictionaries\n",
    "\n",
    "types = { 'string': '1', 'integer': 1, 'float': 1.0}\n",
    "types['float']"
   ]
  },
  {
   "cell_type": "code",
   "execution_count": 11,
   "metadata": {
    "collapsed": false
   },
   "outputs": [
    {
     "data": {
      "text/plain": [
       "1444.45"
      ]
     },
     "execution_count": 11,
     "metadata": {},
     "output_type": "execute_result"
    }
   ],
   "source": [
    "# Variables\n",
    "\n",
    "x = 2000.0\n",
    "x - 555.55"
   ]
  },
  {
   "cell_type": "code",
   "execution_count": 15,
   "metadata": {
    "collapsed": false
   },
   "outputs": [
    {
     "name": "stdout",
     "output_type": "stream",
     "text": [
      "16\n"
     ]
    }
   ],
   "source": [
    "# Functions\n",
    "\n",
    "g = lambda x: x**2\n",
    "print(g(4))"
   ]
  },
  {
   "cell_type": "code",
   "execution_count": 13,
   "metadata": {
    "collapsed": false
   },
   "outputs": [
    {
     "name": "stdout",
     "output_type": "stream",
     "text": [
      "[0, 1, 1, 2, 3, 5, 8, 13, 21, 34, 55, 89, 144, 233, 377, 610, 987, 1597, 2584, 4181, 6765]\n"
     ]
    }
   ],
   "source": [
    "# Fibonacci sequence as a function\n",
    "\n",
    "def fibonacci(z):\n",
    "    x,y = 0,1\n",
    "    l = []\n",
    "    while x < z:\n",
    "        l.append(x)\n",
    "        x, y = y, x + y     \n",
    "    return l\n",
    "\n",
    "print(fibonacci(10000))"
   ]
  },
  {
   "cell_type": "code",
   "execution_count": 4,
   "metadata": {
    "collapsed": true
   },
   "outputs": [],
   "source": [
    "# Plots\n",
    "\n",
    "%matplotlib inline\n",
    "import pandas as pd\n",
    "import seaborn as sns\n",
    "sns.set(style=\"white\")"
   ]
  },
  {
   "cell_type": "code",
   "execution_count": 1,
   "metadata": {
    "collapsed": false
   },
   "outputs": [
    {
     "data": {
      "image/png": "[encoded data removed]",
      "text/plain": [
       "<matplotlib.figure.Figure at 0x7f568e1dea20>"
      ]
     },
     "metadata": {},
     "output_type": "display_data"
    }
   ],
   "source": [
    "df = sns.load_dataset(\"anscombe\")\n",
    "sns.lmplot(x=\"x\", y=\"y\", col=\"dataset\", hue=\"dataset\", data=df,\n",
    "           col_wrap=2, ci=None, palette=\"muted\", size=4,\n",
    "           scatter_kws={\"s\": 50, \"alpha\": 1});"
   ]
  },
  {
   "cell_type": "code",
   "execution_count": 2,
   "metadata": {
    "collapsed": false
   },
   "outputs": [
    {
     "data": {
      "image/png": "[encoded data removed]",
      "text/plain": [
       "<matplotlib.figure.Figure at 0x7f568e1de198>"
      ]
     },
     "metadata": {},
     "output_type": "display_data"
    }
   ],
   "source": [
    "titanic = sns.load_dataset(\"titanic\")\n",
    "g = sns.factorplot(x=\"class\", y=\"survived\", hue=\"sex\", data=titanic,\n",
    "                   size=6, kind=\"bar\", palette=\"muted\")\n",
    "g.despine(left=True)\n",
    "g.set_ylabels(\"titanic - survival probability\");"
   ]
  },
  {
   "cell_type": "code",
   "execution_count": 3,
   "metadata": {
    "collapsed": false
   },
   "outputs": [
    {
     "data": {
      "image/png": "[encoded data removed]",
      "text/plain": [
       "<matplotlib.figure.Figure at 0x7f568b27e6a0>"
      ]
     },
     "metadata": {},
     "output_type": "display_data"
    }
   ],
   "source": [
    "tips = sns.load_dataset(\"tips\")\n",
    "sns.jointplot(x=\"total_bill\", y=\"tip\", data=tips, kind=\"reg\");"
   ]
  },
  {
   "cell_type": "code",
   "execution_count": 10,
   "metadata": {
    "collapsed": false
   },
   "outputs": [
    {
     "data": {
      "text/html": [
       "<div>\n",
       "<table border=\"1\" class=\"dataframe\">\n",
       "  <thead>\n",
       "    <tr style=\"text-align: right;\">\n",
       "      <th></th>\n",
       "      <th>A</th>\n",
       "      <th>B</th>\n",
       "      <th>C</th>\n",
       "      <th>D</th>\n",
       "    </tr>\n",
       "  </thead>\n",
       "  <tbody>\n",
       "    <tr>\n",
       "      <th>2014-01-01</th>\n",
       "      <td>-0.096645</td>\n",
       "      <td>0.235097</td>\n",
       "      <td>0.763849</td>\n",
       "      <td>0.038892</td>\n",
       "    </tr>\n",
       "    <tr>\n",
       "      <th>2014-01-02</th>\n",
       "      <td>0.051448</td>\n",
       "      <td>0.653894</td>\n",
       "      <td>0.961519</td>\n",
       "      <td>-1.222823</td>\n",
       "    </tr>\n",
       "    <tr>\n",
       "      <th>2014-01-03</th>\n",
       "      <td>-0.659892</td>\n",
       "      <td>-0.208087</td>\n",
       "      <td>1.178758</td>\n",
       "      <td>0.048706</td>\n",
       "    </tr>\n",
       "    <tr>\n",
       "      <th>2014-01-04</th>\n",
       "      <td>1.044162</td>\n",
       "      <td>-1.517962</td>\n",
       "      <td>0.520855</td>\n",
       "      <td>-0.029094</td>\n",
       "    </tr>\n",
       "    <tr>\n",
       "      <th>2014-01-05</th>\n",
       "      <td>-0.105185</td>\n",
       "      <td>-1.318362</td>\n",
       "      <td>-2.239050</td>\n",
       "      <td>-0.224289</td>\n",
       "    </tr>\n",
       "  </tbody>\n",
       "</table>\n",
       "</div>"
      ],
      "text/plain": [
       "                   A         B         C         D\n",
       "2014-01-01 -0.096645  0.235097  0.763849  0.038892\n",
       "2014-01-02  0.051448  0.653894  0.961519 -1.222823\n",
       "2014-01-03 -0.659892 -0.208087  1.178758  0.048706\n",
       "2014-01-04  1.044162 -1.517962  0.520855 -0.029094\n",
       "2014-01-05 -0.105185 -1.318362 -2.239050 -0.224289"
      ]
     },
     "execution_count": 10,
     "metadata": {},
     "output_type": "execute_result"
    }
   ],
   "source": [
    "# Data-Frames\n",
    "\n",
    "import numpy as np\n",
    "\n",
    "dates = pd.date_range('20140101',periods=5)\n",
    "df = pd.DataFrame(np.random.randn(5,4),index=dates,columns=list('ABCD'))\n",
    "\n",
    "df"
   ]
  },
  {
   "cell_type": "code",
   "execution_count": 17,
   "metadata": {
    "collapsed": false
   },
   "outputs": [
    {
     "data": {
      "text/html": [
       "<div style=\"max-height:1000px;max-width:1500px;overflow:auto;\">\n",
       "<table border=\"1\" class=\"dataframe\">\n",
       "  <thead>\n",
       "    <tr style=\"text-align: right;\">\n",
       "      <th></th>\n",
       "      <th>A</th>\n",
       "      <th>B</th>\n",
       "      <th>C</th>\n",
       "      <th>D</th>\n",
       "    </tr>\n",
       "  </thead>\n",
       "  <tbody>\n",
       "    <tr>\n",
       "      <th>count</th>\n",
       "      <td> 5.000000</td>\n",
       "      <td> 5.000000</td>\n",
       "      <td> 5.000000</td>\n",
       "      <td> 5.000000</td>\n",
       "    </tr>\n",
       "    <tr>\n",
       "      <th>mean</th>\n",
       "      <td>-0.113749</td>\n",
       "      <td> 0.200367</td>\n",
       "      <td>-0.656165</td>\n",
       "      <td> 0.234242</td>\n",
       "    </tr>\n",
       "    <tr>\n",
       "      <th>std</th>\n",
       "      <td> 0.778772</td>\n",
       "      <td> 2.033275</td>\n",
       "      <td> 0.873535</td>\n",
       "      <td> 0.872042</td>\n",
       "    </tr>\n",
       "    <tr>\n",
       "      <th>min</th>\n",
       "      <td>-0.776214</td>\n",
       "      <td>-2.524699</td>\n",
       "      <td>-2.063224</td>\n",
       "      <td>-1.004033</td>\n",
       "    </tr>\n",
       "    <tr>\n",
       "      <th>25%</th>\n",
       "      <td>-0.485327</td>\n",
       "      <td>-1.354499</td>\n",
       "      <td>-0.676476</td>\n",
       "      <td>-0.282626</td>\n",
       "    </tr>\n",
       "    <tr>\n",
       "      <th>50%</th>\n",
       "      <td>-0.423582</td>\n",
       "      <td> 1.255635</td>\n",
       "      <td>-0.515791</td>\n",
       "      <td> 0.461763</td>\n",
       "    </tr>\n",
       "    <tr>\n",
       "      <th>75%</th>\n",
       "      <td>-0.093735</td>\n",
       "      <td> 1.376570</td>\n",
       "      <td>-0.347435</td>\n",
       "      <td> 0.891361</td>\n",
       "    </tr>\n",
       "    <tr>\n",
       "      <th>max</th>\n",
       "      <td> 1.210115</td>\n",
       "      <td> 2.248828</td>\n",
       "      <td> 0.322101</td>\n",
       "      <td> 1.104748</td>\n",
       "    </tr>\n",
       "  </tbody>\n",
       "</table>\n",
       "</div>"
      ],
      "text/plain": [
       "              A         B         C         D\n",
       "count  5.000000  5.000000  5.000000  5.000000\n",
       "mean  -0.113749  0.200367 -0.656165  0.234242\n",
       "std    0.778772  2.033275  0.873535  0.872042\n",
       "min   -0.776214 -2.524699 -2.063224 -1.004033\n",
       "25%   -0.485327 -1.354499 -0.676476 -0.282626\n",
       "50%   -0.423582  1.255635 -0.515791  0.461763\n",
       "75%   -0.093735  1.376570 -0.347435  0.891361\n",
       "max    1.210115  2.248828  0.322101  1.104748"
      ]
     },
     "execution_count": 17,
     "metadata": {},
     "output_type": "execute_result"
    }
   ],
   "source": [
    "df.describe()"
   ]
  },
  {
   "cell_type": "code",
   "execution_count": 11,
   "metadata": {
    "collapsed": false
   },
   "outputs": [
    {
     "data": {
      "text/html": [
       "<div>\n",
       "<table border=\"1\" class=\"dataframe\">\n",
       "  <thead>\n",
       "    <tr style=\"text-align: right;\">\n",
       "      <th></th>\n",
       "      <th>Lottery</th>\n",
       "      <th>Literacy</th>\n",
       "      <th>Wealth</th>\n",
       "      <th>Region</th>\n",
       "    </tr>\n",
       "  </thead>\n",
       "  <tbody>\n",
       "    <tr>\n",
       "      <th>0</th>\n",
       "      <td>41</td>\n",
       "      <td>37</td>\n",
       "      <td>73</td>\n",
       "      <td>E</td>\n",
       "    </tr>\n",
       "    <tr>\n",
       "      <th>1</th>\n",
       "      <td>38</td>\n",
       "      <td>51</td>\n",
       "      <td>22</td>\n",
       "      <td>N</td>\n",
       "    </tr>\n",
       "    <tr>\n",
       "      <th>2</th>\n",
       "      <td>66</td>\n",
       "      <td>13</td>\n",
       "      <td>61</td>\n",
       "      <td>C</td>\n",
       "    </tr>\n",
       "    <tr>\n",
       "      <th>3</th>\n",
       "      <td>80</td>\n",
       "      <td>46</td>\n",
       "      <td>76</td>\n",
       "      <td>E</td>\n",
       "    </tr>\n",
       "    <tr>\n",
       "      <th>4</th>\n",
       "      <td>79</td>\n",
       "      <td>69</td>\n",
       "      <td>83</td>\n",
       "      <td>E</td>\n",
       "    </tr>\n",
       "  </tbody>\n",
       "</table>\n",
       "</div>"
      ],
      "text/plain": [
       "   Lottery  Literacy  Wealth Region\n",
       "0       41        37      73      E\n",
       "1       38        51      22      N\n",
       "2       66        13      61      C\n",
       "3       80        46      76      E\n",
       "4       79        69      83      E"
      ]
     },
     "execution_count": 11,
     "metadata": {},
     "output_type": "execute_result"
    }
   ],
   "source": [
    "import statsmodels.formula.api as sm\n",
    "\n",
    "url = \"http://vincentarelbundock.github.com/Rdatasets/csv/HistData/Guerry.csv\"\n",
    "df = pd.read_csv(url)\n",
    "df = df[['Lottery', 'Literacy', 'Wealth', 'Region']].dropna()\n",
    "df.head()"
   ]
  },
  {
   "cell_type": "code",
   "execution_count": 12,
   "metadata": {
    "collapsed": false
   },
   "outputs": [
    {
     "name": "stdout",
     "output_type": "stream",
     "text": [
      "                            OLS Regression Results                            \n",
      "==============================================================================\n",
      "Dep. Variable:                Lottery   R-squared:                       0.338\n",
      "Model:                            OLS   Adj. R-squared:                  0.287\n",
      "Method:                 Least Squares   F-statistic:                     6.636\n",
      "Date:                Mon, 22 Feb 2016   Prob (F-statistic):           1.07e-05\n",
      "Time:                        16:29:38   Log-Likelihood:                -375.30\n",
      "No. Observations:                  85   AIC:                             764.6\n",
      "Df Residuals:                      78   BIC:                             781.7\n",
      "Df Model:                           6                                         \n",
      "Covariance Type:            nonrobust                                         \n",
      "===============================================================================\n",
      "                  coef    std err          t      P>|t|      [95.0% Conf. Int.]\n",
      "-------------------------------------------------------------------------------\n",
      "Intercept      38.6517      9.456      4.087      0.000        19.826    57.478\n",
      "Region[T.E]   -15.4278      9.727     -1.586      0.117       -34.793     3.938\n",
      "Region[T.N]   -10.0170      9.260     -1.082      0.283       -28.453     8.419\n",
      "Region[T.S]    -4.5483      7.279     -0.625      0.534       -19.039     9.943\n",
      "Region[T.W]   -10.0913      7.196     -1.402      0.165       -24.418     4.235\n",
      "Literacy       -0.1858      0.210     -0.886      0.378        -0.603     0.232\n",
      "Wealth          0.4515      0.103      4.390      0.000         0.247     0.656\n",
      "==============================================================================\n",
      "Omnibus:                        3.049   Durbin-Watson:                   1.785\n",
      "Prob(Omnibus):                  0.218   Jarque-Bera (JB):                2.694\n",
      "Skew:                          -0.340   Prob(JB):                        0.260\n",
      "Kurtosis:                       2.454   Cond. No.                         371.\n",
      "==============================================================================\n",
      "\n",
      "Warnings:\n",
      "[1] Standard Errors assume that the covariance matrix of the errors is correctly specified.\n"
     ]
    }
   ],
   "source": [
    "# Statistical models used in the Social Sciences like OLS and Logit Regressions\n",
    "\n",
    "model = sm.ols(formula='Lottery ~ Literacy + Wealth + Region', data=df)\n",
    "res = model.fit()\n",
    "print(res.summary())"
   ]
  },
  {
   "cell_type": "code",
   "execution_count": null,
   "metadata": {
    "collapsed": true
   },
   "outputs": [],
   "source": [
    "# Text Analysis (on archived TED-Talks: https://www.ted.com/talks)\n",
    "\n",
    "import urllib\n",
    "import nltk\n",
    "import xml.etree.ElementTree as ET\n",
    "tedtalks =\"https://www.dropbox.com/s/9bl9b3m4yu726zq/ted_transcripts_en_jan2014.xml?dl=1\"\n",
    "with urllib.request.urlopen(tedtalks) as response, open('ted.xml', 'wb') as out_file:\n",
    "    data = response.read()\n",
    "    out_file.write(data)\n",
    "root = ET.parse('ted.xml').getroot()\n",
    "text = [file[1].text for file in root]\n",
    "string = \"\".join(text).lower()\n",
    "tokens = nltk.Text(nltk.word_tokenize(string))"
   ]
  },
  {
   "cell_type": "code",
   "execution_count": 16,
   "metadata": {
    "collapsed": false
   },
   "outputs": [
    {
     "name": "stdout",
     "output_type": "stream",
     "text": [
      "Displaying 15 of 407 matches:\n",
      "ong the way , we became a city of innovation . the shopping cart was invented \n",
      "is courageous , and brimming with innovation and scientific discovery , as is \n",
      "as experienced two major waves of innovation . first , the industrial revoluti\n",
      "ry day , because this new wave of innovation is bringing about new tools and a\n",
      "mportant point . this new wave of innovation is fundamentally changing the way\n",
      "e concerned about the impact that innovation might have on jobs . unemployment\n",
      ", and there is always a fear that innovation will destroy jobs . and innovatio\n",
      "nnovation will destroy jobs . and innovation is disruptive . but let me stress\n",
      " employment has gone up , because innovation is fundamentally about growth . i\n",
      "re people who argue that today 's innovation is all about social media and sil\n",
      " ever seen . human creativity and innovation have always propelled us forward \n",
      "e rewarding . and the new wave of innovation which is beginning to sweep throu\n",
      " color , both hotbeds of cultural innovation : think hip-hop and jazz . both a\n",
      "ented . in fact , he says , it 's innovation that will keep the west ahead of \n",
      "e a source , or a global hub , of innovation , just like it 's become a global\n"
     ]
    }
   ],
   "source": [
    "tokens.concordance(\"innovation\", lines=15)"
   ]
  },
  {
   "cell_type": "code",
   "execution_count": 31,
   "metadata": {
    "collapsed": false
   },
   "outputs": [
    {
     "name": "stdout",
     "output_type": "stream",
     "text": [
      "years ago; little bit; 've got; united states; 're going; new york;\n",
      "n't know; looks like; every single; even though; years old; could n't;\n",
      "every day; last year; n't want; climate change; human beings; first\n",
      "time; high school; san francisco\n"
     ]
    }
   ],
   "source": [
    "tokens.collocations()"
   ]
  },
  {
   "cell_type": "code",
   "execution_count": 5,
   "metadata": {
    "collapsed": false
   },
   "outputs": [
    {
     "data": {
      "image/png": "[encoded data removed]",
      "text/plain": [
       "<matplotlib.figure.Figure at 0x7fe20819dac8>"
      ]
     },
     "metadata": {},
     "output_type": "display_data"
    }
   ],
   "source": [
    "# Widgets in which program code can by changed via browser elements.\n",
    "# Widgets will only be displayed in an iPython Notebook and not in HTML versions of the notebook viewer.\n",
    "\n",
    "from IPython.html.widgets import interact\n",
    "import matplotlib.pyplot as plt\n",
    "import networkx as nx\n",
    "\n",
    "def random_lobster(n, m, k, p):\n",
    "    return nx.random_lobster(n, p, p / m)\n",
    "\n",
    "def powerlaw_cluster(n, m, k, p):\n",
    "    return nx.powerlaw_cluster_graph(n, m, p)\n",
    "\n",
    "def erdos_renyi(n, m, k, p):\n",
    "    return nx.erdos_renyi_graph(n, p)\n",
    "\n",
    "def newman_watts_strogatz(n, m, k, p):\n",
    "    return nx.newman_watts_strogatz_graph(n, k, p)\n",
    "\n",
    "def plot_random_graph(n, m, k, p, generator):\n",
    "    g = generator(n, m, k, p)\n",
    "    nx.draw(g)\n",
    "    plt.show()\n",
    "    \n",
    "interact(plot_random_graph, n=(2,30), m=(1,10), k=(1,10), p=(0.0, 1.0, 0.001),\n",
    "        generator={'lobster': random_lobster,\n",
    "                   'power law': powerlaw_cluster,\n",
    "                   'Newman-Watts-Strogatz': newman_watts_strogatz,\n",
    "                   u'ErdÅ‘s-RÃ©nyi': erdos_renyi,\n",
    "                   });"
   ]
  },
  {
   "cell_type": "markdown",
   "metadata": {},
   "source": [
    "<a href = \"https://github.com/ipython/ipython/wiki/A-gallery-of-interesting-IPython-Notebooks\"target=\"_blank\">and much more..</a>\n"
   ]
  },
  {
   "cell_type": "markdown",
   "metadata": {},
   "source": [
    "## Learning Python"
   ]
  },
  {
   "cell_type": "markdown",
   "metadata": {},
   "source": [
    "By now a huge selection of introduction literature for Python can be found. Many sources are available online for free - you don't necessarily have to buy books or video courses. Depending on your prefered way of learning you can take a look at a small collection of introductory material below."
   ]
  },
  {
   "cell_type": "markdown",
   "metadata": {},
   "source": [
    "##### E-Docs:"
   ]
  },
  {
   "cell_type": "markdown",
   "metadata": {},
   "source": [
    "[Think Python - How to think like a Computer Scientist](http://www.greenteapress.com/thinkpython/). \n",
    "\n",
    "An introductory book for python which also teaches basic knowledge in Computer Science."
   ]
  },
  {
   "cell_type": "markdown",
   "metadata": {},
   "source": [
    "[The Python Tutorial](https://docs.python.org/3/tutorial/index.html)\n",
    "\n",
    "The official Python tutorial."
   ]
  },
  {
   "cell_type": "markdown",
   "metadata": {},
   "source": [
    "##### MOOC's:"
   ]
  },
  {
   "cell_type": "markdown",
   "metadata": {},
   "source": [
    "[Intro to Computer Science - \n",
    "Build a Search Engine & a Social Network](https://www.udacity.com/course/cs101)\n",
    "\n",
    "A excellent, hands-on orientated video course for Python and Computer Science."
   ]
  },
  {
   "cell_type": "markdown",
   "metadata": {},
   "source": [
    "[An Introduction to Interactive Programming in Python](https://www.coursera.org/course/interactivepython)\n",
    "\n",
    "The Coursera pendant for *Intro to Computer Science*."
   ]
  },
  {
   "cell_type": "markdown",
   "metadata": {},
   "source": [
    "##### Other Sources:"
   ]
  },
  {
   "cell_type": "markdown",
   "metadata": {},
   "source": [
    "[Code-Academy](http://www.codecademy.com/)\n",
    "\n",
    "Interactive learning platform for different programming languages."
   ]
  },
  {
   "cell_type": "markdown",
   "metadata": {},
   "source": [
    "[The Python Challenge](http://www.pythonchallenge.com/)\n",
    "\n",
    "Online puzzle which has to be solved by using increasingly difficult tasks with Python."
   ]
  },
  {
   "cell_type": "markdown",
   "metadata": {},
   "source": [
    "[Kaggle - From Big Data to Big Analytics](http://www.kaggle.com/c/titanic-gettingStarted) \n",
    "\n",
    "Data Science portal which includes an introduction to machine learning. The site hosts (sometimes highly priced) online competitions for data analytic problems."
   ]
  },
  {
   "cell_type": "markdown",
   "metadata": {},
   "source": [
    "##### Finally, some links to popular Python packages for specific application areas:"
   ]
  },
  {
   "cell_type": "markdown",
   "metadata": {},
   "source": [
    "http://www.nltk.org/ - Natural Language Processing with Python.\n",
    "\n",
    "http://pandas.pydata.org/ - The Python alternative for statistic programs like R, Stata und SPSS.\n",
    "\n",
    "http://statsmodels.sourceforge.net/ - Another statistic packages which includes regression models.\n",
    "\n",
    "http://scikit-learn.org/stable/ - Machine Learning in Python. \n",
    "\n",
    "https://github.com/CamDavidsonPilon/lifelines - Survival Analysis in Python.\n",
    "\n",
    "https://networkx.github.io/ - (Social) Network Analysis in Python.\n",
    "\n",
    "http://www.crummy.com/software/BeautifulSoup/ - Web Scraping  in Python.\n",
    "\n",
    "http://www.pygame.org/news.html - Game Development in Python.\n",
    "\n",
    "http://kivy.org/#home - A Python package for programming multitouch-applications."
   ]
  },
  {
   "cell_type": "markdown",
   "metadata": {},
   "source": [
    " "
   ]
  },
  {
   "cell_type": "markdown",
   "metadata": {},
   "source": [
    "<br>\n",
    "<br>\n",
    "<br>\n",
    "<br>\n",
    "<br>\n",
    "<br> \n",
    "                \n",
    "                                                                 contact: carsten.schwemmer@uni-bamberg.de"
   ]
  }
 ],
 "metadata": {
  "anaconda-cloud": {},
  "kernelspec": {
   "display_name": "Python [default]",
   "language": "python",
   "name": "python3"
  },
  "language_info": {
   "codemirror_mode": {
    "name": "ipython",
    "version": 3
   },
   "file_extension": ".py",
   "mimetype": "text/x-python",
   "name": "python",
   "nbconvert_exporter": "python",
   "pygments_lexer": "ipython3",
   "version": "3.5.1"
  }
 },
 "nbformat": 4,
 "nbformat_minor": 0
}
