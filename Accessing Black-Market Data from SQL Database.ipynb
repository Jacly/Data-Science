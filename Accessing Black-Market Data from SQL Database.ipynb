{
 "cells": [
  {
   "cell_type": "markdown",
   "metadata": {},
   "source": [
    "This notebook demonstrates the connection to a SQL database for extracting information about black markets in the darknet. The data were gathered for the article [Traveling the Silk Road](http://arxiv.org/abs/1207.7139) and can be accessed here: [CyLab](https://arima.cylab.cmu.edu/sr/). While most of the data processing is done after converting the tables to DataFrames, it would also be possible to directly use SQL statements via Python."
   ]
  },
  {
   "cell_type": "markdown",
   "metadata": {},
   "source": [
    "####importing necessary packages"
   ]
  },
  {
   "cell_type": "code",
   "execution_count": 58,
   "metadata": {
    "collapsed": false
   },
   "outputs": [
    {
     "name": "stdout",
     "output_type": "stream",
     "text": [
      "/D/Dropbox/kasus/workspace\n"
     ]
    }
   ],
   "source": [
    "import pandas as pd\n",
    "import numpy as np\n",
    "import seaborn as sns\n",
    "sns.set(style = \"dark\", palette=\"Set2\")\n",
    "from sqlalchemy import create_engine\n",
    "%matplotlib inline\n",
    "%cd '/D/Dropbox/kasus/workspace'"
   ]
  },
  {
   "cell_type": "markdown",
   "metadata": {},
   "source": [
    "####loading user password and database name from a text file:"
   ]
  },
  {
   "cell_type": "code",
   "execution_count": 59,
   "metadata": {
    "collapsed": false
   },
   "outputs": [],
   "source": [
    "with open('mysqldata_2.txt', 'r') as f:\n",
    "        lines = f.read().split('\\n')\n",
    "        pw = lines[0]\n",
    "        db = lines[1]"
   ]
  },
  {
   "cell_type": "markdown",
   "metadata": {},
   "source": [
    "#### connecting to database, listing all tables"
   ]
  },
  {
   "cell_type": "code",
   "execution_count": 61,
   "metadata": {
    "collapsed": false
   },
   "outputs": [
    {
     "data": {
      "text/plain": [
       "[('feedback',), ('item',), ('price',)]"
      ]
     },
     "execution_count": 61,
     "metadata": {},
     "output_type": "execute_result"
    }
   ],
   "source": [
    "engine = create_engine(\"mysql+mysqldb://root:\" + pw + \"@localhost/\" + db + \"?charset=utf8&use_unicode=0\")\n",
    "conn = engine.connect()\n",
    "conn.execute('''SHOW TABLES''').fetchall()"
   ]
  },
  {
   "cell_type": "markdown",
   "metadata": {},
   "source": [
    "### Items"
   ]
  },
  {
   "cell_type": "markdown",
   "metadata": {},
   "source": [
    "Description:"
   ]
  },
  {
   "cell_type": "markdown",
   "metadata": {},
   "source": [
    "\n",
    "An <i>item</i> table which contains all items processed. This table has the following fields:\n",
    "<ul>\n",
    "        <li>\n",
    "        <i>item_id</i>: A <i>varchar(10)</i> field containing a hash of the corresponding Silk Road item handle. Note that this field is <b>not</b> the actual Silk Road item handle, but a hashed version of it. <b>You cannot directly map these handles with item handles currently used on the site.</b>\n",
    "        </li>\n",
    "        <li>\n",
    "        <i>seller</i>: A <i>varchar(10)</i> field containing a hash of \n",
    "        the corresponding Silk Road seller handle advertising the item. Note that this field is <b>not</b> the actual Silk Road seller handle, but a hashed version of it. <b>You cannot directly map these handles with seller handles currently in use on the site. </b>\n",
    "        </li>\n",
    "        <li>\n",
    "        <i>ships_to</i>: A <i>varchar(50)</i> field containing the advertised acceptable shipping destinations for the item.\n",
    "        </li>\n",
    "        <li>\n",
    "        <i>ships_from</i>: A <i>varchar(50)</i> field containing the advertised origin of the item.\n",
    "        <li>\n",
    "        <i>category</i>: An unsigned integer denoting the item category. A mapping between <i>category</i> and actual category names can be found in <a href=\"data/categories.csv\">this CSV file</a>.\n",
    "        </li>\n",
    "        <li>\n",
    "        <i>first_seen</i>: An unsigned integer representing the first time the crawler found the item on the site. This is expressed in UNIX epoch time. Note that <i>first_seen</i> is bound by the beginning of the measurement interval. \n",
    "        </li>\n",
    "        <li>\n",
    "        <i>last_seen</i> An unsigned integer representing the last time the crawler found the item on the site. This is expressed in UNIX epoch time. Note that <i>last_seen</i> is bound by the end of the measurement interval. \n",
    "        </li>\n",
    "        </ul>\n",
    "        </li>\n"
   ]
  },
  {
   "cell_type": "code",
   "execution_count": 27,
   "metadata": {
    "collapsed": false
   },
   "outputs": [
    {
     "data": {
      "text/plain": [
       "24385"
      ]
     },
     "execution_count": 27,
     "metadata": {},
     "output_type": "execute_result"
    }
   ],
   "source": [
    "item = pd.read_sql('item', engine)\n",
    "len(item)"
   ]
  },
  {
   "cell_type": "code",
   "execution_count": 28,
   "metadata": {
    "collapsed": false
   },
   "outputs": [
    {
     "data": {
      "text/html": [
       "<div style=\"max-height:1000px;max-width:1500px;overflow:auto;\">\n",
       "<table border=\"1\" class=\"dataframe\">\n",
       "  <thead>\n",
       "    <tr style=\"text-align: right;\">\n",
       "      <th></th>\n",
       "      <th>item_id</th>\n",
       "      <th>name</th>\n",
       "      <th>seller</th>\n",
       "      <th>ships_to</th>\n",
       "      <th>ships_from</th>\n",
       "      <th>category</th>\n",
       "      <th>description</th>\n",
       "      <th>first_seen</th>\n",
       "      <th>last_seen</th>\n",
       "    </tr>\n",
       "  </thead>\n",
       "  <tbody>\n",
       "    <tr>\n",
       "      <th>0</th>\n",
       "      <td> fdb3183653</td>\n",
       "      <td>    Social Engineering: The Art of Human Hacking</td>\n",
       "      <td> d6a92adda4</td>\n",
       "      <td> Worldwide</td>\n",
       "      <td> undeclared</td>\n",
       "      <td> 122</td>\n",
       "      <td>       Description:</td>\n",
       "      <td> 1328245275</td>\n",
       "      <td> 1343111718</td>\n",
       "    </tr>\n",
       "    <tr>\n",
       "      <th>1</th>\n",
       "      <td> 849b238ab7</td>\n",
       "      <td>             Big Brother and the Company Hackers</td>\n",
       "      <td> d6a92adda4</td>\n",
       "      <td> Worldwide</td>\n",
       "      <td> undeclared</td>\n",
       "      <td> 122</td>\n",
       "      <td> Description:&lt;br /&gt;</td>\n",
       "      <td> 1328242190</td>\n",
       "      <td> 1343120230</td>\n",
       "    </tr>\n",
       "    <tr>\n",
       "      <th>2</th>\n",
       "      <td> 788799659c</td>\n",
       "      <td> BSD Rootkits: An Introduction to Kernel Hacking</td>\n",
       "      <td> d6a92adda4</td>\n",
       "      <td> Worldwide</td>\n",
       "      <td> undeclared</td>\n",
       "      <td> 122</td>\n",
       "      <td> Description:&lt;br /&gt;</td>\n",
       "      <td> 1328242190</td>\n",
       "      <td> 1343111924</td>\n",
       "    </tr>\n",
       "  </tbody>\n",
       "</table>\n",
       "</div>"
      ],
      "text/plain": [
       "      item_id                                             name      seller  \\\n",
       "0  fdb3183653     Social Engineering: The Art of Human Hacking  d6a92adda4   \n",
       "1  849b238ab7              Big Brother and the Company Hackers  d6a92adda4   \n",
       "2  788799659c  BSD Rootkits: An Introduction to Kernel Hacking  d6a92adda4   \n",
       "\n",
       "    ships_to  ships_from  category         description  first_seen   last_seen  \n",
       "0  Worldwide  undeclared       122        Description:  1328245275  1343111718  \n",
       "1  Worldwide  undeclared       122  Description:<br />  1328242190  1343120230  \n",
       "2  Worldwide  undeclared       122  Description:<br />  1328242190  1343111924  "
      ]
     },
     "execution_count": 28,
     "metadata": {},
     "output_type": "execute_result"
    }
   ],
   "source": [
    "item.head(3)"
   ]
  },
  {
   "cell_type": "markdown",
   "metadata": {},
   "source": [
    "#### define function for the conversion of unix epoch time"
   ]
  },
  {
   "cell_type": "code",
   "execution_count": 9,
   "metadata": {
    "collapsed": false
   },
   "outputs": [],
   "source": [
    "import time\n",
    "def convert_time(string):\n",
    "    date = time.strftime('%m-%d-%Y', time.localtime(string))\n",
    "    return date"
   ]
  },
  {
   "cell_type": "code",
   "execution_count": 30,
   "metadata": {
    "collapsed": false
   },
   "outputs": [],
   "source": [
    "item.first_seen = item.first_seen.apply(convert_time)\n",
    "item.last_seen = item.last_seen.apply(convert_time)"
   ]
  },
  {
   "cell_type": "code",
   "execution_count": 31,
   "metadata": {
    "collapsed": false
   },
   "outputs": [
    {
     "data": {
      "text/html": [
       "<div style=\"max-height:1000px;max-width:1500px;overflow:auto;\">\n",
       "<table border=\"1\" class=\"dataframe\">\n",
       "  <thead>\n",
       "    <tr style=\"text-align: right;\">\n",
       "      <th></th>\n",
       "      <th>item_id</th>\n",
       "      <th>name</th>\n",
       "      <th>seller</th>\n",
       "      <th>ships_to</th>\n",
       "      <th>ships_from</th>\n",
       "      <th>category</th>\n",
       "      <th>description</th>\n",
       "      <th>first_seen</th>\n",
       "      <th>last_seen</th>\n",
       "    </tr>\n",
       "  </thead>\n",
       "  <tbody>\n",
       "    <tr>\n",
       "      <th>0</th>\n",
       "      <td> fdb3183653</td>\n",
       "      <td>    Social Engineering: The Art of Human Hacking</td>\n",
       "      <td> d6a92adda4</td>\n",
       "      <td> Worldwide</td>\n",
       "      <td> undeclared</td>\n",
       "      <td> 122</td>\n",
       "      <td>       Description:</td>\n",
       "      <td> 02-03-2012</td>\n",
       "      <td> 07-24-2012</td>\n",
       "    </tr>\n",
       "    <tr>\n",
       "      <th>1</th>\n",
       "      <td> 849b238ab7</td>\n",
       "      <td>             Big Brother and the Company Hackers</td>\n",
       "      <td> d6a92adda4</td>\n",
       "      <td> Worldwide</td>\n",
       "      <td> undeclared</td>\n",
       "      <td> 122</td>\n",
       "      <td> Description:&lt;br /&gt;</td>\n",
       "      <td> 02-03-2012</td>\n",
       "      <td> 07-24-2012</td>\n",
       "    </tr>\n",
       "    <tr>\n",
       "      <th>2</th>\n",
       "      <td> 788799659c</td>\n",
       "      <td> BSD Rootkits: An Introduction to Kernel Hacking</td>\n",
       "      <td> d6a92adda4</td>\n",
       "      <td> Worldwide</td>\n",
       "      <td> undeclared</td>\n",
       "      <td> 122</td>\n",
       "      <td> Description:&lt;br /&gt;</td>\n",
       "      <td> 02-03-2012</td>\n",
       "      <td> 07-24-2012</td>\n",
       "    </tr>\n",
       "  </tbody>\n",
       "</table>\n",
       "</div>"
      ],
      "text/plain": [
       "      item_id                                             name      seller  \\\n",
       "0  fdb3183653     Social Engineering: The Art of Human Hacking  d6a92adda4   \n",
       "1  849b238ab7              Big Brother and the Company Hackers  d6a92adda4   \n",
       "2  788799659c  BSD Rootkits: An Introduction to Kernel Hacking  d6a92adda4   \n",
       "\n",
       "    ships_to  ships_from  category         description  first_seen   last_seen  \n",
       "0  Worldwide  undeclared       122        Description:  02-03-2012  07-24-2012  \n",
       "1  Worldwide  undeclared       122  Description:<br />  02-03-2012  07-24-2012  \n",
       "2  Worldwide  undeclared       122  Description:<br />  02-03-2012  07-24-2012  "
      ]
     },
     "execution_count": 31,
     "metadata": {},
     "output_type": "execute_result"
    }
   ],
   "source": [
    "item.head(3)"
   ]
  },
  {
   "cell_type": "markdown",
   "metadata": {},
   "source": [
    "#### converting category ID's"
   ]
  },
  {
   "cell_type": "code",
   "execution_count": 32,
   "metadata": {
    "collapsed": false
   },
   "outputs": [
    {
     "data": {
      "text/html": [
       "<div style=\"max-height:1000px;max-width:1500px;overflow:auto;\">\n",
       "<table border=\"1\" class=\"dataframe\">\n",
       "  <thead>\n",
       "    <tr style=\"text-align: right;\">\n",
       "      <th></th>\n",
       "      <th>ids</th>\n",
       "      <th>categories</th>\n",
       "    </tr>\n",
       "  </thead>\n",
       "  <tbody>\n",
       "    <tr>\n",
       "      <th>0</th>\n",
       "      <td> 171, 186</td>\n",
       "      <td> Blotter</td>\n",
       "    </tr>\n",
       "    <tr>\n",
       "      <th>1</th>\n",
       "      <td> 204, 232</td>\n",
       "      <td>   6-APB</td>\n",
       "    </tr>\n",
       "    <tr>\n",
       "      <th>2</th>\n",
       "      <td> 211, 260</td>\n",
       "      <td>    Toys</td>\n",
       "    </tr>\n",
       "  </tbody>\n",
       "</table>\n",
       "</div>"
      ],
      "text/plain": [
       "        ids categories\n",
       "0  171, 186    Blotter\n",
       "1  204, 232      6-APB\n",
       "2  211, 260       Toys"
      ]
     },
     "execution_count": 32,
     "metadata": {},
     "output_type": "execute_result"
    }
   ],
   "source": [
    "cats = pd.read_csv('categories.csv', names = ['ids', 'categories'])\n",
    "cats.head(3)"
   ]
  },
  {
   "cell_type": "code",
   "execution_count": 33,
   "metadata": {
    "collapsed": false
   },
   "outputs": [],
   "source": [
    "dic = {}\n",
    "for row in cats.iterrows():\n",
    "    entries = row[1][0].split(',')\n",
    "    for entry in entries:\n",
    "        entry = entry.strip(\" \")\n",
    "        if entry not in dic:\n",
    "            dic[entry] = row[1][1]"
   ]
  },
  {
   "cell_type": "code",
   "execution_count": 34,
   "metadata": {
    "collapsed": false
   },
   "outputs": [],
   "source": [
    "def cat_mapper(x):\n",
    "    try: \n",
    "        x = dic[str(x)]\n",
    "    except KeyError:\n",
    "        x = None\n",
    "    return x"
   ]
  },
  {
   "cell_type": "code",
   "execution_count": 35,
   "metadata": {
    "collapsed": false
   },
   "outputs": [
    {
     "data": {
      "text/html": [
       "<div style=\"max-height:1000px;max-width:1500px;overflow:auto;\">\n",
       "<table border=\"1\" class=\"dataframe\">\n",
       "  <thead>\n",
       "    <tr style=\"text-align: right;\">\n",
       "      <th></th>\n",
       "      <th>item_id</th>\n",
       "      <th>name</th>\n",
       "      <th>seller</th>\n",
       "      <th>ships_to</th>\n",
       "      <th>ships_from</th>\n",
       "      <th>category</th>\n",
       "      <th>description</th>\n",
       "      <th>first_seen</th>\n",
       "      <th>last_seen</th>\n",
       "    </tr>\n",
       "  </thead>\n",
       "  <tbody>\n",
       "    <tr>\n",
       "      <th>0</th>\n",
       "      <td> fdb3183653</td>\n",
       "      <td>      Social Engineering: The Art of Human Hacking</td>\n",
       "      <td> d6a92adda4</td>\n",
       "      <td> Worldwide</td>\n",
       "      <td> undeclared</td>\n",
       "      <td>        Books</td>\n",
       "      <td>       Description:</td>\n",
       "      <td> 02-03-2012</td>\n",
       "      <td> 07-24-2012</td>\n",
       "    </tr>\n",
       "    <tr>\n",
       "      <th>1</th>\n",
       "      <td> 849b238ab7</td>\n",
       "      <td>               Big Brother and the Company Hackers</td>\n",
       "      <td> d6a92adda4</td>\n",
       "      <td> Worldwide</td>\n",
       "      <td> undeclared</td>\n",
       "      <td>        Books</td>\n",
       "      <td> Description:&lt;br /&gt;</td>\n",
       "      <td> 02-03-2012</td>\n",
       "      <td> 07-24-2012</td>\n",
       "    </tr>\n",
       "    <tr>\n",
       "      <th>2</th>\n",
       "      <td> 788799659c</td>\n",
       "      <td>   BSD Rootkits: An Introduction to Kernel Hacking</td>\n",
       "      <td> d6a92adda4</td>\n",
       "      <td> Worldwide</td>\n",
       "      <td> undeclared</td>\n",
       "      <td>        Books</td>\n",
       "      <td> Description:&lt;br /&gt;</td>\n",
       "      <td> 02-03-2012</td>\n",
       "      <td> 07-24-2012</td>\n",
       "    </tr>\n",
       "    <tr>\n",
       "      <th>3</th>\n",
       "      <td> 272924f991</td>\n",
       "      <td> Metamizole 2 x 500mg - Analgesic and Antipyretic </td>\n",
       "      <td> 7089b83448</td>\n",
       "      <td> Worldwide</td>\n",
       "      <td>     Canada</td>\n",
       "      <td>        Drugs</td>\n",
       "      <td>       Good day SR,</td>\n",
       "      <td> 02-03-2012</td>\n",
       "      <td> 03-06-2012</td>\n",
       "    </tr>\n",
       "    <tr>\n",
       "      <th>4</th>\n",
       "      <td> 06e58c7c73</td>\n",
       "      <td>             Celebrex 200mg x 20  - Pain Reliever </td>\n",
       "      <td> 7089b83448</td>\n",
       "      <td> Worldwide</td>\n",
       "      <td>     Canada</td>\n",
       "      <td> Prescription</td>\n",
       "      <td>            Hey SR,</td>\n",
       "      <td> 02-03-2012</td>\n",
       "      <td> 03-06-2012</td>\n",
       "    </tr>\n",
       "  </tbody>\n",
       "</table>\n",
       "</div>"
      ],
      "text/plain": [
       "      item_id                                               name      seller  \\\n",
       "0  fdb3183653       Social Engineering: The Art of Human Hacking  d6a92adda4   \n",
       "1  849b238ab7                Big Brother and the Company Hackers  d6a92adda4   \n",
       "2  788799659c    BSD Rootkits: An Introduction to Kernel Hacking  d6a92adda4   \n",
       "3  272924f991  Metamizole 2 x 500mg - Analgesic and Antipyretic   7089b83448   \n",
       "4  06e58c7c73              Celebrex 200mg x 20  - Pain Reliever   7089b83448   \n",
       "\n",
       "    ships_to  ships_from      category         description  first_seen  \\\n",
       "0  Worldwide  undeclared         Books        Description:  02-03-2012   \n",
       "1  Worldwide  undeclared         Books  Description:<br />  02-03-2012   \n",
       "2  Worldwide  undeclared         Books  Description:<br />  02-03-2012   \n",
       "3  Worldwide      Canada         Drugs        Good day SR,  02-03-2012   \n",
       "4  Worldwide      Canada  Prescription             Hey SR,  02-03-2012   \n",
       "\n",
       "    last_seen  \n",
       "0  07-24-2012  \n",
       "1  07-24-2012  \n",
       "2  07-24-2012  \n",
       "3  03-06-2012  \n",
       "4  03-06-2012  "
      ]
     },
     "execution_count": 35,
     "metadata": {},
     "output_type": "execute_result"
    }
   ],
   "source": [
    "item.category = item.category.apply(cat_mapper)\n",
    "item.head()"
   ]
  },
  {
   "cell_type": "markdown",
   "metadata": {},
   "source": [
    "####plotting the ten most common categories"
   ]
  },
  {
   "cell_type": "code",
   "execution_count": 36,
   "metadata": {
    "collapsed": false
   },
   "outputs": [],
   "source": [
    "order = list(item['category'].value_counts()[:10].index)\n",
    "item10 = item[item['category'].isin(order)]"
   ]
  },
  {
   "cell_type": "code",
   "execution_count": 37,
   "metadata": {
    "collapsed": false
   },
   "outputs": [
    {
     "data": {
      "text/plain": [
       "<seaborn.axisgrid.FacetGrid at 0x7f8c19aaa090>"
      ]
     },
     "execution_count": 37,
     "metadata": {},
     "output_type": "execute_result"
    },
    {
     "data": {
      "image/png": "[encoded data removed]",
      "text/plain": [
       "<matplotlib.figure.Figure at 0x7f8c19aaa210>"
      ]
     },
     "metadata": {},
     "output_type": "display_data"
    }
   ],
   "source": [
    "plot = sns.factorplot('category', data=item10, x_order=order, palette=\"PuBuGn_d\")\n",
    "plot.set_xticklabels(rotation=30)"
   ]
  },
  {
   "cell_type": "markdown",
   "metadata": {},
   "source": [
    "#### Exporting Items"
   ]
  },
  {
   "cell_type": "code",
   "execution_count": 38,
   "metadata": {
    "collapsed": false
   },
   "outputs": [],
   "source": [
    "item.to_csv('silkroad_items.csv')"
   ]
  },
  {
   "cell_type": "markdown",
   "metadata": {},
   "source": [
    " ``` The .csv-file``` can be downloaded [here](!https://www.dropbox.com/s/3g5mt2dvxl9lgki/silkroad_items.csv?dl=1) . [Download is deactivated at the moment since the files contains sensible information."
   ]
  },
  {
   "cell_type": "markdown",
   "metadata": {},
   "source": [
    "## Feedback"
   ]
  },
  {
   "cell_type": "markdown",
   "metadata": {},
   "source": [
    "Description:"
   ]
  },
  {
   "cell_type": "markdown",
   "metadata": {},
   "source": [
    "\n",
    "A <i>feedback</i> table which contains feedback on all items processed. This table has the following fields:\n",
    "<ul>\n",
    "        <li>\n",
    "        <i>item_id</i>: A <i>varchar(10)</i> field containing a hash of the corresponding Silk Road item handle. This corresponds to the handle in the <i>item</i> table. \n",
    "        </li>\n",
    "        <li>\n",
    "        <i>feedback_time</i>: An unsigned integer representing (an approximate value of) the time, in UNIX epoch time, at which the feedback was deposited.</li>\n",
    "        <li> \n",
    "        <i>feedback_rating</i>: A <i>smallint</i> representing the feedback rating that was given.\n",
    "        </li>\n",
    "        <li>\n",
    "        <i>feedback_hash</i>: A <i>varchar(32)</i> representing a hash of the text entered as feedback.\n",
    "        </li>\n",
    "</ul>\n"
   ]
  },
  {
   "cell_type": "code",
   "execution_count": 39,
   "metadata": {
    "collapsed": false
   },
   "outputs": [
    {
     "data": {
      "text/plain": [
       "184804"
      ]
     },
     "execution_count": 39,
     "metadata": {},
     "output_type": "execute_result"
    }
   ],
   "source": [
    "feedback = pd.read_sql('feedback', engine)\n",
    "len(feedback)"
   ]
  },
  {
   "cell_type": "code",
   "execution_count": 40,
   "metadata": {
    "collapsed": false
   },
   "outputs": [],
   "source": [
    "feedback.feedback_time = feedback.feedback_time.apply(convert_time)"
   ]
  },
  {
   "cell_type": "code",
   "execution_count": 41,
   "metadata": {
    "collapsed": false
   },
   "outputs": [
    {
     "data": {
      "text/html": [
       "<div style=\"max-height:1000px;max-width:1500px;overflow:auto;\">\n",
       "<table border=\"1\" class=\"dataframe\">\n",
       "  <thead>\n",
       "    <tr style=\"text-align: right;\">\n",
       "      <th></th>\n",
       "      <th>item_id</th>\n",
       "      <th>feedback_time</th>\n",
       "      <th>feedback_rating</th>\n",
       "      <th>feedback_text</th>\n",
       "      <th>feedback_hash</th>\n",
       "    </tr>\n",
       "  </thead>\n",
       "  <tbody>\n",
       "    <tr>\n",
       "      <th>0</th>\n",
       "      <td> fdb3183653</td>\n",
       "      <td> 11-05-2011</td>\n",
       "      <td> 5</td>\n",
       "      <td>                       Everything is a-ok</td>\n",
       "      <td> 512956b3447f053febb5736e38702013</td>\n",
       "    </tr>\n",
       "    <tr>\n",
       "      <th>1</th>\n",
       "      <td> fdb3183653</td>\n",
       "      <td> 02-03-2012</td>\n",
       "      <td> 5</td>\n",
       "      <td> Received link in seconds. Thanks warbot!</td>\n",
       "      <td> 6987bad465d9df6e77f1a4be5442b786</td>\n",
       "    </tr>\n",
       "    <tr>\n",
       "      <th>2</th>\n",
       "      <td> fdb3183653</td>\n",
       "      <td> 01-15-2012</td>\n",
       "      <td> 5</td>\n",
       "      <td>                       GREAT! Super Fast!</td>\n",
       "      <td> 209f5182885e4dfd2cef8279d902e370</td>\n",
       "    </tr>\n",
       "    <tr>\n",
       "      <th>3</th>\n",
       "      <td> fdb3183653</td>\n",
       "      <td> 01-15-2012</td>\n",
       "      <td> 5</td>\n",
       "      <td>                     awesome a+++++++++++</td>\n",
       "      <td> 0cfddc2ae20512d506ddc4c50a50f226</td>\n",
       "    </tr>\n",
       "    <tr>\n",
       "      <th>4</th>\n",
       "      <td> fdb3183653</td>\n",
       "      <td> 01-13-2012</td>\n",
       "      <td> 5</td>\n",
       "      <td>                    Super Quick Delivery!</td>\n",
       "      <td> f8924a31f7f62430430dcc6270809792</td>\n",
       "    </tr>\n",
       "  </tbody>\n",
       "</table>\n",
       "</div>"
      ],
      "text/plain": [
       "      item_id feedback_time  feedback_rating  \\\n",
       "0  fdb3183653    11-05-2011                5   \n",
       "1  fdb3183653    02-03-2012                5   \n",
       "2  fdb3183653    01-15-2012                5   \n",
       "3  fdb3183653    01-15-2012                5   \n",
       "4  fdb3183653    01-13-2012                5   \n",
       "\n",
       "                              feedback_text                     feedback_hash  \n",
       "0                        Everything is a-ok  512956b3447f053febb5736e38702013  \n",
       "1  Received link in seconds. Thanks warbot!  6987bad465d9df6e77f1a4be5442b786  \n",
       "2                        GREAT! Super Fast!  209f5182885e4dfd2cef8279d902e370  \n",
       "3                      awesome a+++++++++++  0cfddc2ae20512d506ddc4c50a50f226  \n",
       "4                     Super Quick Delivery!  f8924a31f7f62430430dcc6270809792  "
      ]
     },
     "execution_count": 41,
     "metadata": {},
     "output_type": "execute_result"
    }
   ],
   "source": [
    "feedback.head()"
   ]
  },
  {
   "cell_type": "markdown",
   "metadata": {},
   "source": [
    "#### Exporting Feedbacks:"
   ]
  },
  {
   "cell_type": "code",
   "execution_count": 42,
   "metadata": {
    "collapsed": false
   },
   "outputs": [],
   "source": [
    "feedback.to_csv('silkroad_feedback.csv')"
   ]
  },
  {
   "cell_type": "markdown",
   "metadata": {},
   "source": [
    "The ```.csv-Datei``` can be downloaded [here](https://www.dropbox.com/s/a1x37z6lofs04fm/silkroad_feedback.csv?dl=1)."
   ]
  },
  {
   "cell_type": "markdown",
   "metadata": {},
   "source": [
    "### Price"
   ]
  },
  {
   "cell_type": "markdown",
   "metadata": {},
   "source": [
    "Description:"
   ]
  },
  {
   "cell_type": "markdown",
   "metadata": {},
   "source": [
    " A <i>price</i> table containing the price of the items, with the following fields:\n",
    "        \n",
    "<ul>\n",
    "        <li>\n",
    "        <i>item_id</i>: A <i>varchar(10)</i> field containing a hash of the corresponding Silk Road item handle. This corresponds to the handle in the <i>item</i> (and <i>feedback</i>) table(s). \n",
    "        </li>\n",
    "        <li>\n",
    "        <i>price</i>: A <i>decimal(10,2) unsigned</i> representing the price in Bitcoin of the item as advertised at the time of parsing.\n",
    "        </li>\n",
    "        <li>\n",
    "        <i>time</i>: An unsigned integer representing the time (in UNIX epoch time) at which the price for that item was recorded.\n",
    "        </li>\n",
    "</ul>\n"
   ]
  },
  {
   "cell_type": "code",
   "execution_count": 62,
   "metadata": {
    "collapsed": false
   },
   "outputs": [
    {
     "data": {
      "text/plain": [
       "799312"
      ]
     },
     "execution_count": 62,
     "metadata": {},
     "output_type": "execute_result"
    }
   ],
   "source": [
    "price = pd.read_sql('price', engine)\n",
    "len(price)"
   ]
  },
  {
   "cell_type": "code",
   "execution_count": 7,
   "metadata": {
    "collapsed": false
   },
   "outputs": [
    {
     "data": {
      "text/html": [
       "<div style=\"max-height:1000px;max-width:1500px;overflow:auto;\">\n",
       "<table border=\"1\" class=\"dataframe\">\n",
       "  <thead>\n",
       "    <tr style=\"text-align: right;\">\n",
       "      <th></th>\n",
       "      <th>item_id</th>\n",
       "      <th>price</th>\n",
       "      <th>time</th>\n",
       "    </tr>\n",
       "  </thead>\n",
       "  <tbody>\n",
       "    <tr>\n",
       "      <th>0</th>\n",
       "      <td> fdb3183653</td>\n",
       "      <td> 0.10</td>\n",
       "      <td> 1328245275</td>\n",
       "    </tr>\n",
       "    <tr>\n",
       "      <th>1</th>\n",
       "      <td> fdb3183653</td>\n",
       "      <td> 0.10</td>\n",
       "      <td> 1328247767</td>\n",
       "    </tr>\n",
       "    <tr>\n",
       "      <th>2</th>\n",
       "      <td> 849b238ab7</td>\n",
       "      <td> 0.10</td>\n",
       "      <td> 1328242190</td>\n",
       "    </tr>\n",
       "    <tr>\n",
       "      <th>3</th>\n",
       "      <td> 788799659c</td>\n",
       "      <td> 0.16</td>\n",
       "      <td> 1328242190</td>\n",
       "    </tr>\n",
       "    <tr>\n",
       "      <th>4</th>\n",
       "      <td> 272924f991</td>\n",
       "      <td> 1.41</td>\n",
       "      <td> 1328241659</td>\n",
       "    </tr>\n",
       "  </tbody>\n",
       "</table>\n",
       "</div>"
      ],
      "text/plain": [
       "      item_id  price        time\n",
       "0  fdb3183653   0.10  1328245275\n",
       "1  fdb3183653   0.10  1328247767\n",
       "2  849b238ab7   0.10  1328242190\n",
       "3  788799659c   0.16  1328242190\n",
       "4  272924f991   1.41  1328241659"
      ]
     },
     "execution_count": 7,
     "metadata": {},
     "output_type": "execute_result"
    }
   ],
   "source": [
    "price.head()"
   ]
  },
  {
   "cell_type": "code",
   "execution_count": null,
   "metadata": {
    "collapsed": false
   },
   "outputs": [],
   "source": [
    "price.time = price.time.apply(convert_time) # Error due to size ==> iterative approach"
   ]
  },
  {
   "cell_type": "code",
   "execution_count": 47,
   "metadata": {
    "collapsed": false
   },
   "outputs": [],
   "source": [
    "price.time.fillna('nan', inplace=True)"
   ]
  },
  {
   "cell_type": "code",
   "execution_count": 50,
   "metadata": {
    "collapsed": false
   },
   "outputs": [
    {
     "name": "stdout",
     "output_type": "stream",
     "text": [
      "799311 1343099444.0\n",
      "799311 07-24-2012\n"
     ]
    }
   ],
   "source": [
    "from IPython.display import clear_output\n",
    "for i in price.index[703977:]:\n",
    "    print i, price.ix[i, 'time']\n",
    "    if price.ix[i, 'time'] != 'nan':\n",
    "        price.ix[i, 'time'] = convert_time(price.ix[i, 'time'])\n",
    "        print i, price.ix[i, 'time']\n",
    "    clear_output(wait=True)"
   ]
  },
  {
   "cell_type": "code",
   "execution_count": 51,
   "metadata": {
    "collapsed": false
   },
   "outputs": [
    {
     "data": {
      "text/html": [
       "<div style=\"max-height:1000px;max-width:1500px;overflow:auto;\">\n",
       "<table border=\"1\" class=\"dataframe\">\n",
       "  <thead>\n",
       "    <tr style=\"text-align: right;\">\n",
       "      <th></th>\n",
       "      <th>item_id</th>\n",
       "      <th>price</th>\n",
       "      <th>time</th>\n",
       "    </tr>\n",
       "  </thead>\n",
       "  <tbody>\n",
       "    <tr>\n",
       "      <th>0</th>\n",
       "      <td> fdb3183653</td>\n",
       "      <td> 0.10</td>\n",
       "      <td> 02-03-2012</td>\n",
       "    </tr>\n",
       "    <tr>\n",
       "      <th>1</th>\n",
       "      <td> fdb3183653</td>\n",
       "      <td> 0.10</td>\n",
       "      <td> 02-03-2012</td>\n",
       "    </tr>\n",
       "    <tr>\n",
       "      <th>2</th>\n",
       "      <td> 849b238ab7</td>\n",
       "      <td> 0.10</td>\n",
       "      <td> 02-03-2012</td>\n",
       "    </tr>\n",
       "    <tr>\n",
       "      <th>3</th>\n",
       "      <td> 788799659c</td>\n",
       "      <td> 0.16</td>\n",
       "      <td> 02-03-2012</td>\n",
       "    </tr>\n",
       "    <tr>\n",
       "      <th>4</th>\n",
       "      <td> 272924f991</td>\n",
       "      <td> 1.41</td>\n",
       "      <td> 02-03-2012</td>\n",
       "    </tr>\n",
       "  </tbody>\n",
       "</table>\n",
       "</div>"
      ],
      "text/plain": [
       "      item_id  price        time\n",
       "0  fdb3183653   0.10  02-03-2012\n",
       "1  fdb3183653   0.10  02-03-2012\n",
       "2  849b238ab7   0.10  02-03-2012\n",
       "3  788799659c   0.16  02-03-2012\n",
       "4  272924f991   1.41  02-03-2012"
      ]
     },
     "execution_count": 51,
     "metadata": {},
     "output_type": "execute_result"
    }
   ],
   "source": [
    "price.head()"
   ]
  },
  {
   "cell_type": "markdown",
   "metadata": {},
   "source": [
    "#### Exporting Price"
   ]
  },
  {
   "cell_type": "code",
   "execution_count": 52,
   "metadata": {
    "collapsed": false
   },
   "outputs": [],
   "source": [
    "price.to_csv('silkroad_price.csv')"
   ]
  },
  {
   "cell_type": "markdown",
   "metadata": {},
   "source": [
    "The ```.csv-file``` can be downloaded [here](https://www.dropbox.com/s/xbuk3j3zxzeadwe/silkroad_price.csv?dl=1)."
   ]
  },
  {
   "cell_type": "markdown",
   "metadata": {},
   "source": [
    "## Analysis\n",
    "\n",
    "work in progress"
   ]
  }
 ],
 "metadata": {
  "kernelspec": {
   "display_name": "Python 2",
   "language": "python",
   "name": "python2"
  },
  "language_info": {
   "codemirror_mode": {
    "name": "ipython",
    "version": 2
   },
   "file_extension": ".py",
   "mimetype": "text/x-python",
   "name": "python",
   "nbconvert_exporter": "python",
   "pygments_lexer": "ipython2",
   "version": "2.7.9"
  }
 },
 "nbformat": 4,
 "nbformat_minor": 0
}
