{
 "metadata": {
  "name": "",
  "signature": "sha256:a6d922a0cbf9d4efd27fb620282232d7d27ce438323328f0132d31bb9281b740"
 },
 "nbformat": 3,
 "nbformat_minor": 0,
 "worksheets": [
  {
   "cells": [
    {
     "cell_type": "heading",
     "level": 1,
     "metadata": {},
     "source": [
      "Quantitative Textanalyse mit Python"
     ]
    },
    {
     "cell_type": "markdown",
     "metadata": {},
     "source": [
      "Diese in Latex erstellte Druckversion eines IPython-Notebooks (http://ipython.org/) stellt ein einfaches Beispiel f\u00fcr die M\u00f6glichkeiten des \"Natural Language Processing\" (NLP) in der Programmiersprache Python dar. Zur Bearbeitung der ausgew\u00e4hlten Texte werden haupts\u00e4chlich Funktionen des \"Natural Language Toolkit\" verwendet.\n",
      "\n",
      "Als Einf\u00fchrungsliteratur zu NLP bieten sich folgende, online frei verf\u00fcgbare B\u00fccher an:\n",
      "\n",
      "- \tThink Python : http://www.greenteapress.com/thinkpython/thinkpython.html    \n",
      "-   Natural Language Processing with Python: http://www.nltk.org/book/\n"
     ]
    },
    {
     "cell_type": "heading",
     "level": 2,
     "metadata": {},
     "source": [
      "Textauswahl"
     ]
    },
    {
     "cell_type": "markdown",
     "metadata": {},
     "source": [
      "Als Text wurden die Transkripte aller TED-Talks (\"http://www.ted.com/talks/browse\") bis zum Januar 2014 ausgesucht. In diesen Vortr\u00e4gen berichten mitunter prominente K\u00fcnstler, Wissenschaftler und Unternehmer unterschiedlichster Fachrichtungen unter anderem \u00fcber ihre Ideen, Innovationen oder L\u00f6sungsans\u00e4tze zu Problemen.\n",
      "Die Vortr\u00e4ge sind f\u00fcr wissenschaftliche Zwecke auf der Web-Seite \"http://wit3.fbk.eu/\" f\u00fcr verschiedene Sprachen in Form von XML-Dateien verf\u00fcgbar. Insgesamt enth\u00e4lt die Sammlung Transkripte zu \u00fcber 1550 TED-Talks.\n",
      "Interessiert ist hier unter anderem, welches Vokabular von den Referenten besonders h\u00e4ufig verwendet wird."
     ]
    },
    {
     "cell_type": "heading",
     "level": 2,
     "metadata": {},
     "source": [
      "Vorbereitungen\n"
     ]
    },
    {
     "cell_type": "markdown",
     "metadata": {},
     "source": [
      "Zun\u00e4chst wird in das Arbeitsverzeichnis gewechselt und die erforderlichen Python-Bibliotheken importiert."
     ]
    },
    {
     "cell_type": "code",
     "collapsed": false,
     "input": [
      "# Verzeichniswechsel - hier wird der Pfad festgelegt\n",
      "# unter welchem die Texte abgespeichert sind\n",
      "%cd \"/media/Daten/Dropbox/Soziologie Master/Quantitative Textanalysen mit Python/Berichte/1. Bericht\"\n",
      "\n",
      "# Import von Bibliotheken\n",
      "import nltk\n",
      "from nltk.corpus import stopwords\n",
      "import codecs\n",
      "try: from xml.etree import cElementTree as ElementTree\n",
      "except ImportError: from xml.etree import ElementTree\n",
      "import matplotlib\n",
      "import numpy as np\n",
      "import matplotlib.pyplot as plt\n",
      "import csv\n",
      "\n",
      "# Plots innerhalb des iPython-Notebooks ausgeben\n",
      "%matplotlib inline "
     ],
     "language": "python",
     "metadata": {},
     "outputs": [
      {
       "output_type": "stream",
       "stream": "stdout",
       "text": [
        "/media/Daten/Dropbox/Soziologie Master/Quantitative Textanalysen mit Python/Berichte/1. Bericht\n"
       ]
      }
     ],
     "prompt_number": 1
    },
    {
     "cell_type": "heading",
     "level": 2,
     "metadata": {},
     "source": [
      "Einlesen der Ted Talks"
     ]
    },
    {
     "cell_type": "markdown",
     "metadata": {},
     "source": [
      "Hier werden die Ted Talks zun\u00e4chst als xml-Datei eingelesen und danach zu einem Gesamtstring konvertiert, in dem s\u00e4mtliche Texte enthalten sind."
     ]
    },
    {
     "cell_type": "code",
     "collapsed": false,
     "input": [
      "# Importieren der XML-Datei \n",
      "# verf\u00fcgbar unter \n",
      "# \"http://www.dropbox.com/s/9bl9b3m4yu726zq/ted_transcripts_en_jan2014.xml\"   \n",
      "import xml.etree.ElementTree as ET\n",
      "tree = ET.parse('ted_transcripts_en_jan2014.xml')\n",
      "root = tree.getroot()\n",
      "\n",
      "# Konvertierung in einen String f\u00fcr alle Texte\n",
      "text = [file[1].text for file in root]\n",
      "string = \"\".join(text)\n",
      "string = string.lower()"
     ],
     "language": "python",
     "metadata": {},
     "outputs": [],
     "prompt_number": 2
    },
    {
     "cell_type": "heading",
     "level": 2,
     "metadata": {},
     "source": [
      "Aufbereitung der Texte"
     ]
    },
    {
     "cell_type": "markdown",
     "metadata": {},
     "source": [
      "In diesem Teil wird die Sammlung an Texten f\u00fcr Analysen aufbereitet.Der Text wird zuerst tokenisiert, um aus dem gesamten String einzelne Segmente zu extrahieren, die weiterverarbeitet werden k\u00f6nnen. Hierbei werden zus\u00e4tzlich unn\u00f6tige Bestandteile (Whitespace) entfernt.\n",
      "Da in den Transkripten auch einige, inhaltlich nicht relevante Beitragskommentare enthalten sind, werden diese Kommentare entfernt.\n",
      "\n",
      "Anschlie\u00dfend werden semantisch bedeutungslose W\u00f6rter wie \"and\" oder \"I\" durch Verwendung einer Stoppw\u00f6rterbibliothek entfernt.\n",
      "Schlie\u00dflich kommt ein Stemmer zum Einsatz, der W\u00f6rter wie \"visited\", \"visits\", usw. auf ihren Wortstamm reduziert, sodass solche Begriffe mit der gleichen Bedeutung in den folgenden Analysen nicht als unterschiedliche W\u00f6rter f\u00fcr H\u00e4ufigkeitsverteilungen usw. gez\u00e4hlt werden."
     ]
    },
    {
     "cell_type": "code",
     "collapsed": false,
     "input": [
      "nltk.download()"
     ],
     "language": "python",
     "metadata": {},
     "outputs": []
    },
    {
     "cell_type": "code",
     "collapsed": false,
     "input": [
      "# Tokenisierung des Textes\n",
      "tokens = nltk.word_tokenize(string)\n",
      "\n",
      "# Entfernung unn\u00f6tiger Beitragskommentare aus den Transkripten\n",
      "garbage = [\"go)\", \"one\", \"applause\", \"laughter\", \"cheers\"]\n",
      "tokens = [word for word in tokens if word not in garbage]\n",
      "\n",
      "# Entfernung von Stoppw\u00f6rtern\n",
      "engstopwords = stopwords.words('english')\n",
      "sdwords = [token for token in tokens if token not in engstopwords]\n",
      "\n",
      "# Stemming\n",
      "porter = nltk.PorterStemmer()\n",
      "stemmer = [porter.stem(token) for token in sdwords]\n",
      "\n",
      "# Entfernung bedeutungsloser Tokens\n",
      "# identifiziert durch Analyse der H\u00e4ufigkeitsverteilung\n",
      "garbage2 = [\"go\", \"like\", \"peopl\", \"get\", \"think\", \"know\", \"thing\", \"see\",\n",
      "            \"would\", \"look\", \"realli\", \"want\", \"make\", \"year\", \"actual\", \n",
      "            \"time\", \"use\", \"say\", \"could\", \"way\", \"work\"]\n",
      "stemmer = [word for word in stemmer if word not in garbage2]\n",
      "\n",
      "# Ueberpruefen der Prozesse\n",
      "# Hier wird zuerst die Anzahl der W\u00f6rter in den Listen ueberprueft\n",
      "print len(tokens)\n",
      "print len(sdwords)\n",
      "print len(sdwords) / float(len(tokens))\n",
      "\n",
      "# Zur Kontrolle werden jeweils die ersten 10 Token Woerter ausgegeben\n",
      "print tokens [0:10]\n",
      "print sdwords [0:10]\n",
      "print stemmer [0:10]\n",
      "\n",
      "# NLTK Text erstellen\n",
      "# hier wurde auch ein nichtgestemmter Text mit Stoppwoertern fuer eine \n",
      "# lesefreundliche Ausgabe der unten folgenden Konkordanzanalyse angelegt\n",
      "tokens = nltk.Text(tokens)\n",
      "text = nltk.Text(stemmer)"
     ],
     "language": "python",
     "metadata": {},
     "outputs": []
    },
    {
     "cell_type": "heading",
     "level": 2,
     "metadata": {},
     "source": [
      "Textanalyse"
     ]
    },
    {
     "cell_type": "markdown",
     "metadata": {},
     "source": [
      "In diesem Abschnitt werden zun\u00e4chst einfache H\u00e4ufigkeitsverteilungen der im Text enthaltenen Tokens grafisch dargestellt. \n"
     ]
    },
    {
     "cell_type": "code",
     "collapsed": false,
     "input": [
      "# Haeufigkeitsverteilungen\n",
      "\n",
      "# absolute Haeufigkeit der 20 haeufigsten Tokens\n",
      "fdist = nltk.FreqDist([token for token in text if token.isalnum()])\n",
      "fdist.plot(30)"
     ],
     "language": "python",
     "metadata": {},
     "outputs": [
      {
       "metadata": {},
       "output_type": "display_data",
       "png": "[encoded data removed]",
       "text": [
        "<matplotlib.figure.Figure at 0x6b2d0b0>"
       ]
      }
     ],
     "prompt_number": 13
    },
    {
     "cell_type": "code",
     "collapsed": false,
     "input": [
      "# absolute Haeufigkeit der 20 haeufigsten Tokens mit mehr als 6 Zeichen\n",
      "# etwas interessanter: Begriffe wie \"technology\" und \"million\" werden haeufig verwendet\n",
      "fdist = nltk.FreqDist([token for token in text if token.isalnum() and len(token) > 6])\n",
      "fdist.plot(30)"
     ],
     "language": "python",
     "metadata": {},
     "outputs": [
      {
       "metadata": {},
       "output_type": "display_data",
       "png": "[encoded data removed]",
       "text": [
        "<matplotlib.figure.Figure at 0x141aaba8>"
       ]
      }
     ],
     "prompt_number": 6
    },
    {
     "cell_type": "markdown",
     "metadata": {},
     "source": [
      "Hier wird der Kontext \u00fcberpr\u00fcft, in dem der Token \"innovation\" innerhalb der TED-Talks vorkommt."
     ]
    },
    {
     "cell_type": "code",
     "collapsed": false,
     "input": [
      "# Wortkontext\n",
      "tokens.concordance(\"innovation\", lines=20)"
     ],
     "language": "python",
     "metadata": {},
     "outputs": [
      {
       "output_type": "stream",
       "stream": "stdout",
       "text": [
        "Building index...\n",
        "Displaying 20 of 318 matches:"
       ]
      },
      {
       "output_type": "stream",
       "stream": "stdout",
       "text": [
        "\n",
        "is courageous , and brimming with innovation and scientific discovery , as is \n",
        "ry day , because this new wave of innovation is bringing about new tools and a\n",
        "important point. this new wave of innovation is fundamentally changing the way\n",
        "e concerned about the impact that innovation might have on jobs. unemployment \n",
        ", and there is always a fear that innovation will destroy jobs. and innovation\n",
        "innovation will destroy jobs. and innovation is disruptive. but let me stress \n",
        " employment has gone up , because innovation is fundamentally about growth. it\n",
        "re people who argue that today 's innovation is all about social media and sil\n",
        "e ever seen. human creativity and innovation have always propelled us forward.\n",
        "re rewarding. and the new wave of innovation which is beginning to sweep throu\n",
        " color , both hotbeds of cultural innovation : think hip-hop and jazz. both ar\n",
        "vented. in fact , he says , it 's innovation that will keep the west ahead of \n",
        "e a source , or a global hub , of innovation , just like it 's become a global\n",
        "ice services to a destination for innovation ? '' they laughed. they dismissed\n",
        "e started examining the r & d and innovation labs of silicon valley. well , in\n",
        "are introduced to the head of the innovation lab or the r & d center as they m\n",
        "ne what is the level of corporate innovation in these cities. and what we foun\n",
        "aking a particular perspective on innovation , which is innovation for end use\n",
        "spective on innovation , which is innovation for end users , visible innovatio\n",
        "s , visible innovation. instead , innovation , if you remember , some of you m\n"
       ]
      }
     ],
     "prompt_number": 14
    },
    {
     "cell_type": "markdown",
     "metadata": {},
     "source": [
      "Die n\u00e4chste Analyse beinhaltet die Ausgabe von Wortpaaren, die ungew\u00f6hnlich h\u00e4ufig im Text vorkommen."
     ]
    },
    {
     "cell_type": "code",
     "collapsed": false,
     "input": [
      "# Bigramme\n",
      "text.collocations()"
     ],
     "language": "python",
     "metadata": {},
     "outputs": [
      {
       "output_type": "stream",
       "stream": "stdout",
       "text": [
        "thank you.; littl bit; year ago; 've got; unit state; thank much.; new\n",
        "york; n't know; look like; everi singl; even though; year ago.; like\n",
        "this.; around world; unit states.; could n't; one thing; 've seen;\n",
        "right now.; billion dollar\n"
       ]
      }
     ],
     "prompt_number": 9
    },
    {
     "cell_type": "markdown",
     "metadata": {},
     "source": [
      "Schlie\u00dflich wird noch die lexikalische Diversit\u00e4t der TED-Talks \u00fcberpr\u00fcft, indem der Quotient aus der Anzahl der unterschiedlichen Tokens und der Gesamtzahl der Tokens gebildet wird."
     ]
    },
    {
     "cell_type": "code",
     "collapsed": false,
     "input": [
      "# Lexikalische Diversitaet (Type-Token-Relation)\n",
      "def lexical_diversity(text):\n",
      "    return len(set(text)) / float(len(text))\n",
      "    \n",
      "print lexical_diversity(text)\n"
     ],
     "language": "python",
     "metadata": {},
     "outputs": [
      {
       "output_type": "stream",
       "stream": "stdout",
       "text": [
        "0.0291775583854\n"
       ]
      }
     ],
     "prompt_number": 10
    },
    {
     "cell_type": "heading",
     "level": 2,
     "metadata": {},
     "source": [
      "Speichern der Tokens"
     ]
    },
    {
     "cell_type": "markdown",
     "metadata": {},
     "source": [
      "Im letzten Abschnitt werden die Tokens in einer CSV-Datei abgespeichert. Es ist auch m\u00f6glich, verarbeitete Texte in ein f\u00fcr Datenanalysen \u00fcbliches Datensatzformat abzuspeichern. Die entsprechende Python-Bibiliothek f\u00fcr solche Data-Frames hei\u00dft pandas: http://pandas.pydata.org/"
     ]
    },
    {
     "cell_type": "code",
     "collapsed": false,
     "input": [
      "# Datei oeffnen\n",
      "talkfile = open(\"tedtalk_tokens.csv\", \"wb\")\n",
      "\n",
      "# Hilfsmethode f\u00fcr Unicode-Kodierung erstellen\n",
      "# da csv diese nicht unterstuetzt.\n",
      "def unicode_csv_reader(text, dialect=csv.excel, **kwargs):\n",
      "    csv_reader = csv.reader(utf_8_encoder(text),\n",
      "                            dialect=dialect, **kwargs)\n",
      "    for row in csv_reader:\n",
      "        yield [unicode(cell, 'utf-8') for cell in row]\n",
      "        \n",
      "# Uebertragung der Tokens in eine Datei\n",
      "# Jeder Token wird, getrennt mit einem Komma, in der csv-Datei abgespeichert\n",
      "wr = csv.writer(talkfile, quoting=csv.QUOTE_ALL)\n",
      "wr.writerow(str(unicode_csv_reader(text)))\n",
      "\n",
      "# Datei schlie\u00dfen\n",
      "talkfile.close()"
     ],
     "language": "python",
     "metadata": {},
     "outputs": [],
     "prompt_number": 7
    }
   ],
   "metadata": {}
  }
 ]
}